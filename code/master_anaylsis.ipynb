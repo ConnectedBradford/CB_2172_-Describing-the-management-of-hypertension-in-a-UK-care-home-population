{
 "cells": [
  {
   "cell_type": "markdown",
   "id": "f044ece2-769d-4aa8-be70-772fa0f6f026",
   "metadata": {
    "tags": []
   },
   "source": [
    "# Table 1"
   ]
  },
  {
   "cell_type": "markdown",
   "id": "b65d517e-44dd-422a-9045-da07a8cdff72",
   "metadata": {
    "tags": []
   },
   "source": [
    "## initial layout "
   ]
  },
  {
   "cell_type": "code",
   "execution_count": 2,
   "id": "a39a01d7-f8e5-4c40-a7c6-ccd869eafc2a",
   "metadata": {
    "collapsed": true,
    "jupyter": {
     "outputs_hidden": true
    },
    "tags": []
   },
   "outputs": [],
   "source": [
    "library(ggplot2)\n",
    "library(bigrquery)\n",
    "library(tidyverse)\n",
    "library(ggplot2)\n",
    "library(finalfit)\n",
    "library(lubridate)\n",
    "library(stats)\n",
    "\n",
    "ProjectId = \"yhcr-prd-phm-bia-core\"\n",
    "\n",
    "targetdb1 <-'yhcr-prd-phm-bia-core.CB_MYSPACE_MK'\n",
    "targetdb1 <-gsub(' ','',targetdb1)\n",
    "\n",
    "targetdb2 <- 'yhcr-prd-phm-bia-core.CB_FDM_DeathCertificates'\n",
    "targetdb2 <-gsub(' ','',targetdb2)\n",
    "\n",
    "targetdb3 <- 'yhcr-prd-phm-bia-core.CB_2172'\n",
    "targetdb3 <- gsub(' ','',targetdb3)\n"
   ]
  },
  {
   "cell_type": "code",
   "execution_count": 3,
   "id": "a6291100-ae32-4021-98d2-075f27de00ee",
   "metadata": {
    "collapsed": true,
    "jupyter": {
     "outputs_hidden": true
    },
    "tags": []
   },
   "outputs": [
    {
     "name": "stdout",
     "output_type": "stream",
     "text": [
      "\u001b[90m# A tibble: 1,998 × 30\u001b[39m\n",
      "   age_admission person_id first_episodestartdate last_episodestopdate\n",
      "           \u001b[3m\u001b[90m<int>\u001b[39m\u001b[23m     \u001b[3m\u001b[90m<int>\u001b[39m\u001b[23m \u001b[3m\u001b[90m<dttm>\u001b[39m\u001b[23m                 \u001b[3m\u001b[90m<dttm>\u001b[39m\u001b[23m              \n",
      "\u001b[90m 1\u001b[39m            92      \u001b[4m2\u001b[24m355 2018-01-03 \u001b[90m00:00:00\u001b[39m    2019-08-04 \u001b[90m00:00:00\u001b[39m \n",
      "\u001b[90m 2\u001b[39m            91     \u001b[4m3\u001b[24m\u001b[4m0\u001b[24m746 2017-07-28 \u001b[90m00:00:00\u001b[39m    2018-01-27 \u001b[90m00:00:00\u001b[39m \n",
      "\u001b[90m 3\u001b[39m            87     \u001b[4m7\u001b[24m\u001b[4m6\u001b[24m037 2017-11-01 \u001b[90m00:00:00\u001b[39m    2019-09-24 \u001b[90m00:00:00\u001b[39m \n",
      "\u001b[90m 4\u001b[39m            86     \u001b[4m8\u001b[24m\u001b[4m1\u001b[24m564 2017-11-28 \u001b[90m00:00:00\u001b[39m    2018-01-22 \u001b[90m00:00:00\u001b[39m \n",
      "\u001b[90m 5\u001b[39m            82    \u001b[4m1\u001b[24m\u001b[4m1\u001b[24m\u001b[4m1\u001b[24m197 2018-02-24 \u001b[90m00:00:00\u001b[39m    2019-04-23 \u001b[90m00:00:00\u001b[39m \n",
      "\u001b[90m 6\u001b[39m            94    \u001b[4m1\u001b[24m\u001b[4m4\u001b[24m\u001b[4m4\u001b[24m752 2017-08-03 \u001b[90m00:00:00\u001b[39m    2018-10-08 \u001b[90m00:00:00\u001b[39m \n",
      "\u001b[90m 7\u001b[39m            94    \u001b[4m1\u001b[24m\u001b[4m8\u001b[24m\u001b[4m6\u001b[24m499 2017-04-18 \u001b[90m00:00:00\u001b[39m    2018-01-04 \u001b[90m00:00:00\u001b[39m \n",
      "\u001b[90m 8\u001b[39m            88    \u001b[4m1\u001b[24m\u001b[4m9\u001b[24m\u001b[4m7\u001b[24m507 2016-12-20 \u001b[90m00:00:00\u001b[39m    2017-02-09 \u001b[90m00:00:00\u001b[39m \n",
      "\u001b[90m 9\u001b[39m            89    \u001b[4m2\u001b[24m\u001b[4m0\u001b[24m\u001b[4m7\u001b[24m865 2017-05-03 \u001b[90m00:00:00\u001b[39m    2017-12-19 \u001b[90m00:00:00\u001b[39m \n",
      "\u001b[90m10\u001b[39m           100    \u001b[4m2\u001b[24m\u001b[4m2\u001b[24m\u001b[4m4\u001b[24m481 2018-05-16 \u001b[90m00:00:00\u001b[39m    2019-04-13 \u001b[90m00:00:00\u001b[39m \n",
      "\u001b[90m# ℹ 1,988 more rows\u001b[39m\n",
      "\u001b[90m# ℹ 26 more variables: admission_service <chr>, finalisedPSR <chr>,\u001b[39m\n",
      "\u001b[90m#   admission_length <int>, birth_datetime <dttm>, death_datetime <dttm>,\u001b[39m\n",
      "\u001b[90m#   ethnicity_source_value <chr>, gender_source_value <chr>, imd <chr>,\u001b[39m\n",
      "\u001b[90m#   bmi <chr>, ckd_diagnosis <chr>, af_diagnosis <chr>, hf_diagnosis <chr>,\u001b[39m\n",
      "\u001b[90m#   smoking_status <chr>, chd_diagnosis <chr>, prev_stroke <chr>,\u001b[39m\n",
      "\u001b[90m#   diabetes_mellitus <chr>, fall_event <chr>, fall_date <dttm>, …\u001b[39m\n"
     ]
    }
   ],
   "source": [
    "sql1 <- \n",
    "paste(\n",
    "    'SELECT a.*,b.efi2, e.efall_value, datetime_diff(a.death_datetime,a.first_episodestartdate, DAY) as life_exp, p.no_medication from ',targetdb1,'.cb_2172_ch_cohort_final a \n",
    "left join ',targetdb1,'.cb_2172_efi2_value b on a.person_id = b.person_id \n",
    "left join ',targetdb1,'.efall_value e on a.person_id = e.person_id\n",
    "left join ',targetdb1,'.polypharmacy p on a.person_id = p.person_id\n",
    ";',sep=\"\")\n",
    "\n",
    "bp_tbl <-bq_project_query(ProjectId,sql1)\n",
    "bp_data <- bq_table_download(bp_tbl)\n",
    "\n",
    "print(bp_data)"
   ]
  },
  {
   "cell_type": "code",
   "execution_count": 4,
   "id": "e9e879bc-e16d-4f49-83f1-707fe2fb4b75",
   "metadata": {
    "collapsed": true,
    "jupyter": {
     "outputs_hidden": true
    },
    "tags": []
   },
   "outputs": [],
   "source": [
    "bp_data$service.factor <- as.factor(bp_data$admission_service)\n",
    "\n",
    "bp_data <- bp_data %>% select(-admission_service)"
   ]
  },
  {
   "cell_type": "code",
   "execution_count": 5,
   "id": "42313698-6068-4f40-8900-df2abc7b4901",
   "metadata": {
    "collapsed": true,
    "jupyter": {
     "outputs_hidden": true
    },
    "tags": []
   },
   "outputs": [],
   "source": [
    "bp_data$body_mass_index <- as.numeric(bp_data$bmi)\n",
    "\n",
    "bp_data <- bp_data %>% select(-bmi)"
   ]
  },
  {
   "cell_type": "code",
   "execution_count": 6,
   "id": "be40af07-1fc2-40d4-96b9-1c33bea783ac",
   "metadata": {
    "collapsed": true,
    "jupyter": {
     "outputs_hidden": true
    },
    "tags": []
   },
   "outputs": [],
   "source": [
    "bp_data$chronic_kidney_disease <- as.factor(bp_data$ckd_diagnosis)\n",
    "\n",
    "bp_data <- bp_data %>% select(-ckd_diagnosis)\n"
   ]
  },
  {
   "cell_type": "code",
   "execution_count": 7,
   "id": "f8601028-5390-4811-97b1-d6996f7ab3d7",
   "metadata": {
    "collapsed": true,
    "jupyter": {
     "outputs_hidden": true
    },
    "tags": []
   },
   "outputs": [],
   "source": [
    "bp_data$ethnicity.factor <- as.factor(bp_data$ethnicity_source_value)\n",
    "bp_data = bp_data %>% select(-ethnicity_source_value)"
   ]
  },
  {
   "cell_type": "code",
   "execution_count": 8,
   "id": "784fcef4-0bfb-4acc-84bb-0281337ddcb3",
   "metadata": {
    "collapsed": true,
    "jupyter": {
     "outputs_hidden": true
    },
    "tags": []
   },
   "outputs": [],
   "source": [
    "bp_data <- bp_data %>%\n",
    "  mutate(\n",
    "    ethnicity.final = fct_collapse(\n",
    "      ethnicity.factor,\n",
    "      \"White\" = c(\"White: English or Welsh or Scottish or Northern Irish or British - England and Wales ethnic category 2011 census\", \n",
    "                  \"White: Irish - England and Wales ethnic category 2011 census\",\"White:Any other White background\"),\n",
    "    \"Pakistani\" = \"Asian or Asian British: Pakistani - England and Wales ethnic category 2011 census\",\"Missing\" = \"Unknown/Refuse to say\",\n",
    "    other_level = \"DEPRECATED\")\n",
    "  )"
   ]
  },
  {
   "cell_type": "code",
   "execution_count": 9,
   "id": "5c1f689b-0f4a-465f-b617-1b649de459cf",
   "metadata": {
    "collapsed": true,
    "jupyter": {
     "outputs_hidden": true
    }
   },
   "outputs": [],
   "source": [
    "bp_data$death_date <- as_date(bp_data$death_datetime)\n",
    "bp_data <- bp_data %>% select(-death_datetime)"
   ]
  },
  {
   "cell_type": "code",
   "execution_count": 10,
   "id": "ddc8a1c2-937f-46fc-be67-8d345dccee5c",
   "metadata": {
    "collapsed": true,
    "jupyter": {
     "outputs_hidden": true
    }
   },
   "outputs": [],
   "source": [
    "bp_data$birth_date <- as_date(bp_data$birth_datetime)\n",
    "bp_data <- bp_data %>% select(-birth_datetime)"
   ]
  },
  {
   "cell_type": "code",
   "execution_count": 11,
   "id": "0b71e141-bf60-4b7b-963b-7f7062c24e3b",
   "metadata": {
    "collapsed": true,
    "jupyter": {
     "outputs_hidden": true
    },
    "tags": []
   },
   "outputs": [],
   "source": [
    "bp_data$previous_stroke <- as.factor(bp_data$prev_stroke)\n",
    "\n",
    "bp_data <- bp_data %>% select(-prev_stroke)"
   ]
  },
  {
   "cell_type": "code",
   "execution_count": 12,
   "id": "c7c1929f-bbdc-48d0-9da1-d41f621ed548",
   "metadata": {
    "collapsed": true,
    "jupyter": {
     "outputs_hidden": true
    },
    "tags": []
   },
   "outputs": [],
   "source": [
    "bp_data$gender <- as.factor(bp_data$gender_source_value)\n",
    "\n",
    "bp_data <- bp_data %>% select (-gender_source_value)"
   ]
  },
  {
   "cell_type": "code",
   "execution_count": 13,
   "id": "3e27c18f-9be9-4ece-a1c8-7ab85a6f002f",
   "metadata": {
    "collapsed": true,
    "jupyter": {
     "outputs_hidden": true
    }
   },
   "outputs": [],
   "source": [
    "bp_data<- bp_data %>%  mutate(imd.factor = factor(bp_data$imd)) %>% mutate(imd.quintile =\n",
    "           fct_collapse(imd.factor,\"1\" = c(\"1\",\"2\"),\n",
    "                      \"2\"  = c(\"4\",\"3\"),\n",
    "                       \"3\" = c(\"5\",\"6\"),\n",
    "                         \"4\" = c(\"7\",\"8\"),\n",
    "                         \"5\" = c(\"9\",\"10\")))"
   ]
  },
  {
   "cell_type": "code",
   "execution_count": 14,
   "id": "956f0115-b374-4509-96f3-4bbb22044782",
   "metadata": {
    "collapsed": true,
    "jupyter": {
     "outputs_hidden": true
    },
    "tags": []
   },
   "outputs": [],
   "source": [
    "bp_data <-bp_data %>% \n",
    "  mutate(imd.quintile = imd.quintile %>%\n",
    "           fct_relevel(\"1\",\"2\",\"3\",\"4\",\"5\",\"missing\")\n",
    "         )"
   ]
  },
  {
   "cell_type": "code",
   "execution_count": 15,
   "id": "cf3a7318-2519-4c73-ba11-2689f3790c98",
   "metadata": {
    "collapsed": true,
    "jupyter": {
     "outputs_hidden": true
    },
    "tags": []
   },
   "outputs": [],
   "source": [
    "bp_data$diabetes.factor <- as.factor(bp_data$diabetes_mellitus)\n",
    "\n",
    "bp_data <- bp_data %>% select (-diabetes_mellitus)"
   ]
  },
  {
   "cell_type": "code",
   "execution_count": 16,
   "id": "9dcdf72d-92be-44c0-a0a0-5e43989c89d3",
   "metadata": {
    "collapsed": true,
    "jupyter": {
     "outputs_hidden": true
    },
    "tags": []
   },
   "outputs": [],
   "source": [
    "bp_data$af.factor <- as.factor(bp_data$af_diagnosis)\n",
    "\n",
    "bp_data <- bp_data %>% select (-af_diagnosis)"
   ]
  },
  {
   "cell_type": "code",
   "execution_count": 17,
   "id": "073ba6bf-a945-48c2-a14c-67acdeeff313",
   "metadata": {
    "collapsed": true,
    "jupyter": {
     "outputs_hidden": true
    },
    "tags": []
   },
   "outputs": [],
   "source": [
    "bp_data$hf.factor<- as.factor(bp_data$hf_diagnosis)\n",
    "\n",
    "bp_data <- bp_data %>% select (-hf_diagnosis)"
   ]
  },
  {
   "cell_type": "code",
   "execution_count": 18,
   "id": "7db99ef0-17ab-41d9-83a0-6f0ccb15fdcf",
   "metadata": {
    "collapsed": true,
    "jupyter": {
     "outputs_hidden": true
    },
    "tags": []
   },
   "outputs": [],
   "source": [
    "bp_data$smoking.factor <- as.factor(bp_data$smoking_status)\n",
    "\n",
    "bp_data <- bp_data %>%  select(-smoking_status)"
   ]
  },
  {
   "cell_type": "code",
   "execution_count": 19,
   "id": "082be6e5-b58b-4229-ba82-e9ca65c6d916",
   "metadata": {
    "collapsed": true,
    "jupyter": {
     "outputs_hidden": true
    },
    "tags": []
   },
   "outputs": [],
   "source": [
    "bp_data$fall.factor <- as.factor(bp_data$fall_event)\n",
    "\n",
    "bp_data <- bp_data %>% select (-fall_event)"
   ]
  },
  {
   "cell_type": "code",
   "execution_count": 20,
   "id": "e08f0ec1-de59-49ff-a6a3-2aa6ce557c41",
   "metadata": {
    "collapsed": true,
    "jupyter": {
     "outputs_hidden": true
    },
    "tags": []
   },
   "outputs": [],
   "source": [
    "bp_data$chd.factor <- as.factor(bp_data$chd_diagnosis)\n",
    "\n",
    "bp_data <- bp_data %>% select (-chd_diagnosis)"
   ]
  },
  {
   "cell_type": "code",
   "execution_count": 21,
   "id": "f98081f9-6dbc-4277-bb48-2e93282ec471",
   "metadata": {
    "collapsed": true,
    "jupyter": {
     "outputs_hidden": true
    },
    "tags": []
   },
   "outputs": [],
   "source": [
    "bp_data$hypertension.factor <- as.factor(bp_data$hypertension)\n",
    "\n",
    "#bp_data <- bp_data %>% select(-hypertension)"
   ]
  },
  {
   "cell_type": "code",
   "execution_count": 22,
   "id": "91b1577e-338c-47c4-8136-d20af46a502d",
   "metadata": {
    "collapsed": true,
    "jupyter": {
     "outputs_hidden": true
    },
    "tags": []
   },
   "outputs": [
    {
     "name": "stderr",
     "output_type": "stream",
     "text": [
      "\u001b[1m\u001b[22m`stat_bin()` using `bins = 30`. Pick better value with `binwidth`.\n"
     ]
    },
    {
     "data": {
      "image/png": "[encoded data removed]",
      "text/plain": [
       "plot without title"
      ]
     },
     "metadata": {
      "image/png": {
       "height": 420,
       "width": 420
      }
     },
     "output_type": "display_data"
    }
   ],
   "source": [
    "bp_data %>% ggplot(aes(x=age_admission))+geom_histogram()\n",
    "\n"
   ]
  },
  {
   "cell_type": "code",
   "execution_count": 23,
   "id": "e03ec66b-d380-492b-9b2b-ea4ca02bdb9e",
   "metadata": {
    "collapsed": true,
    "jupyter": {
     "outputs_hidden": true
    },
    "tags": []
   },
   "outputs": [],
   "source": [
    "bp_data <- bp_data %>% mutate(bp_present= case_when(is.na(systolic_value) ~ 'missing',systolic_value > 0 ~ 'yes'))\n",
    "\n",
    "bp_data$bp_present.factor <- as.factor(bp_data$bp_present)"
   ]
  },
  {
   "cell_type": "code",
   "execution_count": 24,
   "id": "f384fef5-a308-4a5e-bad5-406be37d37d0",
   "metadata": {
    "collapsed": true,
    "jupyter": {
     "outputs_hidden": true
    },
    "tags": []
   },
   "outputs": [
    {
     "data": {
      "text/plain": [
       "\n",
       "\tWelch Two Sample t-test\n",
       "\n",
       "data:  age_admission by bp_present.factor\n",
       "t = -4.6136, df = 1994.6, p-value = 4.21e-06\n",
       "alternative hypothesis: true difference in means between group missing and group yes is not equal to 0\n",
       "95 percent confidence interval:\n",
       " -2.3527989 -0.9491807\n",
       "sample estimates:\n",
       "mean in group missing     mean in group yes \n",
       "             83.98965              85.64064 \n"
      ]
     },
     "metadata": {},
     "output_type": "display_data"
    }
   ],
   "source": [
    "bp_data %>% t.test(age_admission ~ bp_present.factor,data=.)"
   ]
  },
  {
   "cell_type": "code",
   "execution_count": 25,
   "id": "cf4f336a-aef2-4174-8948-01f0dfc9ff6d",
   "metadata": {
    "collapsed": true,
    "jupyter": {
     "outputs_hidden": true
    },
    "tags": []
   },
   "outputs": [
    {
     "data": {
      "text/plain": [
       "\n",
       "\tWelch Two Sample t-test\n",
       "\n",
       "data:  efi2 by bp_present.factor\n",
       "t = -5.0612, df = 1992.5, p-value = 4.55e-07\n",
       "alternative hypothesis: true difference in means between group missing and group yes is not equal to 0\n",
       "95 percent confidence interval:\n",
       " -0.03068539 -0.01354607\n",
       "sample estimates:\n",
       "mean in group missing     mean in group yes \n",
       "            0.3671110             0.3892267 \n"
      ]
     },
     "metadata": {},
     "output_type": "display_data"
    }
   ],
   "source": [
    "bp_data %>% t.test(efi2~ bp_present.factor,data=.)"
   ]
  },
  {
   "cell_type": "code",
   "execution_count": 26,
   "id": "93359976-5354-4eef-87b6-e684eaa1ea53",
   "metadata": {
    "collapsed": true,
    "jupyter": {
     "outputs_hidden": true
    },
    "tags": []
   },
   "outputs": [],
   "source": [
    "bp_data <- bp_data %>%  mutate(bp_target= if_else(systolic_value>=150 & age_admission >= 80| systolic_value>=140 & age_admission <80, \"above\",\"below\", missing=NULL))"
   ]
  },
  {
   "cell_type": "code",
   "execution_count": 27,
   "id": "731bfcac-47ff-45ce-8a83-a64f82a17b9d",
   "metadata": {
    "collapsed": true,
    "jupyter": {
     "outputs_hidden": true
    },
    "tags": []
   },
   "outputs": [
    {
     "data": {
      "image/png": "[encoded data removed]",
      "text/plain": [
       "plot without title"
      ]
     },
     "metadata": {
      "image/png": {
       "height": 420,
       "width": 420
      }
     },
     "output_type": "display_data"
    }
   ],
   "source": [
    "bp_data %>% filter(systolic_value >0) %>%  ggplot(aes(x= bp_target ))+geom_bar() + theme_bw()  + labs(y= \"number of residents\", title= \"Hypertension control in care home residents\")"
   ]
  },
  {
   "cell_type": "code",
   "execution_count": 28,
   "id": "b86bdb1b-667e-482a-befe-1135f7b830ec",
   "metadata": {
    "collapsed": true,
    "jupyter": {
     "outputs_hidden": true
    },
    "tags": []
   },
   "outputs": [
    {
     "name": "stderr",
     "output_type": "stream",
     "text": [
      "No dependent variable(s) provided; defaulting to single-level factor\n",
      "\n"
     ]
    },
    {
     "data": {
      "text/html": [
       "<table class=\"dataframe\">\n",
       "<caption>A data.frame.ff: 8 × 3</caption>\n",
       "<thead>\n",
       "\t<tr><th scope=col>label</th><th scope=col>levels</th><th scope=col>all</th></tr>\n",
       "\t<tr><th scope=col>&lt;chr&gt;</th><th scope=col>&lt;chr&gt;</th><th scope=col>&lt;chr&gt;</th></tr>\n",
       "</thead>\n",
       "<tbody>\n",
       "\t<tr><td>imd.quintile   </td><td>1      </td><td>575 (28.8) </td></tr>\n",
       "\t<tr><td>               </td><td>2      </td><td>349 (17.5) </td></tr>\n",
       "\t<tr><td>               </td><td>3      </td><td>444 (22.2) </td></tr>\n",
       "\t<tr><td>               </td><td>4      </td><td>249 (12.5) </td></tr>\n",
       "\t<tr><td>               </td><td>5      </td><td>323 (16.2) </td></tr>\n",
       "\t<tr><td>               </td><td>missing</td><td>57 (2.9)   </td></tr>\n",
       "\t<tr><td>previous_stroke</td><td>no     </td><td>1919 (96.0)</td></tr>\n",
       "\t<tr><td>               </td><td>yes    </td><td>79 (4.0)   </td></tr>\n",
       "</tbody>\n",
       "</table>\n"
      ],
      "text/latex": [
       "A data.frame.ff: 8 × 3\n",
       "\\begin{tabular}{lll}\n",
       " label & levels & all\\\\\n",
       " <chr> & <chr> & <chr>\\\\\n",
       "\\hline\n",
       "\t imd.quintile    & 1       & 575 (28.8) \\\\\n",
       "\t                 & 2       & 349 (17.5) \\\\\n",
       "\t                 & 3       & 444 (22.2) \\\\\n",
       "\t                 & 4       & 249 (12.5) \\\\\n",
       "\t                 & 5       & 323 (16.2) \\\\\n",
       "\t                 & missing & 57 (2.9)   \\\\\n",
       "\t previous\\_stroke & no      & 1919 (96.0)\\\\\n",
       "\t                 & yes     & 79 (4.0)   \\\\\n",
       "\\end{tabular}\n"
      ],
      "text/markdown": [
       "\n",
       "A data.frame.ff: 8 × 3\n",
       "\n",
       "| label &lt;chr&gt; | levels &lt;chr&gt; | all &lt;chr&gt; |\n",
       "|---|---|---|\n",
       "| imd.quintile    | 1       | 575 (28.8)  |\n",
       "| <!----> | 2       | 349 (17.5)  |\n",
       "| <!----> | 3       | 444 (22.2)  |\n",
       "| <!----> | 4       | 249 (12.5)  |\n",
       "| <!----> | 5       | 323 (16.2)  |\n",
       "| <!----> | missing | 57 (2.9)    |\n",
       "| previous_stroke | no      | 1919 (96.0) |\n",
       "| <!----> | yes     | 79 (4.0)    |\n",
       "\n"
      ],
      "text/plain": [
       "  label           levels  all        \n",
       "1 imd.quintile    1       575 (28.8) \n",
       "2                 2       349 (17.5) \n",
       "3                 3       444 (22.2) \n",
       "4                 4       249 (12.5) \n",
       "5                 5       323 (16.2) \n",
       "6                 missing 57 (2.9)   \n",
       "7 previous_stroke no      1919 (96.0)\n",
       "8                 yes     79 (4.0)   "
      ]
     },
     "metadata": {},
     "output_type": "display_data"
    }
   ],
   "source": [
    "bp_data %>% \n",
    "  summary_factorlist(dependent = NULL, \n",
    "                     explanatory = \n",
    "                       c(\"imd.quintile\", \"previous_stroke\")\n",
    "  )"
   ]
  },
  {
   "cell_type": "markdown",
   "id": "9bfc03ca-5cc4-43ee-8d9f-e6b72d60aa55",
   "metadata": {
    "tags": []
   },
   "source": [
    "## Demographic and admission characteristics "
   ]
  },
  {
   "cell_type": "markdown",
   "id": "c2b2d06e-5649-4c86-b4c7-537a8ea81876",
   "metadata": {
    "tags": []
   },
   "source": [
    "### Deaths \n"
   ]
  },
  {
   "cell_type": "markdown",
   "id": "60c59773-b6dc-4ed6-ac0d-9cf47c93ee1a",
   "metadata": {
    "tags": []
   },
   "source": [
    "#### Death certificate data "
   ]
  },
  {
   "cell_type": "code",
   "execution_count": 29,
   "id": "96675748-b611-4be8-a503-a51742794b3a",
   "metadata": {
    "collapsed": true,
    "jupyter": {
     "outputs_hidden": true
    },
    "tags": []
   },
   "outputs": [
    {
     "name": "stdout",
     "output_type": "stream",
     "text": [
      "\u001b[90m# A tibble: 203 × 4\u001b[39m\n",
      "   person_id dod        tbl_NEC_Deaths_QWO_20230817_RELEASE_end_date reg_date  \n",
      "       \u001b[3m\u001b[90m<int>\u001b[39m\u001b[23m \u001b[3m\u001b[90m<chr>\u001b[39m\u001b[23m      \u001b[3m\u001b[90m<date>\u001b[39m\u001b[23m                                       \u001b[3m\u001b[90m<chr>\u001b[39m\u001b[23m     \n",
      "\u001b[90m 1\u001b[39m  13\u001b[4m7\u001b[24m\u001b[4m0\u001b[24m\u001b[4m5\u001b[24m676 \u001b[31mNA\u001b[39m         2023-08-22                                   2021-04-09\n",
      "\u001b[90m 2\u001b[39m  13\u001b[4m6\u001b[24m\u001b[4m1\u001b[24m\u001b[4m8\u001b[24m530 \u001b[31mNA\u001b[39m         2023-08-22                                   \u001b[31mNA\u001b[39m        \n",
      "\u001b[90m 3\u001b[39m  12\u001b[4m8\u001b[24m\u001b[4m4\u001b[24m\u001b[4m1\u001b[24m312 2023-03-08 2023-03-15                                   \u001b[31mNA\u001b[39m        \n",
      "\u001b[90m 4\u001b[39m    \u001b[4m1\u001b[24m\u001b[4m1\u001b[24m\u001b[4m1\u001b[24m197 \u001b[31mNA\u001b[39m         2023-08-22                                   2023-01-11\n",
      "\u001b[90m 5\u001b[39m  12\u001b[4m4\u001b[24m\u001b[4m4\u001b[24m\u001b[4m7\u001b[24m585 2021-11-01 2023-08-22                                   2021-11-04\n",
      "\u001b[90m 6\u001b[39m  13\u001b[4m2\u001b[24m\u001b[4m8\u001b[24m\u001b[4m7\u001b[24m086 2020-12-08 2023-08-22                                   2020-12-12\n",
      "\u001b[90m 7\u001b[39m  12\u001b[4m7\u001b[24m\u001b[4m8\u001b[24m\u001b[4m5\u001b[24m244 \u001b[31mNA\u001b[39m         2023-08-22                                   \u001b[31mNA\u001b[39m        \n",
      "\u001b[90m 8\u001b[39m  13\u001b[4m0\u001b[24m\u001b[4m1\u001b[24m\u001b[4m3\u001b[24m482 2020-09-05 2023-08-22                                   2020-09-09\n",
      "\u001b[90m 9\u001b[39m  12\u001b[4m8\u001b[24m\u001b[4m3\u001b[24m\u001b[4m1\u001b[24m763 \u001b[31mNA\u001b[39m         2023-08-22                                   \u001b[31mNA\u001b[39m        \n",
      "\u001b[90m10\u001b[39m  12\u001b[4m4\u001b[24m\u001b[4m4\u001b[24m\u001b[4m8\u001b[24m651 2021-08-07 2023-08-22                                   \u001b[31mNA\u001b[39m        \n",
      "\u001b[90m# ℹ 193 more rows\u001b[39m\n"
     ]
    }
   ],
   "source": [
    "sql_death <- paste('SELECT person_id,dod,tbl_NEC_Deaths_QWO_20230817_RELEASE_end_date, reg_date from ',targetdb2,'.tbl_NEC_Deaths_QWO_20230817_RELEASE where person_id in (SELECT person_id from ',targetdb3,'.temp_cb_2172_ch_cohort_demographic where death_datetime is null) ;',sep=\"\")\n",
    "\n",
    "tbl_death <-bq_project_query(ProjectId,sql_death)\n",
    "ch_death<- bq_table_download(tbl_death)\n",
    "\n",
    "print(ch_death)"
   ]
  },
  {
   "cell_type": "code",
   "execution_count": 30,
   "id": "bdd4b46d-ac93-4dc1-9f4b-0d70849b66dc",
   "metadata": {
    "collapsed": true,
    "jupyter": {
     "outputs_hidden": true
    }
   },
   "outputs": [],
   "source": [
    "## 203 ghosts had death data, i assume that the remaining 94 are still alive, small number so happy to make this assumption. combined dod and reg_Date together to produce mater death date column which i will merge with the master cohort table. "
   ]
  },
  {
   "cell_type": "code",
   "execution_count": 31,
   "id": "22d5fc09-f2ac-4a89-9f44-34a4e2a67d23",
   "metadata": {
    "collapsed": true,
    "jupyter": {
     "outputs_hidden": true
    },
    "tags": []
   },
   "outputs": [],
   "source": [
    "ch_death <- ch_death %>% mutate(date_deathcert = ifelse(is.na(dod), reg_date,dod))"
   ]
  },
  {
   "cell_type": "code",
   "execution_count": 32,
   "id": "09cb3ac6-53ae-4e5d-9c52-0d98527579ec",
   "metadata": {
    "collapsed": true,
    "jupyter": {
     "outputs_hidden": true
    },
    "tags": []
   },
   "outputs": [],
   "source": [
    "ch_death$date_deathcert <- as_date(ch_death$date_deathcert)"
   ]
  },
  {
   "cell_type": "code",
   "execution_count": 33,
   "id": "0d81d39c-1ec9-4fcf-9da1-477c468a9d96",
   "metadata": {
    "collapsed": true,
    "jupyter": {
     "outputs_hidden": true
    },
    "tags": []
   },
   "outputs": [],
   "source": [
    "ch_death$nec_release_end_date <- ch_death$tbl_NEC_Deaths_QWO_20230817_RELEASE_end_date"
   ]
  },
  {
   "cell_type": "code",
   "execution_count": 34,
   "id": "796f53e0-f088-4d99-833e-591a06a67a33",
   "metadata": {
    "collapsed": true,
    "jupyter": {
     "outputs_hidden": true
    }
   },
   "outputs": [],
   "source": [
    "## join death certificate tibble to the deathdate in the master cohort table "
   ]
  },
  {
   "cell_type": "code",
   "execution_count": 35,
   "id": "9f858a81-1b70-49d7-b435-02b53e50f0bd",
   "metadata": {
    "collapsed": true,
    "jupyter": {
     "outputs_hidden": true
    },
    "tags": []
   },
   "outputs": [],
   "source": [
    "ch_death_filter <- ch_death %>% select(person_id,date_deathcert)\n",
    "bp_data <- left_join(bp_data,ch_death_filter,by='person_id')"
   ]
  },
  {
   "cell_type": "code",
   "execution_count": 36,
   "id": "78e7f789-dac1-48c8-8fa8-c309db444d1b",
   "metadata": {
    "collapsed": true,
    "jupyter": {
     "outputs_hidden": true
    },
    "tags": []
   },
   "outputs": [],
   "source": [
    "bp_data<- bp_data %>% mutate(dod = coalesce(death_date,date_deathcert))%>% select(-death_date,-date_deathcert)"
   ]
  },
  {
   "cell_type": "code",
   "execution_count": 37,
   "id": "4cee91c3-9d6a-4f08-a5d4-757b74c69fc3",
   "metadata": {
    "collapsed": true,
    "jupyter": {
     "outputs_hidden": true
    },
    "tags": []
   },
   "outputs": [
    {
     "data": {
      "text/html": [
       "<table class=\"dataframe\">\n",
       "<caption>A tibble: 6 × 36</caption>\n",
       "<thead>\n",
       "\t<tr><th scope=col>age_admission</th><th scope=col>person_id</th><th scope=col>first_episodestartdate</th><th scope=col>last_episodestopdate</th><th scope=col>finalisedPSR</th><th scope=col>admission_length</th><th scope=col>imd</th><th scope=col>fall_date</th><th scope=col>hypertension</th><th scope=col>systolic_value</th><th scope=col>⋯</th><th scope=col>af.factor</th><th scope=col>hf.factor</th><th scope=col>smoking.factor</th><th scope=col>fall.factor</th><th scope=col>chd.factor</th><th scope=col>hypertension.factor</th><th scope=col>bp_present</th><th scope=col>bp_present.factor</th><th scope=col>bp_target</th><th scope=col>dod</th></tr>\n",
       "\t<tr><th scope=col>&lt;int&gt;</th><th scope=col>&lt;int&gt;</th><th scope=col>&lt;dttm&gt;</th><th scope=col>&lt;dttm&gt;</th><th scope=col>&lt;chr&gt;</th><th scope=col>&lt;int&gt;</th><th scope=col>&lt;chr&gt;</th><th scope=col>&lt;dttm&gt;</th><th scope=col>&lt;chr&gt;</th><th scope=col>&lt;int&gt;</th><th scope=col>⋯</th><th scope=col>&lt;fct&gt;</th><th scope=col>&lt;fct&gt;</th><th scope=col>&lt;fct&gt;</th><th scope=col>&lt;fct&gt;</th><th scope=col>&lt;fct&gt;</th><th scope=col>&lt;fct&gt;</th><th scope=col>&lt;chr&gt;</th><th scope=col>&lt;fct&gt;</th><th scope=col>&lt;chr&gt;</th><th scope=col>&lt;date&gt;</th></tr>\n",
       "</thead>\n",
       "<tbody>\n",
       "\t<tr><td>92</td><td>  2355</td><td>2018-01-03</td><td>2019-08-04</td><td>Physical Support - Personal Care Support</td><td>578</td><td>9      </td><td>NA</td><td>no </td><td> NA</td><td>⋯</td><td>no </td><td>no </td><td>NA        </td><td>NA</td><td>no</td><td>no </td><td>missing</td><td>missing</td><td>NA   </td><td>2021-04-15</td></tr>\n",
       "\t<tr><td>91</td><td> 30746</td><td>2017-07-28</td><td>2018-01-27</td><td>Mental Health Support                   </td><td>183</td><td>10     </td><td>NA</td><td>yes</td><td>140</td><td>⋯</td><td>yes</td><td>no </td><td>non-smoker</td><td>NA</td><td>no</td><td>yes</td><td>yes    </td><td>yes    </td><td>below</td><td>2018-01-15</td></tr>\n",
       "\t<tr><td>87</td><td> 76037</td><td>2017-11-01</td><td>2019-09-24</td><td>Physical Support - Personal Care Support</td><td>692</td><td>missing</td><td>NA</td><td>no </td><td> NA</td><td>⋯</td><td>no </td><td>yes</td><td>NA        </td><td>NA</td><td>no</td><td>no </td><td>missing</td><td>missing</td><td>NA   </td><td>2019-09-15</td></tr>\n",
       "\t<tr><td>86</td><td> 81564</td><td>2017-11-28</td><td>2018-01-22</td><td>Mental Health Support                   </td><td> 55</td><td>5      </td><td>NA</td><td>no </td><td> NA</td><td>⋯</td><td>no </td><td>no </td><td>ex-smoker </td><td>NA</td><td>no</td><td>no </td><td>missing</td><td>missing</td><td>NA   </td><td>2018-01-15</td></tr>\n",
       "\t<tr><td>82</td><td>111197</td><td>2018-02-24</td><td>2019-04-23</td><td>Physical Support - Personal Care Support</td><td>423</td><td>9      </td><td>NA</td><td>yes</td><td>135</td><td>⋯</td><td>no </td><td>no </td><td>non-smoker</td><td>NA</td><td>no</td><td>yes</td><td>yes    </td><td>yes    </td><td>below</td><td>2023-01-11</td></tr>\n",
       "\t<tr><td>94</td><td>144752</td><td>2017-08-03</td><td>2018-10-08</td><td>Mental Health Support                   </td><td>431</td><td>9      </td><td>NA</td><td>yes</td><td> NA</td><td>⋯</td><td>no </td><td>no </td><td>non-smoker</td><td>NA</td><td>no</td><td>yes</td><td>missing</td><td>missing</td><td>NA   </td><td>2023-05-02</td></tr>\n",
       "</tbody>\n",
       "</table>\n"
      ],
      "text/latex": [
       "A tibble: 6 × 36\n",
       "\\begin{tabular}{lllllllllllllllllllll}\n",
       " age\\_admission & person\\_id & first\\_episodestartdate & last\\_episodestopdate & finalisedPSR & admission\\_length & imd & fall\\_date & hypertension & systolic\\_value & ⋯ & af.factor & hf.factor & smoking.factor & fall.factor & chd.factor & hypertension.factor & bp\\_present & bp\\_present.factor & bp\\_target & dod\\\\\n",
       " <int> & <int> & <dttm> & <dttm> & <chr> & <int> & <chr> & <dttm> & <chr> & <int> & ⋯ & <fct> & <fct> & <fct> & <fct> & <fct> & <fct> & <chr> & <fct> & <chr> & <date>\\\\\n",
       "\\hline\n",
       "\t 92 &   2355 & 2018-01-03 & 2019-08-04 & Physical Support - Personal Care Support & 578 & 9       & NA & no  &  NA & ⋯ & no  & no  & NA         & NA & no & no  & missing & missing & NA    & 2021-04-15\\\\\n",
       "\t 91 &  30746 & 2017-07-28 & 2018-01-27 & Mental Health Support                    & 183 & 10      & NA & yes & 140 & ⋯ & yes & no  & non-smoker & NA & no & yes & yes     & yes     & below & 2018-01-15\\\\\n",
       "\t 87 &  76037 & 2017-11-01 & 2019-09-24 & Physical Support - Personal Care Support & 692 & missing & NA & no  &  NA & ⋯ & no  & yes & NA         & NA & no & no  & missing & missing & NA    & 2019-09-15\\\\\n",
       "\t 86 &  81564 & 2017-11-28 & 2018-01-22 & Mental Health Support                    &  55 & 5       & NA & no  &  NA & ⋯ & no  & no  & ex-smoker  & NA & no & no  & missing & missing & NA    & 2018-01-15\\\\\n",
       "\t 82 & 111197 & 2018-02-24 & 2019-04-23 & Physical Support - Personal Care Support & 423 & 9       & NA & yes & 135 & ⋯ & no  & no  & non-smoker & NA & no & yes & yes     & yes     & below & 2023-01-11\\\\\n",
       "\t 94 & 144752 & 2017-08-03 & 2018-10-08 & Mental Health Support                    & 431 & 9       & NA & yes &  NA & ⋯ & no  & no  & non-smoker & NA & no & yes & missing & missing & NA    & 2023-05-02\\\\\n",
       "\\end{tabular}\n"
      ],
      "text/markdown": [
       "\n",
       "A tibble: 6 × 36\n",
       "\n",
       "| age_admission &lt;int&gt; | person_id &lt;int&gt; | first_episodestartdate &lt;dttm&gt; | last_episodestopdate &lt;dttm&gt; | finalisedPSR &lt;chr&gt; | admission_length &lt;int&gt; | imd &lt;chr&gt; | fall_date &lt;dttm&gt; | hypertension &lt;chr&gt; | systolic_value &lt;int&gt; | ⋯ ⋯ | af.factor &lt;fct&gt; | hf.factor &lt;fct&gt; | smoking.factor &lt;fct&gt; | fall.factor &lt;fct&gt; | chd.factor &lt;fct&gt; | hypertension.factor &lt;fct&gt; | bp_present &lt;chr&gt; | bp_present.factor &lt;fct&gt; | bp_target &lt;chr&gt; | dod &lt;date&gt; |\n",
       "|---|---|---|---|---|---|---|---|---|---|---|---|---|---|---|---|---|---|---|---|---|\n",
       "| 92 |   2355 | 2018-01-03 | 2019-08-04 | Physical Support - Personal Care Support | 578 | 9       | NA | no  |  NA | ⋯ | no  | no  | NA         | NA | no | no  | missing | missing | NA    | 2021-04-15 |\n",
       "| 91 |  30746 | 2017-07-28 | 2018-01-27 | Mental Health Support                    | 183 | 10      | NA | yes | 140 | ⋯ | yes | no  | non-smoker | NA | no | yes | yes     | yes     | below | 2018-01-15 |\n",
       "| 87 |  76037 | 2017-11-01 | 2019-09-24 | Physical Support - Personal Care Support | 692 | missing | NA | no  |  NA | ⋯ | no  | yes | NA         | NA | no | no  | missing | missing | NA    | 2019-09-15 |\n",
       "| 86 |  81564 | 2017-11-28 | 2018-01-22 | Mental Health Support                    |  55 | 5       | NA | no  |  NA | ⋯ | no  | no  | ex-smoker  | NA | no | no  | missing | missing | NA    | 2018-01-15 |\n",
       "| 82 | 111197 | 2018-02-24 | 2019-04-23 | Physical Support - Personal Care Support | 423 | 9       | NA | yes | 135 | ⋯ | no  | no  | non-smoker | NA | no | yes | yes     | yes     | below | 2023-01-11 |\n",
       "| 94 | 144752 | 2017-08-03 | 2018-10-08 | Mental Health Support                    | 431 | 9       | NA | yes |  NA | ⋯ | no  | no  | non-smoker | NA | no | yes | missing | missing | NA    | 2023-05-02 |\n",
       "\n"
      ],
      "text/plain": [
       "  age_admission person_id first_episodestartdate last_episodestopdate\n",
       "1 92              2355    2018-01-03             2019-08-04          \n",
       "2 91             30746    2017-07-28             2018-01-27          \n",
       "3 87             76037    2017-11-01             2019-09-24          \n",
       "4 86             81564    2017-11-28             2018-01-22          \n",
       "5 82            111197    2018-02-24             2019-04-23          \n",
       "6 94            144752    2017-08-03             2018-10-08          \n",
       "  finalisedPSR                             admission_length imd     fall_date\n",
       "1 Physical Support - Personal Care Support 578              9       <NA>     \n",
       "2 Mental Health Support                    183              10      <NA>     \n",
       "3 Physical Support - Personal Care Support 692              missing <NA>     \n",
       "4 Mental Health Support                     55              5       <NA>     \n",
       "5 Physical Support - Personal Care Support 423              9       <NA>     \n",
       "6 Mental Health Support                    431              9       <NA>     \n",
       "  hypertension systolic_value ⋯ af.factor hf.factor smoking.factor fall.factor\n",
       "1 no            NA            ⋯ no        no        NA             NA         \n",
       "2 yes          140            ⋯ yes       no        non-smoker     NA         \n",
       "3 no            NA            ⋯ no        yes       NA             NA         \n",
       "4 no            NA            ⋯ no        no        ex-smoker      NA         \n",
       "5 yes          135            ⋯ no        no        non-smoker     NA         \n",
       "6 yes           NA            ⋯ no        no        non-smoker     NA         \n",
       "  chd.factor hypertension.factor bp_present bp_present.factor bp_target\n",
       "1 no         no                  missing    missing           NA       \n",
       "2 no         yes                 yes        yes               below    \n",
       "3 no         no                  missing    missing           NA       \n",
       "4 no         no                  missing    missing           NA       \n",
       "5 no         yes                 yes        yes               below    \n",
       "6 no         yes                 missing    missing           NA       \n",
       "  dod       \n",
       "1 2021-04-15\n",
       "2 2018-01-15\n",
       "3 2019-09-15\n",
       "4 2018-01-15\n",
       "5 2023-01-11\n",
       "6 2023-05-02"
      ]
     },
     "metadata": {},
     "output_type": "display_data"
    }
   ],
   "source": [
    "bp_data <- bp_data %>% select(-life_exp)\n",
    "head(bp_data)"
   ]
  },
  {
   "cell_type": "code",
   "execution_count": 38,
   "id": "4df56538-88be-4bbf-b245-63ae571b2152",
   "metadata": {
    "collapsed": true,
    "jupyter": {
     "outputs_hidden": true
    },
    "tags": []
   },
   "outputs": [],
   "source": [
    "bp_data$first_episodestartdate <- as_date(bp_data$first_episodestartdate)\n"
   ]
  },
  {
   "cell_type": "code",
   "execution_count": 39,
   "id": "3e95da13-961b-418b-aff3-0c329850e304",
   "metadata": {
    "collapsed": true,
    "jupyter": {
     "outputs_hidden": true
    },
    "tags": []
   },
   "outputs": [],
   "source": [
    "bp_data<- bp_data %>% mutate(life_exp = interval(first_episodestartdate, dod) %/% months(1))"
   ]
  },
  {
   "cell_type": "code",
   "execution_count": 40,
   "id": "2c26c59e-3ba4-4bdf-8f18-be417412404f",
   "metadata": {
    "collapsed": true,
    "jupyter": {
     "outputs_hidden": true
    },
    "tags": []
   },
   "outputs": [
    {
     "data": {
      "text/plain": [
       " age_admission      person_id        first_episodestartdate\n",
       " Min.   : 65.00   Min.   :    2355   Min.   :2016-03-29    \n",
       " 1st Qu.: 80.00   1st Qu.:12685662   1st Qu.:2017-01-12    \n",
       " Median : 86.00   Median :13022756   Median :2017-07-31    \n",
       " Mean   : 85.21   Mean   :12654040   Mean   :2017-10-01    \n",
       " 3rd Qu.: 91.00   3rd Qu.:13403606   3rd Qu.:2018-06-21    \n",
       " Max.   :110.00   Max.   :13763954   Max.   :2019-11-11    \n",
       "                                                           \n",
       " last_episodestopdate             finalisedPSR       admission_length\n",
       " Min.   :2017-01-01 00:00:00.00   Length:1825        Min.   :  43.0  \n",
       " 1st Qu.:2018-01-24 00:00:00.00   Class :character   1st Qu.: 121.0  \n",
       " Median :2018-11-10 00:00:00.00   Mode  :character   Median : 264.0  \n",
       " Mean   :2018-09-26 12:09:51.77                      Mean   : 359.8  \n",
       " 3rd Qu.:2019-06-09 00:00:00.00                      3rd Qu.: 538.0  \n",
       " Max.   :2020-01-07 00:00:00.00                      Max.   :1329.0  \n",
       "                                                                     \n",
       "     imd              fall_date                      hypertension      \n",
       " Length:1825        Min.   :2016-08-13 08:37:00.00   Length:1825       \n",
       " Class :character   1st Qu.:2017-11-28 19:38:15.00   Class :character  \n",
       " Mode  :character   Median :2018-08-15 05:06:30.00   Mode  :character  \n",
       "                    Mean   :2018-08-11 03:04:30.28                     \n",
       "                    3rd Qu.:2019-04-03 01:07:30.00                     \n",
       "                    Max.   :2022-05-28 06:04:00.00                     \n",
       "                    NA's   :1617                                       \n",
       " systolic_value  diastolic_value  date_systolic             efi2       \n",
       " Min.   : 80.0   Min.   : 50.00   Min.   :2016-04-13   Min.   :0.1440  \n",
       " 1st Qu.:115.0   1st Qu.: 65.00   1st Qu.:2017-04-12   1st Qu.:0.3100  \n",
       " Median :128.0   Median : 71.00   Median :2017-11-24   Median :0.3850  \n",
       " Mean   :129.2   Mean   : 72.64   Mean   :2018-01-01   Mean   :0.3808  \n",
       " 3rd Qu.:140.0   3rd Qu.: 80.00   3rd Qu.:2018-09-21   3rd Qu.:0.4510  \n",
       " Max.   :216.0   Max.   :150.00   Max.   :2020-03-12   Max.   :0.6520  \n",
       " NA's   :968     NA's   :968      NA's   :968                          \n",
       "  efall_value      no_medication       service.factor body_mass_index\n",
       " Min.   :0.03265   Min.   : 1.00   Nursing    :1093   Min.   : 0.00  \n",
       " 1st Qu.:0.19071   1st Qu.: 6.00   Residential: 732   1st Qu.:20.36  \n",
       " Median :0.26788   Median :10.00                      Median :23.56  \n",
       " Mean   :0.27958   Mean   :10.47                      Mean   :24.18  \n",
       " 3rd Qu.:0.35663   3rd Qu.:14.00                      3rd Qu.:27.36  \n",
       " Max.   :0.71527   Max.   :41.00                      Max.   :78.87  \n",
       "                   NA's   :74                         NA's   :96     \n",
       " chronic_kidney_disease\n",
       " no :1290              \n",
       " yes: 535              \n",
       "                       \n",
       "                       \n",
       "                       \n",
       "                       \n",
       "                       \n",
       "                                                                                                         ethnicity.factor\n",
       " White: English or Welsh or Scottish or Northern Irish or British - England and Wales ethnic category 2011 census:1364   \n",
       " Unknown/Refuse to say                                                                                           : 375   \n",
       " White:Any other White background                                                                                :  31   \n",
       " White: Irish - England and Wales ethnic category 2011 census                                                    :  14   \n",
       " Asian or Asian British: Indian - England and Wales ethnic category 2011 census                                  :  13   \n",
       " Black or African or Caribbean or Black British: Caribbean - England and Wales ethnic category 2011 census       :   8   \n",
       " (Other)                                                                                                         :  20   \n",
       "   ethnicity.final   birth_date         previous_stroke gender     imd.factor \n",
       " Pakistani :   6   Min.   :1907-09-15   no :1753        F:1121   1      :357  \n",
       " Missing   : 375   1st Qu.:1926-07-15   yes:  72        M: 704   6      :228  \n",
       " White     :1409   Median :1931-07-15                            3      :201  \n",
       " DEPRECATED:  35   Mean   :1932-07-19                            5      :184  \n",
       "                   3rd Qu.:1937-07-15                            10     :166  \n",
       "                   Max.   :1953-11-15                            2      :153  \n",
       "                                                                 (Other):536  \n",
       "  imd.quintile diabetes.factor af.factor  hf.factor         smoking.factor\n",
       " 1      :510   yes : 482       no :1425   no :1538   current smoker:154   \n",
       " 2      :315   NA's:1343       yes: 400   yes: 287   ex-smoker     :624   \n",
       " 3      :412                                         non-smoker    :972   \n",
       " 4      :226                                         NA's          : 75   \n",
       " 5      :306                                                              \n",
       " missing: 56                                                              \n",
       "                                                                          \n",
       " fall.factor chd.factor hypertension.factor  bp_present       \n",
       " true: 208   no :1407   no : 628            Length:1825       \n",
       " NA's:1617   yes: 418   yes:1197            Class :character  \n",
       "                                            Mode  :character  \n",
       "                                                              \n",
       "                                                              \n",
       "                                                              \n",
       "                                                              \n",
       " bp_present.factor  bp_target              dod                life_exp    \n",
       " missing:968       Length:1825        Min.   :2017-01-15   Min.   : 0.00  \n",
       " yes    :857       Class :character   1st Qu.:2018-02-15   1st Qu.: 4.00  \n",
       "                   Mode  :character   Median :2018-12-15   Median :10.00  \n",
       "                                      Mean   :2019-01-15   Mean   :14.98  \n",
       "                                      3rd Qu.:2019-09-15   3rd Qu.:22.00  \n",
       "                                      Max.   :2023-07-07   Max.   :81.00  \n",
       "                                                                          "
      ]
     },
     "metadata": {},
     "output_type": "display_data"
    }
   ],
   "source": [
    "bp_data %>% filter(!is.na(life_exp))%>% summary()"
   ]
  },
  {
   "cell_type": "code",
   "execution_count": 41,
   "id": "8f71ba59-3724-4754-bdd4-8918eda8bba3",
   "metadata": {
    "collapsed": true,
    "jupyter": {
     "outputs_hidden": true
    },
    "tags": []
   },
   "outputs": [
    {
     "data": {
      "text/html": [
       "53.7534246575342"
      ],
      "text/latex": [
       "53.7534246575342"
      ],
      "text/markdown": [
       "53.7534246575342"
      ],
      "text/plain": [
       "[1] 53.75342"
      ]
     },
     "metadata": {},
     "output_type": "display_data"
    }
   ],
   "source": [
    "threshold <- 12\n",
    "\n",
    "data <- bp_data %>% filter(!is.na(bp_data$life_exp))\n",
    "# Calculate the percentage of values below the threshold\n",
    "death_1_year <- mean(data$life_exp < threshold) * 100\n",
    "\n",
    "death_1_year"
   ]
  },
  {
   "cell_type": "code",
   "execution_count": 42,
   "id": "e527b101-be40-415a-9707-a595d56a5709",
   "metadata": {
    "collapsed": true,
    "jupyter": {
     "outputs_hidden": true
    },
    "tags": []
   },
   "outputs": [
    {
     "name": "stderr",
     "output_type": "stream",
     "text": [
      "Warning message:\n",
      "“\u001b[1m\u001b[22mRemoved 286 rows containing non-finite values (`stat_bin()`).”\n",
      "Warning message:\n",
      "“\u001b[1m\u001b[22mRemoved 2 rows containing missing values (`geom_bar()`).”\n"
     ]
    },
    {
     "data": {
      "image/png": "[encoded data removed]",
      "text/plain": [
       "plot without title"
      ]
     },
     "metadata": {
      "image/png": {
       "height": 420,
       "width": 420
      }
     },
     "output_type": "display_data"
    }
   ],
   "source": [
    "\n",
    "\n",
    "bp_data %>% ggplot(aes(x=life_exp))+geom_histogram(binwidth = 3,col=\"black\",fill=\"turquoise\")+\n",
    "geom_vline(xintercept = 10, color = \"red\", linetype = \"dashed\", linewidth = 1) +\n",
    "labs(title = \"Life Expectancy at admission\",x=\"Life expectancy (months)\",y=\"Frequency\")+\n",
    "theme_bw()+xlim(1.2,80) + \n",
    "annotate(\"text\", x = 2, y = -5, label = \"6 weeks\")+annotate(\"text\",x=28,y=300, label= \"Median life expetancy: 10 months\")\n",
    "\n",
    "#ggsave(\"life_exp_hist.png\", width = 10, height = 10)"
   ]
  },
  {
   "cell_type": "markdown",
   "id": "74743e00-2b5f-453d-bd6e-a5881b79d449",
   "metadata": {
    "jp-MarkdownHeadingCollapsed": true,
    "tags": []
   },
   "source": [
    "### demographics table"
   ]
  },
  {
   "cell_type": "code",
   "execution_count": 43,
   "id": "725fc7e6-47a4-4855-8094-a8da16a86db2",
   "metadata": {
    "collapsed": true,
    "jupyter": {
     "outputs_hidden": true
    },
    "tags": []
   },
   "outputs": [
    {
     "name": "stderr",
     "output_type": "stream",
     "text": [
      "No dependent variable(s) provided; defaulting to single-level factor\n",
      "\n"
     ]
    },
    {
     "data": {
      "text/html": [
       "<table class=\"dataframe\">\n",
       "<caption>A data.frame.ff: 22 × 3</caption>\n",
       "<thead>\n",
       "\t<tr><th scope=col>label</th><th scope=col>levels</th><th scope=col>all</th></tr>\n",
       "\t<tr><th scope=col>&lt;chr&gt;</th><th scope=col>&lt;chr&gt;</th><th scope=col>&lt;chr&gt;</th></tr>\n",
       "</thead>\n",
       "<tbody>\n",
       "\t<tr><td>Age at admission</td><td>Mean (SD)  </td><td>84.8 (8.1)   </td></tr>\n",
       "\t<tr><td>Service Type    </td><td>Nursing    </td><td>1179 (59.0)  </td></tr>\n",
       "\t<tr><td>                </td><td>Residential</td><td>819 (41.0)   </td></tr>\n",
       "\t<tr><td>gender          </td><td>F          </td><td>1243 (62.2)  </td></tr>\n",
       "\t<tr><td>                </td><td>M          </td><td>755 (37.8)   </td></tr>\n",
       "\t<tr><td>imd             </td><td>1          </td><td>406 (20.3)   </td></tr>\n",
       "\t<tr><td>                </td><td>10         </td><td>174 (8.7)    </td></tr>\n",
       "\t<tr><td>                </td><td>2          </td><td>169 (8.5)    </td></tr>\n",
       "\t<tr><td>                </td><td>3          </td><td>226 (11.3)   </td></tr>\n",
       "\t<tr><td>                </td><td>4          </td><td>123 (6.2)    </td></tr>\n",
       "\t<tr><td>                </td><td>5          </td><td>195 (9.8)    </td></tr>\n",
       "\t<tr><td>                </td><td>6          </td><td>249 (12.5)   </td></tr>\n",
       "\t<tr><td>                </td><td>7          </td><td>146 (7.3)    </td></tr>\n",
       "\t<tr><td>                </td><td>8          </td><td>103 (5.2)    </td></tr>\n",
       "\t<tr><td>                </td><td>9          </td><td>149 (7.5)    </td></tr>\n",
       "\t<tr><td>                </td><td>missing    </td><td>57 (2.9)     </td></tr>\n",
       "\t<tr><td>Ethnicity       </td><td>Pakistani  </td><td>9 (0.5)      </td></tr>\n",
       "\t<tr><td>                </td><td>Missing    </td><td>404 (20.2)   </td></tr>\n",
       "\t<tr><td>                </td><td>White      </td><td>1544 (77.3)  </td></tr>\n",
       "\t<tr><td>                </td><td>DEPRECATED </td><td>41 (2.1)     </td></tr>\n",
       "\t<tr><td>Admission length</td><td>Mean (SD)  </td><td>365.7 (292.6)</td></tr>\n",
       "\t<tr><td>Life expectancy </td><td>Mean (SD)  </td><td>15.0 (14.4)  </td></tr>\n",
       "</tbody>\n",
       "</table>\n"
      ],
      "text/latex": [
       "A data.frame.ff: 22 × 3\n",
       "\\begin{tabular}{lll}\n",
       " label & levels & all\\\\\n",
       " <chr> & <chr> & <chr>\\\\\n",
       "\\hline\n",
       "\t Age at admission & Mean (SD)   & 84.8 (8.1)   \\\\\n",
       "\t Service Type     & Nursing     & 1179 (59.0)  \\\\\n",
       "\t                  & Residential & 819 (41.0)   \\\\\n",
       "\t gender           & F           & 1243 (62.2)  \\\\\n",
       "\t                  & M           & 755 (37.8)   \\\\\n",
       "\t imd              & 1           & 406 (20.3)   \\\\\n",
       "\t                  & 10          & 174 (8.7)    \\\\\n",
       "\t                  & 2           & 169 (8.5)    \\\\\n",
       "\t                  & 3           & 226 (11.3)   \\\\\n",
       "\t                  & 4           & 123 (6.2)    \\\\\n",
       "\t                  & 5           & 195 (9.8)    \\\\\n",
       "\t                  & 6           & 249 (12.5)   \\\\\n",
       "\t                  & 7           & 146 (7.3)    \\\\\n",
       "\t                  & 8           & 103 (5.2)    \\\\\n",
       "\t                  & 9           & 149 (7.5)    \\\\\n",
       "\t                  & missing     & 57 (2.9)     \\\\\n",
       "\t Ethnicity        & Pakistani   & 9 (0.5)      \\\\\n",
       "\t                  & Missing     & 404 (20.2)   \\\\\n",
       "\t                  & White       & 1544 (77.3)  \\\\\n",
       "\t                  & DEPRECATED  & 41 (2.1)     \\\\\n",
       "\t Admission length & Mean (SD)   & 365.7 (292.6)\\\\\n",
       "\t Life expectancy  & Mean (SD)   & 15.0 (14.4)  \\\\\n",
       "\\end{tabular}\n"
      ],
      "text/markdown": [
       "\n",
       "A data.frame.ff: 22 × 3\n",
       "\n",
       "| label &lt;chr&gt; | levels &lt;chr&gt; | all &lt;chr&gt; |\n",
       "|---|---|---|\n",
       "| Age at admission | Mean (SD)   | 84.8 (8.1)    |\n",
       "| Service Type     | Nursing     | 1179 (59.0)   |\n",
       "| <!----> | Residential | 819 (41.0)    |\n",
       "| gender           | F           | 1243 (62.2)   |\n",
       "| <!----> | M           | 755 (37.8)    |\n",
       "| imd              | 1           | 406 (20.3)    |\n",
       "| <!----> | 10          | 174 (8.7)     |\n",
       "| <!----> | 2           | 169 (8.5)     |\n",
       "| <!----> | 3           | 226 (11.3)    |\n",
       "| <!----> | 4           | 123 (6.2)     |\n",
       "| <!----> | 5           | 195 (9.8)     |\n",
       "| <!----> | 6           | 249 (12.5)    |\n",
       "| <!----> | 7           | 146 (7.3)     |\n",
       "| <!----> | 8           | 103 (5.2)     |\n",
       "| <!----> | 9           | 149 (7.5)     |\n",
       "| <!----> | missing     | 57 (2.9)      |\n",
       "| Ethnicity        | Pakistani   | 9 (0.5)       |\n",
       "| <!----> | Missing     | 404 (20.2)    |\n",
       "| <!----> | White       | 1544 (77.3)   |\n",
       "| <!----> | DEPRECATED  | 41 (2.1)      |\n",
       "| Admission length | Mean (SD)   | 365.7 (292.6) |\n",
       "| Life expectancy  | Mean (SD)   | 15.0 (14.4)   |\n",
       "\n"
      ],
      "text/plain": [
       "   label            levels      all          \n",
       "1  Age at admission Mean (SD)   84.8 (8.1)   \n",
       "2  Service Type     Nursing     1179 (59.0)  \n",
       "3                   Residential 819 (41.0)   \n",
       "4  gender           F           1243 (62.2)  \n",
       "5                   M           755 (37.8)   \n",
       "6  imd              1           406 (20.3)   \n",
       "7                   10          174 (8.7)    \n",
       "8                   2           169 (8.5)    \n",
       "9                   3           226 (11.3)   \n",
       "10                  4           123 (6.2)    \n",
       "11                  5           195 (9.8)    \n",
       "12                  6           249 (12.5)   \n",
       "13                  7           146 (7.3)    \n",
       "14                  8           103 (5.2)    \n",
       "15                  9           149 (7.5)    \n",
       "16                  missing     57 (2.9)     \n",
       "17 Ethnicity        Pakistani   9 (0.5)      \n",
       "18                  Missing     404 (20.2)   \n",
       "19                  White       1544 (77.3)  \n",
       "20                  DEPRECATED  41 (2.1)     \n",
       "21 Admission length Mean (SD)   365.7 (292.6)\n",
       "22 Life expectancy  Mean (SD)   15.0 (14.4)  "
      ]
     },
     "metadata": {},
     "output_type": "display_data"
    }
   ],
   "source": [
    "bp_data %>% \n",
    "  mutate(\n",
    "        age_admission = ff_label(age_admission, \"Age at admission\"),\n",
    "      service.factor = ff_label(service.factor,\"Service Type\"),\n",
    "      ethnicity.final = ff_label(ethnicity.final,\"Ethnicity\"),\n",
    "      admission_length = ff_label(admission_length,\"Admission length\"),\n",
    "      life_exp = ff_label(life_exp,\"Life expectancy\"),\n",
    "    ) %>% \n",
    "summary_factorlist(dependent= NULL, explanatory = c(\"age_admission\",\"service.factor\",\"gender\",\"imd\",\"ethnicity.final\",\"admission_length\",\"life_exp\") ) "
   ]
  },
  {
   "cell_type": "markdown",
   "id": "a789888e-b934-409e-adb4-0794b00b5e2f",
   "metadata": {
    "jp-MarkdownHeadingCollapsed": true,
    "tags": []
   },
   "source": [
    "## Cardiovascular Risk Factors "
   ]
  },
  {
   "cell_type": "code",
   "execution_count": 44,
   "id": "5060a6f7-2f43-4b70-947f-40a7ce4e5b38",
   "metadata": {
    "collapsed": true,
    "jupyter": {
     "outputs_hidden": true
    },
    "tags": []
   },
   "outputs": [
    {
     "name": "stderr",
     "output_type": "stream",
     "text": [
      "No dependent variable(s) provided; defaulting to single-level factor\n",
      "\n"
     ]
    },
    {
     "data": {
      "text/html": [
       "<table class=\"dataframe\">\n",
       "<caption>A data.frame.ff: 16 × 3</caption>\n",
       "<thead>\n",
       "\t<tr><th scope=col>label</th><th scope=col>levels</th><th scope=col>all</th></tr>\n",
       "\t<tr><th scope=col>&lt;chr&gt;</th><th scope=col>&lt;chr&gt;</th><th scope=col>&lt;chr&gt;</th></tr>\n",
       "</thead>\n",
       "<tbody>\n",
       "\t<tr><td>body_mass_index       </td><td>Mean (SD)     </td><td>24.3 (6.1) </td></tr>\n",
       "\t<tr><td>af.factor             </td><td>no            </td><td>1582 (79.2)</td></tr>\n",
       "\t<tr><td>                      </td><td>yes           </td><td>416 (20.8) </td></tr>\n",
       "\t<tr><td>chronic_kidney_disease</td><td>no            </td><td>1425 (71.3)</td></tr>\n",
       "\t<tr><td>                      </td><td>yes           </td><td>573 (28.7) </td></tr>\n",
       "\t<tr><td>hf.factor             </td><td>no            </td><td>1699 (85.0)</td></tr>\n",
       "\t<tr><td>                      </td><td>yes           </td><td>299 (15.0) </td></tr>\n",
       "\t<tr><td>chd.factor            </td><td>no            </td><td>1555 (77.8)</td></tr>\n",
       "\t<tr><td>                      </td><td>yes           </td><td>443 (22.2) </td></tr>\n",
       "\t<tr><td>diabetes.factor       </td><td>yes           </td><td>517 (100.0)</td></tr>\n",
       "\t<tr><td>smoking.factor        </td><td>current smoker</td><td>184 (9.6)  </td></tr>\n",
       "\t<tr><td>                      </td><td>ex-smoker     </td><td>661 (34.5) </td></tr>\n",
       "\t<tr><td>                      </td><td>non-smoker    </td><td>1071 (55.9)</td></tr>\n",
       "\t<tr><td>previous_stroke       </td><td>no            </td><td>1919 (96.0)</td></tr>\n",
       "\t<tr><td>                      </td><td>yes           </td><td>79 (4.0)   </td></tr>\n",
       "\t<tr><td>life_exp              </td><td>Mean (SD)     </td><td>15.0 (14.4)</td></tr>\n",
       "</tbody>\n",
       "</table>\n"
      ],
      "text/latex": [
       "A data.frame.ff: 16 × 3\n",
       "\\begin{tabular}{lll}\n",
       " label & levels & all\\\\\n",
       " <chr> & <chr> & <chr>\\\\\n",
       "\\hline\n",
       "\t body\\_mass\\_index        & Mean (SD)      & 24.3 (6.1) \\\\\n",
       "\t af.factor              & no             & 1582 (79.2)\\\\\n",
       "\t                        & yes            & 416 (20.8) \\\\\n",
       "\t chronic\\_kidney\\_disease & no             & 1425 (71.3)\\\\\n",
       "\t                        & yes            & 573 (28.7) \\\\\n",
       "\t hf.factor              & no             & 1699 (85.0)\\\\\n",
       "\t                        & yes            & 299 (15.0) \\\\\n",
       "\t chd.factor             & no             & 1555 (77.8)\\\\\n",
       "\t                        & yes            & 443 (22.2) \\\\\n",
       "\t diabetes.factor        & yes            & 517 (100.0)\\\\\n",
       "\t smoking.factor         & current smoker & 184 (9.6)  \\\\\n",
       "\t                        & ex-smoker      & 661 (34.5) \\\\\n",
       "\t                        & non-smoker     & 1071 (55.9)\\\\\n",
       "\t previous\\_stroke        & no             & 1919 (96.0)\\\\\n",
       "\t                        & yes            & 79 (4.0)   \\\\\n",
       "\t life\\_exp               & Mean (SD)      & 15.0 (14.4)\\\\\n",
       "\\end{tabular}\n"
      ],
      "text/markdown": [
       "\n",
       "A data.frame.ff: 16 × 3\n",
       "\n",
       "| label &lt;chr&gt; | levels &lt;chr&gt; | all &lt;chr&gt; |\n",
       "|---|---|---|\n",
       "| body_mass_index        | Mean (SD)      | 24.3 (6.1)  |\n",
       "| af.factor              | no             | 1582 (79.2) |\n",
       "| <!----> | yes            | 416 (20.8)  |\n",
       "| chronic_kidney_disease | no             | 1425 (71.3) |\n",
       "| <!----> | yes            | 573 (28.7)  |\n",
       "| hf.factor              | no             | 1699 (85.0) |\n",
       "| <!----> | yes            | 299 (15.0)  |\n",
       "| chd.factor             | no             | 1555 (77.8) |\n",
       "| <!----> | yes            | 443 (22.2)  |\n",
       "| diabetes.factor        | yes            | 517 (100.0) |\n",
       "| smoking.factor         | current smoker | 184 (9.6)   |\n",
       "| <!----> | ex-smoker      | 661 (34.5)  |\n",
       "| <!----> | non-smoker     | 1071 (55.9) |\n",
       "| previous_stroke        | no             | 1919 (96.0) |\n",
       "| <!----> | yes            | 79 (4.0)    |\n",
       "| life_exp               | Mean (SD)      | 15.0 (14.4) |\n",
       "\n"
      ],
      "text/plain": [
       "   label                  levels         all        \n",
       "1  body_mass_index        Mean (SD)      24.3 (6.1) \n",
       "2  af.factor              no             1582 (79.2)\n",
       "3                         yes            416 (20.8) \n",
       "4  chronic_kidney_disease no             1425 (71.3)\n",
       "5                         yes            573 (28.7) \n",
       "6  hf.factor              no             1699 (85.0)\n",
       "7                         yes            299 (15.0) \n",
       "8  chd.factor             no             1555 (77.8)\n",
       "9                         yes            443 (22.2) \n",
       "10 diabetes.factor        yes            517 (100.0)\n",
       "11 smoking.factor         current smoker 184 (9.6)  \n",
       "12                        ex-smoker      661 (34.5) \n",
       "13                        non-smoker     1071 (55.9)\n",
       "14 previous_stroke        no             1919 (96.0)\n",
       "15                        yes            79 (4.0)   \n",
       "16 life_exp               Mean (SD)      15.0 (14.4)"
      ]
     },
     "metadata": {},
     "output_type": "display_data"
    }
   ],
   "source": [
    "bp_data %>% \n",
    "\n",
    "summary_factorlist(dependent= NULL, explanatory = c(\"body_mass_index\",\"af.factor\",\"chronic_kidney_disease\",\"hf.factor\",\"chd.factor\",\"diabetes.factor\",\"smoking.factor\",\"previous_stroke\",\"life_exp\") )"
   ]
  },
  {
   "cell_type": "markdown",
   "id": "fb9d8cd0-e47e-44a1-89ff-9bc675c55116",
   "metadata": {
    "jp-MarkdownHeadingCollapsed": true,
    "tags": []
   },
   "source": [
    "## Electronic frailty index 2"
   ]
  },
  {
   "cell_type": "code",
   "execution_count": 45,
   "id": "bc09892d-6080-4f96-852a-480a043a8ad7",
   "metadata": {
    "collapsed": true,
    "jupyter": {
     "outputs_hidden": true
    },
    "tags": []
   },
   "outputs": [],
   "source": [
    "bp_data <- bp_data %>% \n",
    "  mutate(\n",
    "    efi2.factor = \n",
    "      efi2 %>%\n",
    "      cut(breaks = c(0,0.12,0.24,0.36,0.999), include.lowest= TRUE) %>% \n",
    "      fct_recode(\n",
    "        \"fit\"      =  \"[0,0.12]\",\n",
    "        \"mild frailty\" = \"(0.12,0.24]\",\n",
    "        \"moderate frailty\" = \"(0.24,0.36]\",\n",
    "        \"severe frailty\"  = \"(0.36,0.999]\"\n",
    "      ) %>% \n",
    "      ff_label(\"Efi2 category\"))\n",
    "\n"
   ]
  },
  {
   "cell_type": "code",
   "execution_count": 101,
   "id": "8bde2c56-747c-4076-b936-7082d3e1c427",
   "metadata": {
    "collapsed": true,
    "jupyter": {
     "outputs_hidden": true
    },
    "tags": []
   },
   "outputs": [
    {
     "data": {
      "text/html": [
       "<table class=\"dataframe\">\n",
       "<caption>A data.frame.ff: 4 × 4</caption>\n",
       "<thead>\n",
       "\t<tr><th scope=col>label</th><th scope=col>levels</th><th scope=col>Nursing</th><th scope=col>Residential</th></tr>\n",
       "\t<tr><th scope=col>&lt;chr&gt;</th><th scope=col>&lt;chr&gt;</th><th scope=col>&lt;chr&gt;</th><th scope=col>&lt;chr&gt;</th></tr>\n",
       "</thead>\n",
       "<tbody>\n",
       "\t<tr><td>Efi2 category</td><td>fit             </td><td>0 (0.0)   </td><td>0 (0.0)   </td></tr>\n",
       "\t<tr><td>             </td><td>mild frailty    </td><td>112 (9.5) </td><td>84 (10.3) </td></tr>\n",
       "\t<tr><td>             </td><td>moderate frailty</td><td>390 (33.1)</td><td>262 (32.0)</td></tr>\n",
       "\t<tr><td>             </td><td>severe frailty  </td><td>677 (57.4)</td><td>473 (57.8)</td></tr>\n",
       "</tbody>\n",
       "</table>\n"
      ],
      "text/latex": [
       "A data.frame.ff: 4 × 4\n",
       "\\begin{tabular}{llll}\n",
       " label & levels & Nursing & Residential\\\\\n",
       " <chr> & <chr> & <chr> & <chr>\\\\\n",
       "\\hline\n",
       "\t Efi2 category & fit              & 0 (0.0)    & 0 (0.0)   \\\\\n",
       "\t               & mild frailty     & 112 (9.5)  & 84 (10.3) \\\\\n",
       "\t               & moderate frailty & 390 (33.1) & 262 (32.0)\\\\\n",
       "\t               & severe frailty   & 677 (57.4) & 473 (57.8)\\\\\n",
       "\\end{tabular}\n"
      ],
      "text/markdown": [
       "\n",
       "A data.frame.ff: 4 × 4\n",
       "\n",
       "| label &lt;chr&gt; | levels &lt;chr&gt; | Nursing &lt;chr&gt; | Residential &lt;chr&gt; |\n",
       "|---|---|---|---|\n",
       "| Efi2 category | fit              | 0 (0.0)    | 0 (0.0)    |\n",
       "| <!----> | mild frailty     | 112 (9.5)  | 84 (10.3)  |\n",
       "| <!----> | moderate frailty | 390 (33.1) | 262 (32.0) |\n",
       "| <!----> | severe frailty   | 677 (57.4) | 473 (57.8) |\n",
       "\n"
      ],
      "text/plain": [
       "  label         levels           Nursing    Residential\n",
       "1 Efi2 category fit              0 (0.0)    0 (0.0)    \n",
       "2               mild frailty     112 (9.5)  84 (10.3)  \n",
       "3               moderate frailty 390 (33.1) 262 (32.0) \n",
       "4               severe frailty   677 (57.4) 473 (57.8) "
      ]
     },
     "metadata": {},
     "output_type": "display_data"
    }
   ],
   "source": [
    "bp_data %>% summary_factorlist(dependent = c(\"service.factor\"),explanatory=c(\"efi2.factor\"))"
   ]
  },
  {
   "cell_type": "code",
   "execution_count": 95,
   "id": "8c6a144c-abfb-49b7-97df-93ceb8bfe311",
   "metadata": {
    "collapsed": true,
    "jupyter": {
     "outputs_hidden": true
    },
    "tags": []
   },
   "outputs": [
    {
     "name": "stderr",
     "output_type": "stream",
     "text": [
      "\u001b[1m\u001b[22m`summarise()` has grouped output by 'efi2.factor'. You can override using the\n",
      "`.groups` argument.\n"
     ]
    },
    {
     "data": {
      "text/html": [
       "<table class=\"dataframe\">\n",
       "<caption>A grouped_df: 6 × 4</caption>\n",
       "<thead>\n",
       "\t<tr><th scope=col>efi2.factor</th><th scope=col>service.factor</th><th scope=col>freq</th><th scope=col>percentage</th></tr>\n",
       "\t<tr><th scope=col>&lt;fct&gt;</th><th scope=col>&lt;fct&gt;</th><th scope=col>&lt;int&gt;</th><th scope=col>&lt;dbl&gt;</th></tr>\n",
       "</thead>\n",
       "<tbody>\n",
       "\t<tr><td>mild frailty    </td><td>Nursing    </td><td>112</td><td>57.1</td></tr>\n",
       "\t<tr><td>mild frailty    </td><td>Residential</td><td> 84</td><td>42.9</td></tr>\n",
       "\t<tr><td>moderate frailty</td><td>Nursing    </td><td>390</td><td>59.8</td></tr>\n",
       "\t<tr><td>moderate frailty</td><td>Residential</td><td>262</td><td>40.2</td></tr>\n",
       "\t<tr><td>severe frailty  </td><td>Nursing    </td><td>677</td><td>58.9</td></tr>\n",
       "\t<tr><td>severe frailty  </td><td>Residential</td><td>473</td><td>41.1</td></tr>\n",
       "</tbody>\n",
       "</table>\n"
      ],
      "text/latex": [
       "A grouped\\_df: 6 × 4\n",
       "\\begin{tabular}{llll}\n",
       " efi2.factor & service.factor & freq & percentage\\\\\n",
       " <fct> & <fct> & <int> & <dbl>\\\\\n",
       "\\hline\n",
       "\t mild frailty     & Nursing     & 112 & 57.1\\\\\n",
       "\t mild frailty     & Residential &  84 & 42.9\\\\\n",
       "\t moderate frailty & Nursing     & 390 & 59.8\\\\\n",
       "\t moderate frailty & Residential & 262 & 40.2\\\\\n",
       "\t severe frailty   & Nursing     & 677 & 58.9\\\\\n",
       "\t severe frailty   & Residential & 473 & 41.1\\\\\n",
       "\\end{tabular}\n"
      ],
      "text/markdown": [
       "\n",
       "A grouped_df: 6 × 4\n",
       "\n",
       "| efi2.factor &lt;fct&gt; | service.factor &lt;fct&gt; | freq &lt;int&gt; | percentage &lt;dbl&gt; |\n",
       "|---|---|---|---|\n",
       "| mild frailty     | Nursing     | 112 | 57.1 |\n",
       "| mild frailty     | Residential |  84 | 42.9 |\n",
       "| moderate frailty | Nursing     | 390 | 59.8 |\n",
       "| moderate frailty | Residential | 262 | 40.2 |\n",
       "| severe frailty   | Nursing     | 677 | 58.9 |\n",
       "| severe frailty   | Residential | 473 | 41.1 |\n",
       "\n"
      ],
      "text/plain": [
       "  efi2.factor      service.factor freq percentage\n",
       "1 mild frailty     Nursing        112  57.1      \n",
       "2 mild frailty     Residential     84  42.9      \n",
       "3 moderate frailty Nursing        390  59.8      \n",
       "4 moderate frailty Residential    262  40.2      \n",
       "5 severe frailty   Nursing        677  58.9      \n",
       "6 severe frailty   Residential    473  41.1      "
      ]
     },
     "metadata": {},
     "output_type": "display_data"
    }
   ],
   "source": [
    "efi2 <- bp_data %>% group_by(efi2.factor,service.factor) %>% summarise(freq=n())%>% mutate(percentage=(round(freq/sum(freq),3))*100)\n",
    "\n",
    "efi2"
   ]
  },
  {
   "cell_type": "code",
   "execution_count": 97,
   "id": "25626b27-4252-47df-a76c-9d5de064c257",
   "metadata": {
    "collapsed": true,
    "jupyter": {
     "outputs_hidden": true
    },
    "tags": []
   },
   "outputs": [
    {
     "data": {
      "image/png": "[encoded data removed]",
      "text/plain": [
       "plot without title"
      ]
     },
     "metadata": {
      "image/png": {
       "height": 420,
       "width": 420
      }
     },
     "output_type": "display_data"
    }
   ],
   "source": [
    "efi2%>%  ggplot(aes(fill=service.factor,x=efi2.factor,y= percentage))+ geom_col(fill='dark green') + theme_bw()+labs(x= \"Electronic frailty index 2\")+expand_limits(y=100)+geom_text(aes(label = percentage),vjust = 0)"
   ]
  },
  {
   "cell_type": "code",
   "execution_count": 48,
   "id": "5aac49b4-f57b-4395-9f5e-df21774d7650",
   "metadata": {
    "collapsed": true,
    "jupyter": {
     "outputs_hidden": true
    },
    "tags": []
   },
   "outputs": [
    {
     "name": "stderr",
     "output_type": "stream",
     "text": [
      "No dependent variable(s) provided; defaulting to single-level factor\n",
      "\n"
     ]
    },
    {
     "data": {
      "text/html": [
       "<table class=\"dataframe\">\n",
       "<caption>A data.frame.ff: 2 × 3</caption>\n",
       "<thead>\n",
       "\t<tr><th scope=col>label</th><th scope=col>levels</th><th scope=col>all</th></tr>\n",
       "\t<tr><th scope=col>&lt;chr&gt;</th><th scope=col>&lt;chr&gt;</th><th scope=col>&lt;chr&gt;</th></tr>\n",
       "</thead>\n",
       "<tbody>\n",
       "\t<tr><td>efi2       </td><td>Mean (SD)</td><td>0.4 (0.1)</td></tr>\n",
       "\t<tr><td>efall_value</td><td>Mean (SD)</td><td>0.3 (0.1)</td></tr>\n",
       "</tbody>\n",
       "</table>\n"
      ],
      "text/latex": [
       "A data.frame.ff: 2 × 3\n",
       "\\begin{tabular}{lll}\n",
       " label & levels & all\\\\\n",
       " <chr> & <chr> & <chr>\\\\\n",
       "\\hline\n",
       "\t efi2        & Mean (SD) & 0.4 (0.1)\\\\\n",
       "\t efall\\_value & Mean (SD) & 0.3 (0.1)\\\\\n",
       "\\end{tabular}\n"
      ],
      "text/markdown": [
       "\n",
       "A data.frame.ff: 2 × 3\n",
       "\n",
       "| label &lt;chr&gt; | levels &lt;chr&gt; | all &lt;chr&gt; |\n",
       "|---|---|---|\n",
       "| efi2        | Mean (SD) | 0.4 (0.1) |\n",
       "| efall_value | Mean (SD) | 0.3 (0.1) |\n",
       "\n"
      ],
      "text/plain": [
       "  label       levels    all      \n",
       "1 efi2        Mean (SD) 0.4 (0.1)\n",
       "2 efall_value Mean (SD) 0.3 (0.1)"
      ]
     },
     "metadata": {},
     "output_type": "display_data"
    }
   ],
   "source": [
    "bp_data %>% \n",
    "\n",
    "summary_factorlist(dependent= NULL, explanatory = c(\"efi2\",\"efall_value\") )"
   ]
  },
  {
   "cell_type": "code",
   "execution_count": 49,
   "id": "562ad672-7c01-4408-a33f-6f4e0f887d4b",
   "metadata": {
    "collapsed": true,
    "jupyter": {
     "outputs_hidden": true
    },
    "tags": []
   },
   "outputs": [
    {
     "name": "stderr",
     "output_type": "stream",
     "text": [
      "\u001b[1m\u001b[22m`stat_bin()` using `bins = 30`. Pick better value with `binwidth`.\n",
      "Warning message:\n",
      "“\u001b[1m\u001b[22mRemoved 173 rows containing non-finite values (`stat_bin()`).”\n"
     ]
    },
    {
     "data": {
      "image/png": "[encoded data removed]",
      "text/plain": [
       "plot without title"
      ]
     },
     "metadata": {
      "image/png": {
       "height": 420,
       "width": 420
      }
     },
     "output_type": "display_data"
    }
   ],
   "source": [
    "bp_data %>%  ggplot(aes(x= life_exp ))+ geom_histogram() + theme_bw()"
   ]
  },
  {
   "cell_type": "markdown",
   "id": "cce6916f-3f93-4b22-97d5-8a11bddddcbd",
   "metadata": {
    "jp-MarkdownHeadingCollapsed": true,
    "tags": []
   },
   "source": [
    "## Hypertension Prevalence"
   ]
  },
  {
   "cell_type": "code",
   "execution_count": 50,
   "id": "f01cc378-f7a0-4541-b294-fbc6ce59ae25",
   "metadata": {
    "collapsed": true,
    "jupyter": {
     "outputs_hidden": true
    },
    "tags": []
   },
   "outputs": [
    {
     "data": {
      "text/html": [
       "<style>\n",
       ".list-inline {list-style: none; margin:0; padding: 0}\n",
       ".list-inline>li {display: inline-block}\n",
       ".list-inline>li:not(:last-child)::after {content: \"\\00b7\"; padding: 0 .5ex}\n",
       "</style>\n",
       "<ol class=list-inline><li>FALSE</li><li>FALSE</li><li>FALSE</li><li>FALSE</li><li>FALSE</li><li>FALSE</li><li>FALSE</li><li>FALSE</li><li>FALSE</li><li>FALSE</li><li>FALSE</li><li>FALSE</li><li>FALSE</li><li>FALSE</li><li>FALSE</li><li>FALSE</li><li>FALSE</li><li>FALSE</li><li>FALSE</li><li>FALSE</li><li>FALSE</li><li>FALSE</li><li>FALSE</li><li>FALSE</li><li>FALSE</li><li>FALSE</li><li>FALSE</li><li>FALSE</li><li>FALSE</li><li>FALSE</li><li>FALSE</li><li>FALSE</li><li>FALSE</li><li>FALSE</li><li>FALSE</li><li>FALSE</li><li>FALSE</li><li>FALSE</li><li>FALSE</li><li>FALSE</li><li>FALSE</li><li>FALSE</li><li>FALSE</li><li>FALSE</li><li>FALSE</li><li>FALSE</li><li>FALSE</li><li>FALSE</li><li>FALSE</li><li>FALSE</li><li>FALSE</li><li>FALSE</li><li>FALSE</li><li>FALSE</li><li>FALSE</li><li>FALSE</li><li>FALSE</li><li>FALSE</li><li>FALSE</li><li>FALSE</li><li>FALSE</li><li>FALSE</li><li>FALSE</li><li>FALSE</li><li>FALSE</li><li>FALSE</li><li>FALSE</li><li>FALSE</li><li>FALSE</li><li>FALSE</li><li>FALSE</li><li>FALSE</li><li>FALSE</li><li>FALSE</li><li>FALSE</li><li>FALSE</li><li>FALSE</li><li>FALSE</li><li>FALSE</li><li>FALSE</li><li>FALSE</li><li>FALSE</li><li>FALSE</li><li>FALSE</li><li>FALSE</li><li>FALSE</li><li>FALSE</li><li>FALSE</li><li>FALSE</li><li>FALSE</li><li>FALSE</li><li>FALSE</li><li>FALSE</li><li>FALSE</li><li>FALSE</li><li>FALSE</li><li>FALSE</li><li>FALSE</li><li>FALSE</li><li>FALSE</li><li>FALSE</li><li>FALSE</li><li>FALSE</li><li>FALSE</li><li>FALSE</li><li>FALSE</li><li>FALSE</li><li>FALSE</li><li>FALSE</li><li>FALSE</li><li>FALSE</li><li>FALSE</li><li>FALSE</li><li>FALSE</li><li>FALSE</li><li>FALSE</li><li>FALSE</li><li>FALSE</li><li>FALSE</li><li>FALSE</li><li>FALSE</li><li>FALSE</li><li>FALSE</li><li>FALSE</li><li>FALSE</li><li>FALSE</li><li>FALSE</li><li>FALSE</li><li>FALSE</li><li>FALSE</li><li>FALSE</li><li>FALSE</li><li>FALSE</li><li>FALSE</li><li>FALSE</li><li>FALSE</li><li>FALSE</li><li>FALSE</li><li>FALSE</li><li>FALSE</li><li>FALSE</li><li>FALSE</li><li>FALSE</li><li>FALSE</li><li>FALSE</li><li>FALSE</li><li>FALSE</li><li>FALSE</li><li>FALSE</li><li>FALSE</li><li>FALSE</li><li>FALSE</li><li>FALSE</li><li>FALSE</li><li>FALSE</li><li>FALSE</li><li>FALSE</li><li>FALSE</li><li>FALSE</li><li>FALSE</li><li>FALSE</li><li>FALSE</li><li>FALSE</li><li>FALSE</li><li>FALSE</li><li>FALSE</li><li>FALSE</li><li>FALSE</li><li>FALSE</li><li>FALSE</li><li>FALSE</li><li>FALSE</li><li>FALSE</li><li>FALSE</li><li>FALSE</li><li>FALSE</li><li>FALSE</li><li>FALSE</li><li>FALSE</li><li>FALSE</li><li>FALSE</li><li>FALSE</li><li>FALSE</li><li>FALSE</li><li>FALSE</li><li>FALSE</li><li>FALSE</li><li>FALSE</li><li>FALSE</li><li>FALSE</li><li>FALSE</li><li>FALSE</li><li>FALSE</li><li>FALSE</li><li>FALSE</li><li>FALSE</li><li>FALSE</li><li>FALSE</li><li>FALSE</li><li>FALSE</li><li>⋯</li><li>FALSE</li><li>FALSE</li><li>FALSE</li><li>FALSE</li><li>FALSE</li><li>FALSE</li><li>FALSE</li><li>FALSE</li><li>FALSE</li><li>FALSE</li><li>FALSE</li><li>FALSE</li><li>FALSE</li><li>FALSE</li><li>FALSE</li><li>FALSE</li><li>FALSE</li><li>FALSE</li><li>FALSE</li><li>FALSE</li><li>FALSE</li><li>FALSE</li><li>FALSE</li><li>FALSE</li><li>FALSE</li><li>FALSE</li><li>FALSE</li><li>FALSE</li><li>FALSE</li><li>FALSE</li><li>FALSE</li><li>FALSE</li><li>FALSE</li><li>FALSE</li><li>FALSE</li><li>FALSE</li><li>FALSE</li><li>FALSE</li><li>FALSE</li><li>FALSE</li><li>FALSE</li><li>FALSE</li><li>FALSE</li><li>FALSE</li><li>FALSE</li><li>FALSE</li><li>FALSE</li><li>FALSE</li><li>FALSE</li><li>FALSE</li><li>FALSE</li><li>FALSE</li><li>FALSE</li><li>FALSE</li><li>FALSE</li><li>FALSE</li><li>FALSE</li><li>FALSE</li><li>FALSE</li><li>FALSE</li><li>FALSE</li><li>FALSE</li><li>FALSE</li><li>FALSE</li><li>FALSE</li><li>FALSE</li><li>FALSE</li><li>FALSE</li><li>FALSE</li><li>FALSE</li><li>FALSE</li><li>FALSE</li><li>FALSE</li><li>FALSE</li><li>FALSE</li><li>FALSE</li><li>FALSE</li><li>FALSE</li><li>FALSE</li><li>FALSE</li><li>FALSE</li><li>FALSE</li><li>FALSE</li><li>FALSE</li><li>FALSE</li><li>FALSE</li><li>FALSE</li><li>FALSE</li><li>FALSE</li><li>FALSE</li><li>FALSE</li><li>FALSE</li><li>FALSE</li><li>FALSE</li><li>FALSE</li><li>FALSE</li><li>FALSE</li><li>FALSE</li><li>FALSE</li><li>FALSE</li><li>FALSE</li><li>FALSE</li><li>FALSE</li><li>FALSE</li><li>FALSE</li><li>FALSE</li><li>FALSE</li><li>FALSE</li><li>FALSE</li><li>FALSE</li><li>FALSE</li><li>FALSE</li><li>FALSE</li><li>FALSE</li><li>FALSE</li><li>FALSE</li><li>FALSE</li><li>FALSE</li><li>FALSE</li><li>FALSE</li><li>FALSE</li><li>FALSE</li><li>FALSE</li><li>FALSE</li><li>FALSE</li><li>FALSE</li><li>FALSE</li><li>FALSE</li><li>FALSE</li><li>FALSE</li><li>FALSE</li><li>FALSE</li><li>FALSE</li><li>FALSE</li><li>FALSE</li><li>FALSE</li><li>FALSE</li><li>FALSE</li><li>FALSE</li><li>FALSE</li><li>FALSE</li><li>FALSE</li><li>FALSE</li><li>FALSE</li><li>FALSE</li><li>FALSE</li><li>FALSE</li><li>FALSE</li><li>FALSE</li><li>FALSE</li><li>FALSE</li><li>FALSE</li><li>FALSE</li><li>FALSE</li><li>FALSE</li><li>FALSE</li><li>FALSE</li><li>FALSE</li><li>FALSE</li><li>FALSE</li><li>FALSE</li><li>FALSE</li><li>FALSE</li><li>FALSE</li><li>FALSE</li><li>FALSE</li><li>FALSE</li><li>FALSE</li><li>FALSE</li><li>FALSE</li><li>FALSE</li><li>FALSE</li><li>FALSE</li><li>FALSE</li><li>FALSE</li><li>FALSE</li><li>FALSE</li><li>FALSE</li><li>FALSE</li><li>FALSE</li><li>FALSE</li><li>FALSE</li><li>FALSE</li><li>FALSE</li><li>FALSE</li><li>FALSE</li><li>FALSE</li><li>FALSE</li><li>FALSE</li><li>FALSE</li><li>FALSE</li><li>FALSE</li><li>FALSE</li><li>FALSE</li><li>FALSE</li><li>FALSE</li><li>FALSE</li><li>FALSE</li><li>FALSE</li><li>FALSE</li></ol>\n"
      ],
      "text/latex": [
       "\\begin{enumerate*}\n",
       "\\item FALSE\n",
       "\\item FALSE\n",
       "\\item FALSE\n",
       "\\item FALSE\n",
       "\\item FALSE\n",
       "\\item FALSE\n",
       "\\item FALSE\n",
       "\\item FALSE\n",
       "\\item FALSE\n",
       "\\item FALSE\n",
       "\\item FALSE\n",
       "\\item FALSE\n",
       "\\item FALSE\n",
       "\\item FALSE\n",
       "\\item FALSE\n",
       "\\item FALSE\n",
       "\\item FALSE\n",
       "\\item FALSE\n",
       "\\item FALSE\n",
       "\\item FALSE\n",
       "\\item FALSE\n",
       "\\item FALSE\n",
       "\\item FALSE\n",
       "\\item FALSE\n",
       "\\item FALSE\n",
       "\\item FALSE\n",
       "\\item FALSE\n",
       "\\item FALSE\n",
       "\\item FALSE\n",
       "\\item FALSE\n",
       "\\item FALSE\n",
       "\\item FALSE\n",
       "\\item FALSE\n",
       "\\item FALSE\n",
       "\\item FALSE\n",
       "\\item FALSE\n",
       "\\item FALSE\n",
       "\\item FALSE\n",
       "\\item FALSE\n",
       "\\item FALSE\n",
       "\\item FALSE\n",
       "\\item FALSE\n",
       "\\item FALSE\n",
       "\\item FALSE\n",
       "\\item FALSE\n",
       "\\item FALSE\n",
       "\\item FALSE\n",
       "\\item FALSE\n",
       "\\item FALSE\n",
       "\\item FALSE\n",
       "\\item FALSE\n",
       "\\item FALSE\n",
       "\\item FALSE\n",
       "\\item FALSE\n",
       "\\item FALSE\n",
       "\\item FALSE\n",
       "\\item FALSE\n",
       "\\item FALSE\n",
       "\\item FALSE\n",
       "\\item FALSE\n",
       "\\item FALSE\n",
       "\\item FALSE\n",
       "\\item FALSE\n",
       "\\item FALSE\n",
       "\\item FALSE\n",
       "\\item FALSE\n",
       "\\item FALSE\n",
       "\\item FALSE\n",
       "\\item FALSE\n",
       "\\item FALSE\n",
       "\\item FALSE\n",
       "\\item FALSE\n",
       "\\item FALSE\n",
       "\\item FALSE\n",
       "\\item FALSE\n",
       "\\item FALSE\n",
       "\\item FALSE\n",
       "\\item FALSE\n",
       "\\item FALSE\n",
       "\\item FALSE\n",
       "\\item FALSE\n",
       "\\item FALSE\n",
       "\\item FALSE\n",
       "\\item FALSE\n",
       "\\item FALSE\n",
       "\\item FALSE\n",
       "\\item FALSE\n",
       "\\item FALSE\n",
       "\\item FALSE\n",
       "\\item FALSE\n",
       "\\item FALSE\n",
       "\\item FALSE\n",
       "\\item FALSE\n",
       "\\item FALSE\n",
       "\\item FALSE\n",
       "\\item FALSE\n",
       "\\item FALSE\n",
       "\\item FALSE\n",
       "\\item FALSE\n",
       "\\item FALSE\n",
       "\\item FALSE\n",
       "\\item FALSE\n",
       "\\item FALSE\n",
       "\\item FALSE\n",
       "\\item FALSE\n",
       "\\item FALSE\n",
       "\\item FALSE\n",
       "\\item FALSE\n",
       "\\item FALSE\n",
       "\\item FALSE\n",
       "\\item FALSE\n",
       "\\item FALSE\n",
       "\\item FALSE\n",
       "\\item FALSE\n",
       "\\item FALSE\n",
       "\\item FALSE\n",
       "\\item FALSE\n",
       "\\item FALSE\n",
       "\\item FALSE\n",
       "\\item FALSE\n",
       "\\item FALSE\n",
       "\\item FALSE\n",
       "\\item FALSE\n",
       "\\item FALSE\n",
       "\\item FALSE\n",
       "\\item FALSE\n",
       "\\item FALSE\n",
       "\\item FALSE\n",
       "\\item FALSE\n",
       "\\item FALSE\n",
       "\\item FALSE\n",
       "\\item FALSE\n",
       "\\item FALSE\n",
       "\\item FALSE\n",
       "\\item FALSE\n",
       "\\item FALSE\n",
       "\\item FALSE\n",
       "\\item FALSE\n",
       "\\item FALSE\n",
       "\\item FALSE\n",
       "\\item FALSE\n",
       "\\item FALSE\n",
       "\\item FALSE\n",
       "\\item FALSE\n",
       "\\item FALSE\n",
       "\\item FALSE\n",
       "\\item FALSE\n",
       "\\item FALSE\n",
       "\\item FALSE\n",
       "\\item FALSE\n",
       "\\item FALSE\n",
       "\\item FALSE\n",
       "\\item FALSE\n",
       "\\item FALSE\n",
       "\\item FALSE\n",
       "\\item FALSE\n",
       "\\item FALSE\n",
       "\\item FALSE\n",
       "\\item FALSE\n",
       "\\item FALSE\n",
       "\\item FALSE\n",
       "\\item FALSE\n",
       "\\item FALSE\n",
       "\\item FALSE\n",
       "\\item FALSE\n",
       "\\item FALSE\n",
       "\\item FALSE\n",
       "\\item FALSE\n",
       "\\item FALSE\n",
       "\\item FALSE\n",
       "\\item FALSE\n",
       "\\item FALSE\n",
       "\\item FALSE\n",
       "\\item FALSE\n",
       "\\item FALSE\n",
       "\\item FALSE\n",
       "\\item FALSE\n",
       "\\item FALSE\n",
       "\\item FALSE\n",
       "\\item FALSE\n",
       "\\item FALSE\n",
       "\\item FALSE\n",
       "\\item FALSE\n",
       "\\item FALSE\n",
       "\\item FALSE\n",
       "\\item FALSE\n",
       "\\item FALSE\n",
       "\\item FALSE\n",
       "\\item FALSE\n",
       "\\item FALSE\n",
       "\\item FALSE\n",
       "\\item FALSE\n",
       "\\item FALSE\n",
       "\\item FALSE\n",
       "\\item FALSE\n",
       "\\item FALSE\n",
       "\\item FALSE\n",
       "\\item FALSE\n",
       "\\item FALSE\n",
       "\\item FALSE\n",
       "\\item ⋯\n",
       "\\item FALSE\n",
       "\\item FALSE\n",
       "\\item FALSE\n",
       "\\item FALSE\n",
       "\\item FALSE\n",
       "\\item FALSE\n",
       "\\item FALSE\n",
       "\\item FALSE\n",
       "\\item FALSE\n",
       "\\item FALSE\n",
       "\\item FALSE\n",
       "\\item FALSE\n",
       "\\item FALSE\n",
       "\\item FALSE\n",
       "\\item FALSE\n",
       "\\item FALSE\n",
       "\\item FALSE\n",
       "\\item FALSE\n",
       "\\item FALSE\n",
       "\\item FALSE\n",
       "\\item FALSE\n",
       "\\item FALSE\n",
       "\\item FALSE\n",
       "\\item FALSE\n",
       "\\item FALSE\n",
       "\\item FALSE\n",
       "\\item FALSE\n",
       "\\item FALSE\n",
       "\\item FALSE\n",
       "\\item FALSE\n",
       "\\item FALSE\n",
       "\\item FALSE\n",
       "\\item FALSE\n",
       "\\item FALSE\n",
       "\\item FALSE\n",
       "\\item FALSE\n",
       "\\item FALSE\n",
       "\\item FALSE\n",
       "\\item FALSE\n",
       "\\item FALSE\n",
       "\\item FALSE\n",
       "\\item FALSE\n",
       "\\item FALSE\n",
       "\\item FALSE\n",
       "\\item FALSE\n",
       "\\item FALSE\n",
       "\\item FALSE\n",
       "\\item FALSE\n",
       "\\item FALSE\n",
       "\\item FALSE\n",
       "\\item FALSE\n",
       "\\item FALSE\n",
       "\\item FALSE\n",
       "\\item FALSE\n",
       "\\item FALSE\n",
       "\\item FALSE\n",
       "\\item FALSE\n",
       "\\item FALSE\n",
       "\\item FALSE\n",
       "\\item FALSE\n",
       "\\item FALSE\n",
       "\\item FALSE\n",
       "\\item FALSE\n",
       "\\item FALSE\n",
       "\\item FALSE\n",
       "\\item FALSE\n",
       "\\item FALSE\n",
       "\\item FALSE\n",
       "\\item FALSE\n",
       "\\item FALSE\n",
       "\\item FALSE\n",
       "\\item FALSE\n",
       "\\item FALSE\n",
       "\\item FALSE\n",
       "\\item FALSE\n",
       "\\item FALSE\n",
       "\\item FALSE\n",
       "\\item FALSE\n",
       "\\item FALSE\n",
       "\\item FALSE\n",
       "\\item FALSE\n",
       "\\item FALSE\n",
       "\\item FALSE\n",
       "\\item FALSE\n",
       "\\item FALSE\n",
       "\\item FALSE\n",
       "\\item FALSE\n",
       "\\item FALSE\n",
       "\\item FALSE\n",
       "\\item FALSE\n",
       "\\item FALSE\n",
       "\\item FALSE\n",
       "\\item FALSE\n",
       "\\item FALSE\n",
       "\\item FALSE\n",
       "\\item FALSE\n",
       "\\item FALSE\n",
       "\\item FALSE\n",
       "\\item FALSE\n",
       "\\item FALSE\n",
       "\\item FALSE\n",
       "\\item FALSE\n",
       "\\item FALSE\n",
       "\\item FALSE\n",
       "\\item FALSE\n",
       "\\item FALSE\n",
       "\\item FALSE\n",
       "\\item FALSE\n",
       "\\item FALSE\n",
       "\\item FALSE\n",
       "\\item FALSE\n",
       "\\item FALSE\n",
       "\\item FALSE\n",
       "\\item FALSE\n",
       "\\item FALSE\n",
       "\\item FALSE\n",
       "\\item FALSE\n",
       "\\item FALSE\n",
       "\\item FALSE\n",
       "\\item FALSE\n",
       "\\item FALSE\n",
       "\\item FALSE\n",
       "\\item FALSE\n",
       "\\item FALSE\n",
       "\\item FALSE\n",
       "\\item FALSE\n",
       "\\item FALSE\n",
       "\\item FALSE\n",
       "\\item FALSE\n",
       "\\item FALSE\n",
       "\\item FALSE\n",
       "\\item FALSE\n",
       "\\item FALSE\n",
       "\\item FALSE\n",
       "\\item FALSE\n",
       "\\item FALSE\n",
       "\\item FALSE\n",
       "\\item FALSE\n",
       "\\item FALSE\n",
       "\\item FALSE\n",
       "\\item FALSE\n",
       "\\item FALSE\n",
       "\\item FALSE\n",
       "\\item FALSE\n",
       "\\item FALSE\n",
       "\\item FALSE\n",
       "\\item FALSE\n",
       "\\item FALSE\n",
       "\\item FALSE\n",
       "\\item FALSE\n",
       "\\item FALSE\n",
       "\\item FALSE\n",
       "\\item FALSE\n",
       "\\item FALSE\n",
       "\\item FALSE\n",
       "\\item FALSE\n",
       "\\item FALSE\n",
       "\\item FALSE\n",
       "\\item FALSE\n",
       "\\item FALSE\n",
       "\\item FALSE\n",
       "\\item FALSE\n",
       "\\item FALSE\n",
       "\\item FALSE\n",
       "\\item FALSE\n",
       "\\item FALSE\n",
       "\\item FALSE\n",
       "\\item FALSE\n",
       "\\item FALSE\n",
       "\\item FALSE\n",
       "\\item FALSE\n",
       "\\item FALSE\n",
       "\\item FALSE\n",
       "\\item FALSE\n",
       "\\item FALSE\n",
       "\\item FALSE\n",
       "\\item FALSE\n",
       "\\item FALSE\n",
       "\\item FALSE\n",
       "\\item FALSE\n",
       "\\item FALSE\n",
       "\\item FALSE\n",
       "\\item FALSE\n",
       "\\item FALSE\n",
       "\\item FALSE\n",
       "\\item FALSE\n",
       "\\item FALSE\n",
       "\\item FALSE\n",
       "\\item FALSE\n",
       "\\item FALSE\n",
       "\\item FALSE\n",
       "\\item FALSE\n",
       "\\item FALSE\n",
       "\\item FALSE\n",
       "\\item FALSE\n",
       "\\item FALSE\n",
       "\\item FALSE\n",
       "\\item FALSE\n",
       "\\item FALSE\n",
       "\\item FALSE\n",
       "\\end{enumerate*}\n"
      ],
      "text/markdown": [
       "1. FALSE\n",
       "2. FALSE\n",
       "3. FALSE\n",
       "4. FALSE\n",
       "5. FALSE\n",
       "6. FALSE\n",
       "7. FALSE\n",
       "8. FALSE\n",
       "9. FALSE\n",
       "10. FALSE\n",
       "11. FALSE\n",
       "12. FALSE\n",
       "13. FALSE\n",
       "14. FALSE\n",
       "15. FALSE\n",
       "16. FALSE\n",
       "17. FALSE\n",
       "18. FALSE\n",
       "19. FALSE\n",
       "20. FALSE\n",
       "21. FALSE\n",
       "22. FALSE\n",
       "23. FALSE\n",
       "24. FALSE\n",
       "25. FALSE\n",
       "26. FALSE\n",
       "27. FALSE\n",
       "28. FALSE\n",
       "29. FALSE\n",
       "30. FALSE\n",
       "31. FALSE\n",
       "32. FALSE\n",
       "33. FALSE\n",
       "34. FALSE\n",
       "35. FALSE\n",
       "36. FALSE\n",
       "37. FALSE\n",
       "38. FALSE\n",
       "39. FALSE\n",
       "40. FALSE\n",
       "41. FALSE\n",
       "42. FALSE\n",
       "43. FALSE\n",
       "44. FALSE\n",
       "45. FALSE\n",
       "46. FALSE\n",
       "47. FALSE\n",
       "48. FALSE\n",
       "49. FALSE\n",
       "50. FALSE\n",
       "51. FALSE\n",
       "52. FALSE\n",
       "53. FALSE\n",
       "54. FALSE\n",
       "55. FALSE\n",
       "56. FALSE\n",
       "57. FALSE\n",
       "58. FALSE\n",
       "59. FALSE\n",
       "60. FALSE\n",
       "61. FALSE\n",
       "62. FALSE\n",
       "63. FALSE\n",
       "64. FALSE\n",
       "65. FALSE\n",
       "66. FALSE\n",
       "67. FALSE\n",
       "68. FALSE\n",
       "69. FALSE\n",
       "70. FALSE\n",
       "71. FALSE\n",
       "72. FALSE\n",
       "73. FALSE\n",
       "74. FALSE\n",
       "75. FALSE\n",
       "76. FALSE\n",
       "77. FALSE\n",
       "78. FALSE\n",
       "79. FALSE\n",
       "80. FALSE\n",
       "81. FALSE\n",
       "82. FALSE\n",
       "83. FALSE\n",
       "84. FALSE\n",
       "85. FALSE\n",
       "86. FALSE\n",
       "87. FALSE\n",
       "88. FALSE\n",
       "89. FALSE\n",
       "90. FALSE\n",
       "91. FALSE\n",
       "92. FALSE\n",
       "93. FALSE\n",
       "94. FALSE\n",
       "95. FALSE\n",
       "96. FALSE\n",
       "97. FALSE\n",
       "98. FALSE\n",
       "99. FALSE\n",
       "100. FALSE\n",
       "101. FALSE\n",
       "102. FALSE\n",
       "103. FALSE\n",
       "104. FALSE\n",
       "105. FALSE\n",
       "106. FALSE\n",
       "107. FALSE\n",
       "108. FALSE\n",
       "109. FALSE\n",
       "110. FALSE\n",
       "111. FALSE\n",
       "112. FALSE\n",
       "113. FALSE\n",
       "114. FALSE\n",
       "115. FALSE\n",
       "116. FALSE\n",
       "117. FALSE\n",
       "118. FALSE\n",
       "119. FALSE\n",
       "120. FALSE\n",
       "121. FALSE\n",
       "122. FALSE\n",
       "123. FALSE\n",
       "124. FALSE\n",
       "125. FALSE\n",
       "126. FALSE\n",
       "127. FALSE\n",
       "128. FALSE\n",
       "129. FALSE\n",
       "130. FALSE\n",
       "131. FALSE\n",
       "132. FALSE\n",
       "133. FALSE\n",
       "134. FALSE\n",
       "135. FALSE\n",
       "136. FALSE\n",
       "137. FALSE\n",
       "138. FALSE\n",
       "139. FALSE\n",
       "140. FALSE\n",
       "141. FALSE\n",
       "142. FALSE\n",
       "143. FALSE\n",
       "144. FALSE\n",
       "145. FALSE\n",
       "146. FALSE\n",
       "147. FALSE\n",
       "148. FALSE\n",
       "149. FALSE\n",
       "150. FALSE\n",
       "151. FALSE\n",
       "152. FALSE\n",
       "153. FALSE\n",
       "154. FALSE\n",
       "155. FALSE\n",
       "156. FALSE\n",
       "157. FALSE\n",
       "158. FALSE\n",
       "159. FALSE\n",
       "160. FALSE\n",
       "161. FALSE\n",
       "162. FALSE\n",
       "163. FALSE\n",
       "164. FALSE\n",
       "165. FALSE\n",
       "166. FALSE\n",
       "167. FALSE\n",
       "168. FALSE\n",
       "169. FALSE\n",
       "170. FALSE\n",
       "171. FALSE\n",
       "172. FALSE\n",
       "173. FALSE\n",
       "174. FALSE\n",
       "175. FALSE\n",
       "176. FALSE\n",
       "177. FALSE\n",
       "178. FALSE\n",
       "179. FALSE\n",
       "180. FALSE\n",
       "181. FALSE\n",
       "182. FALSE\n",
       "183. FALSE\n",
       "184. FALSE\n",
       "185. FALSE\n",
       "186. FALSE\n",
       "187. FALSE\n",
       "188. FALSE\n",
       "189. FALSE\n",
       "190. FALSE\n",
       "191. FALSE\n",
       "192. FALSE\n",
       "193. FALSE\n",
       "194. FALSE\n",
       "195. FALSE\n",
       "196. FALSE\n",
       "197. FALSE\n",
       "198. FALSE\n",
       "199. FALSE\n",
       "200. FALSE\n",
       "201. ⋯\n",
       "202. FALSE\n",
       "203. FALSE\n",
       "204. FALSE\n",
       "205. FALSE\n",
       "206. FALSE\n",
       "207. FALSE\n",
       "208. FALSE\n",
       "209. FALSE\n",
       "210. FALSE\n",
       "211. FALSE\n",
       "212. FALSE\n",
       "213. FALSE\n",
       "214. FALSE\n",
       "215. FALSE\n",
       "216. FALSE\n",
       "217. FALSE\n",
       "218. FALSE\n",
       "219. FALSE\n",
       "220. FALSE\n",
       "221. FALSE\n",
       "222. FALSE\n",
       "223. FALSE\n",
       "224. FALSE\n",
       "225. FALSE\n",
       "226. FALSE\n",
       "227. FALSE\n",
       "228. FALSE\n",
       "229. FALSE\n",
       "230. FALSE\n",
       "231. FALSE\n",
       "232. FALSE\n",
       "233. FALSE\n",
       "234. FALSE\n",
       "235. FALSE\n",
       "236. FALSE\n",
       "237. FALSE\n",
       "238. FALSE\n",
       "239. FALSE\n",
       "240. FALSE\n",
       "241. FALSE\n",
       "242. FALSE\n",
       "243. FALSE\n",
       "244. FALSE\n",
       "245. FALSE\n",
       "246. FALSE\n",
       "247. FALSE\n",
       "248. FALSE\n",
       "249. FALSE\n",
       "250. FALSE\n",
       "251. FALSE\n",
       "252. FALSE\n",
       "253. FALSE\n",
       "254. FALSE\n",
       "255. FALSE\n",
       "256. FALSE\n",
       "257. FALSE\n",
       "258. FALSE\n",
       "259. FALSE\n",
       "260. FALSE\n",
       "261. FALSE\n",
       "262. FALSE\n",
       "263. FALSE\n",
       "264. FALSE\n",
       "265. FALSE\n",
       "266. FALSE\n",
       "267. FALSE\n",
       "268. FALSE\n",
       "269. FALSE\n",
       "270. FALSE\n",
       "271. FALSE\n",
       "272. FALSE\n",
       "273. FALSE\n",
       "274. FALSE\n",
       "275. FALSE\n",
       "276. FALSE\n",
       "277. FALSE\n",
       "278. FALSE\n",
       "279. FALSE\n",
       "280. FALSE\n",
       "281. FALSE\n",
       "282. FALSE\n",
       "283. FALSE\n",
       "284. FALSE\n",
       "285. FALSE\n",
       "286. FALSE\n",
       "287. FALSE\n",
       "288. FALSE\n",
       "289. FALSE\n",
       "290. FALSE\n",
       "291. FALSE\n",
       "292. FALSE\n",
       "293. FALSE\n",
       "294. FALSE\n",
       "295. FALSE\n",
       "296. FALSE\n",
       "297. FALSE\n",
       "298. FALSE\n",
       "299. FALSE\n",
       "300. FALSE\n",
       "301. FALSE\n",
       "302. FALSE\n",
       "303. FALSE\n",
       "304. FALSE\n",
       "305. FALSE\n",
       "306. FALSE\n",
       "307. FALSE\n",
       "308. FALSE\n",
       "309. FALSE\n",
       "310. FALSE\n",
       "311. FALSE\n",
       "312. FALSE\n",
       "313. FALSE\n",
       "314. FALSE\n",
       "315. FALSE\n",
       "316. FALSE\n",
       "317. FALSE\n",
       "318. FALSE\n",
       "319. FALSE\n",
       "320. FALSE\n",
       "321. FALSE\n",
       "322. FALSE\n",
       "323. FALSE\n",
       "324. FALSE\n",
       "325. FALSE\n",
       "326. FALSE\n",
       "327. FALSE\n",
       "328. FALSE\n",
       "329. FALSE\n",
       "330. FALSE\n",
       "331. FALSE\n",
       "332. FALSE\n",
       "333. FALSE\n",
       "334. FALSE\n",
       "335. FALSE\n",
       "336. FALSE\n",
       "337. FALSE\n",
       "338. FALSE\n",
       "339. FALSE\n",
       "340. FALSE\n",
       "341. FALSE\n",
       "342. FALSE\n",
       "343. FALSE\n",
       "344. FALSE\n",
       "345. FALSE\n",
       "346. FALSE\n",
       "347. FALSE\n",
       "348. FALSE\n",
       "349. FALSE\n",
       "350. FALSE\n",
       "351. FALSE\n",
       "352. FALSE\n",
       "353. FALSE\n",
       "354. FALSE\n",
       "355. FALSE\n",
       "356. FALSE\n",
       "357. FALSE\n",
       "358. FALSE\n",
       "359. FALSE\n",
       "360. FALSE\n",
       "361. FALSE\n",
       "362. FALSE\n",
       "363. FALSE\n",
       "364. FALSE\n",
       "365. FALSE\n",
       "366. FALSE\n",
       "367. FALSE\n",
       "368. FALSE\n",
       "369. FALSE\n",
       "370. FALSE\n",
       "371. FALSE\n",
       "372. FALSE\n",
       "373. FALSE\n",
       "374. FALSE\n",
       "375. FALSE\n",
       "376. FALSE\n",
       "377. FALSE\n",
       "378. FALSE\n",
       "379. FALSE\n",
       "380. FALSE\n",
       "381. FALSE\n",
       "382. FALSE\n",
       "383. FALSE\n",
       "384. FALSE\n",
       "385. FALSE\n",
       "386. FALSE\n",
       "387. FALSE\n",
       "388. FALSE\n",
       "389. FALSE\n",
       "390. FALSE\n",
       "391. FALSE\n",
       "392. FALSE\n",
       "393. FALSE\n",
       "394. FALSE\n",
       "395. FALSE\n",
       "396. FALSE\n",
       "397. FALSE\n",
       "398. FALSE\n",
       "399. FALSE\n",
       "400. FALSE\n",
       "401. FALSE\n",
       "\n",
       "\n"
      ],
      "text/plain": [
       "   [1] FALSE FALSE FALSE FALSE FALSE FALSE FALSE FALSE FALSE FALSE FALSE FALSE\n",
       "  [13] FALSE FALSE FALSE FALSE FALSE FALSE FALSE FALSE FALSE FALSE FALSE FALSE\n",
       "  [25] FALSE FALSE FALSE FALSE FALSE FALSE FALSE FALSE FALSE FALSE FALSE FALSE\n",
       "  [37] FALSE FALSE FALSE FALSE FALSE FALSE FALSE FALSE FALSE FALSE FALSE FALSE\n",
       "  [49] FALSE FALSE FALSE FALSE FALSE FALSE FALSE FALSE FALSE FALSE FALSE FALSE\n",
       "  [61] FALSE FALSE FALSE FALSE FALSE FALSE FALSE FALSE FALSE FALSE FALSE FALSE\n",
       "  [73] FALSE FALSE FALSE FALSE FALSE FALSE FALSE FALSE FALSE FALSE FALSE FALSE\n",
       "  [85] FALSE FALSE FALSE FALSE FALSE FALSE FALSE FALSE FALSE FALSE FALSE FALSE\n",
       "  [97] FALSE FALSE FALSE FALSE FALSE FALSE FALSE FALSE FALSE FALSE FALSE FALSE\n",
       " [109] FALSE FALSE FALSE FALSE FALSE FALSE FALSE FALSE FALSE FALSE FALSE FALSE\n",
       " [121] FALSE FALSE FALSE FALSE FALSE FALSE FALSE FALSE FALSE FALSE FALSE FALSE\n",
       " [133] FALSE FALSE FALSE FALSE FALSE FALSE FALSE FALSE FALSE FALSE FALSE FALSE\n",
       " [145] FALSE FALSE FALSE FALSE FALSE FALSE FALSE FALSE FALSE FALSE FALSE FALSE\n",
       " [157] FALSE FALSE FALSE FALSE FALSE FALSE FALSE FALSE FALSE FALSE FALSE FALSE\n",
       " [169] FALSE FALSE FALSE FALSE FALSE FALSE FALSE FALSE FALSE FALSE FALSE FALSE\n",
       " [181] FALSE FALSE FALSE FALSE FALSE FALSE FALSE FALSE FALSE FALSE FALSE FALSE\n",
       " [193] FALSE FALSE FALSE FALSE FALSE FALSE FALSE FALSE FALSE FALSE FALSE FALSE\n",
       " [205] FALSE FALSE FALSE FALSE FALSE FALSE FALSE FALSE FALSE FALSE FALSE FALSE\n",
       " [217] FALSE FALSE FALSE FALSE FALSE FALSE FALSE FALSE FALSE FALSE FALSE FALSE\n",
       " [229] FALSE FALSE FALSE FALSE FALSE FALSE FALSE FALSE FALSE FALSE FALSE FALSE\n",
       " [241] FALSE FALSE FALSE FALSE FALSE FALSE FALSE FALSE FALSE FALSE FALSE FALSE\n",
       " [253] FALSE FALSE FALSE FALSE FALSE FALSE FALSE FALSE FALSE FALSE FALSE FALSE\n",
       " [265] FALSE FALSE FALSE FALSE FALSE FALSE FALSE FALSE FALSE FALSE FALSE FALSE\n",
       " [277] FALSE FALSE FALSE FALSE FALSE FALSE FALSE FALSE FALSE FALSE FALSE FALSE\n",
       " [289] FALSE FALSE FALSE FALSE FALSE FALSE FALSE FALSE FALSE FALSE FALSE FALSE\n",
       " [301] FALSE FALSE FALSE FALSE FALSE FALSE FALSE FALSE FALSE FALSE FALSE FALSE\n",
       " [313] FALSE FALSE FALSE FALSE FALSE FALSE FALSE FALSE FALSE FALSE FALSE FALSE\n",
       " [325] FALSE FALSE FALSE FALSE FALSE FALSE FALSE FALSE FALSE FALSE FALSE FALSE\n",
       " [337] FALSE FALSE FALSE FALSE FALSE FALSE FALSE FALSE FALSE FALSE FALSE FALSE\n",
       " [349] FALSE FALSE FALSE FALSE FALSE FALSE FALSE FALSE FALSE FALSE FALSE FALSE\n",
       " [361] FALSE FALSE FALSE FALSE FALSE FALSE FALSE FALSE FALSE FALSE FALSE FALSE\n",
       " [373] FALSE FALSE FALSE FALSE FALSE FALSE FALSE FALSE FALSE FALSE FALSE FALSE\n",
       " [385] FALSE FALSE FALSE FALSE FALSE FALSE FALSE FALSE FALSE FALSE FALSE FALSE\n",
       " [397] FALSE FALSE FALSE FALSE FALSE FALSE FALSE FALSE FALSE FALSE FALSE FALSE\n",
       " [409] FALSE FALSE FALSE FALSE FALSE FALSE FALSE FALSE FALSE FALSE FALSE FALSE\n",
       " [421] FALSE FALSE FALSE FALSE FALSE FALSE FALSE FALSE FALSE FALSE FALSE FALSE\n",
       " [433] FALSE FALSE FALSE FALSE FALSE FALSE FALSE FALSE FALSE FALSE FALSE FALSE\n",
       " [445] FALSE FALSE FALSE FALSE FALSE FALSE FALSE FALSE FALSE FALSE FALSE FALSE\n",
       " [457] FALSE FALSE FALSE FALSE FALSE FALSE FALSE FALSE FALSE FALSE FALSE FALSE\n",
       " [469] FALSE FALSE FALSE FALSE FALSE FALSE FALSE FALSE FALSE FALSE FALSE FALSE\n",
       " [481] FALSE FALSE FALSE FALSE FALSE FALSE FALSE FALSE FALSE FALSE FALSE FALSE\n",
       " [493] FALSE FALSE FALSE FALSE FALSE FALSE FALSE FALSE FALSE FALSE FALSE FALSE\n",
       " [505] FALSE FALSE FALSE FALSE FALSE FALSE FALSE FALSE FALSE FALSE FALSE FALSE\n",
       " [517] FALSE FALSE FALSE FALSE FALSE FALSE FALSE FALSE FALSE FALSE FALSE FALSE\n",
       " [529] FALSE FALSE FALSE FALSE FALSE FALSE FALSE FALSE FALSE FALSE FALSE FALSE\n",
       " [541] FALSE FALSE FALSE FALSE FALSE FALSE FALSE FALSE FALSE FALSE FALSE FALSE\n",
       " [553] FALSE FALSE FALSE FALSE FALSE FALSE FALSE FALSE FALSE FALSE FALSE FALSE\n",
       " [565] FALSE FALSE FALSE FALSE FALSE FALSE FALSE FALSE FALSE FALSE FALSE FALSE\n",
       " [577] FALSE FALSE FALSE FALSE FALSE FALSE FALSE FALSE FALSE FALSE FALSE FALSE\n",
       " [589] FALSE FALSE FALSE FALSE FALSE FALSE FALSE FALSE FALSE FALSE FALSE FALSE\n",
       " [601] FALSE FALSE FALSE FALSE FALSE FALSE FALSE FALSE FALSE FALSE FALSE FALSE\n",
       " [613] FALSE FALSE FALSE FALSE FALSE FALSE FALSE FALSE FALSE FALSE FALSE FALSE\n",
       " [625] FALSE FALSE FALSE FALSE FALSE FALSE FALSE FALSE FALSE FALSE FALSE FALSE\n",
       " [637] FALSE FALSE FALSE FALSE FALSE FALSE FALSE FALSE FALSE FALSE FALSE FALSE\n",
       " [649] FALSE FALSE FALSE FALSE FALSE FALSE FALSE FALSE FALSE FALSE FALSE FALSE\n",
       " [661] FALSE FALSE FALSE FALSE FALSE FALSE FALSE FALSE FALSE FALSE FALSE FALSE\n",
       " [673] FALSE FALSE FALSE FALSE FALSE FALSE FALSE FALSE FALSE FALSE FALSE FALSE\n",
       " [685] FALSE FALSE FALSE FALSE FALSE FALSE FALSE FALSE FALSE FALSE FALSE FALSE\n",
       " [697] FALSE FALSE FALSE FALSE FALSE FALSE FALSE FALSE FALSE FALSE FALSE FALSE\n",
       " [709] FALSE FALSE FALSE FALSE FALSE FALSE FALSE FALSE FALSE FALSE FALSE FALSE\n",
       " [721] FALSE FALSE FALSE FALSE FALSE FALSE FALSE FALSE FALSE FALSE FALSE FALSE\n",
       " [733] FALSE FALSE FALSE FALSE FALSE FALSE FALSE FALSE FALSE FALSE FALSE FALSE\n",
       " [745] FALSE FALSE FALSE FALSE FALSE FALSE FALSE FALSE FALSE FALSE FALSE FALSE\n",
       " [757] FALSE FALSE FALSE FALSE FALSE FALSE FALSE FALSE FALSE FALSE FALSE FALSE\n",
       " [769] FALSE FALSE FALSE FALSE FALSE FALSE FALSE FALSE FALSE FALSE FALSE FALSE\n",
       " [781] FALSE FALSE FALSE FALSE FALSE FALSE FALSE FALSE FALSE FALSE FALSE FALSE\n",
       " [793] FALSE FALSE FALSE FALSE FALSE FALSE FALSE FALSE FALSE FALSE FALSE FALSE\n",
       " [805] FALSE FALSE FALSE FALSE FALSE FALSE FALSE FALSE FALSE FALSE FALSE FALSE\n",
       " [817] FALSE FALSE FALSE FALSE FALSE FALSE FALSE FALSE FALSE FALSE FALSE FALSE\n",
       " [829] FALSE FALSE FALSE FALSE FALSE FALSE FALSE FALSE FALSE FALSE FALSE FALSE\n",
       " [841] FALSE FALSE FALSE FALSE FALSE FALSE FALSE FALSE FALSE FALSE FALSE FALSE\n",
       " [853] FALSE FALSE FALSE FALSE FALSE FALSE FALSE FALSE FALSE FALSE FALSE FALSE\n",
       " [865] FALSE FALSE FALSE FALSE FALSE FALSE FALSE FALSE FALSE FALSE FALSE FALSE\n",
       " [877] FALSE FALSE FALSE FALSE FALSE FALSE FALSE FALSE FALSE FALSE FALSE FALSE\n",
       " [889] FALSE FALSE FALSE FALSE FALSE FALSE FALSE FALSE FALSE FALSE FALSE FALSE\n",
       " [901] FALSE FALSE FALSE FALSE FALSE FALSE FALSE FALSE FALSE FALSE FALSE FALSE\n",
       " [913] FALSE FALSE FALSE FALSE FALSE FALSE FALSE FALSE FALSE FALSE FALSE FALSE\n",
       " [925] FALSE FALSE FALSE FALSE FALSE FALSE FALSE FALSE FALSE FALSE FALSE FALSE\n",
       " [937] FALSE FALSE FALSE FALSE FALSE FALSE FALSE FALSE FALSE FALSE FALSE FALSE\n",
       " [949] FALSE FALSE FALSE FALSE FALSE FALSE FALSE FALSE FALSE FALSE FALSE FALSE\n",
       " [961] FALSE FALSE FALSE FALSE FALSE FALSE FALSE FALSE FALSE FALSE FALSE FALSE\n",
       " [973] FALSE FALSE FALSE FALSE FALSE FALSE FALSE FALSE FALSE FALSE FALSE FALSE\n",
       " [985] FALSE FALSE FALSE FALSE FALSE FALSE FALSE FALSE FALSE FALSE FALSE FALSE\n",
       " [997] FALSE FALSE FALSE FALSE FALSE FALSE FALSE FALSE FALSE FALSE FALSE FALSE\n",
       "[1009] FALSE FALSE FALSE FALSE FALSE FALSE FALSE FALSE FALSE FALSE FALSE FALSE\n",
       "[1021] FALSE FALSE FALSE FALSE FALSE FALSE FALSE FALSE FALSE FALSE FALSE FALSE\n",
       "[1033] FALSE FALSE FALSE FALSE FALSE FALSE FALSE FALSE FALSE FALSE FALSE FALSE\n",
       "[1045] FALSE FALSE FALSE FALSE FALSE FALSE FALSE FALSE FALSE FALSE FALSE FALSE\n",
       "[1057] FALSE FALSE FALSE FALSE FALSE FALSE FALSE FALSE FALSE FALSE FALSE FALSE\n",
       "[1069] FALSE FALSE FALSE FALSE FALSE FALSE FALSE FALSE FALSE FALSE FALSE FALSE\n",
       "[1081] FALSE FALSE FALSE FALSE FALSE FALSE FALSE FALSE FALSE FALSE FALSE FALSE\n",
       "[1093] FALSE FALSE FALSE FALSE FALSE FALSE FALSE FALSE FALSE FALSE FALSE FALSE\n",
       "[1105] FALSE FALSE FALSE FALSE FALSE FALSE FALSE FALSE FALSE FALSE FALSE FALSE\n",
       "[1117] FALSE FALSE FALSE FALSE FALSE FALSE FALSE FALSE FALSE FALSE FALSE FALSE\n",
       "[1129] FALSE FALSE FALSE FALSE FALSE FALSE FALSE FALSE FALSE FALSE FALSE FALSE\n",
       "[1141] FALSE FALSE FALSE FALSE FALSE FALSE FALSE FALSE FALSE FALSE FALSE FALSE\n",
       "[1153] FALSE FALSE FALSE FALSE FALSE FALSE FALSE FALSE FALSE FALSE FALSE FALSE\n",
       "[1165] FALSE FALSE FALSE FALSE FALSE FALSE FALSE FALSE FALSE FALSE FALSE FALSE\n",
       "[1177] FALSE FALSE FALSE FALSE FALSE FALSE FALSE FALSE FALSE FALSE FALSE FALSE\n",
       "[1189] FALSE FALSE FALSE FALSE FALSE FALSE FALSE FALSE FALSE FALSE FALSE FALSE\n",
       "[1201] FALSE FALSE FALSE FALSE FALSE FALSE FALSE FALSE FALSE FALSE FALSE FALSE\n",
       "[1213] FALSE FALSE FALSE FALSE FALSE FALSE FALSE FALSE FALSE FALSE FALSE FALSE\n",
       "[1225] FALSE FALSE FALSE FALSE FALSE FALSE FALSE FALSE FALSE FALSE FALSE FALSE\n",
       "[1237] FALSE FALSE FALSE FALSE FALSE FALSE FALSE FALSE FALSE FALSE FALSE FALSE\n",
       "[1249] FALSE FALSE FALSE FALSE FALSE FALSE FALSE FALSE FALSE FALSE FALSE FALSE\n",
       "[1261] FALSE FALSE FALSE FALSE FALSE FALSE FALSE FALSE FALSE FALSE FALSE FALSE\n",
       "[1273] FALSE FALSE FALSE FALSE FALSE FALSE FALSE FALSE FALSE FALSE FALSE FALSE\n",
       "[1285] FALSE FALSE FALSE FALSE FALSE FALSE FALSE FALSE FALSE FALSE FALSE FALSE\n",
       "[1297] FALSE FALSE FALSE FALSE FALSE FALSE FALSE FALSE FALSE FALSE FALSE FALSE\n",
       "[1309] FALSE FALSE FALSE FALSE FALSE FALSE FALSE FALSE FALSE FALSE FALSE FALSE\n",
       "[1321] FALSE FALSE FALSE FALSE FALSE FALSE FALSE FALSE FALSE FALSE FALSE FALSE\n",
       "[1333] FALSE FALSE FALSE FALSE FALSE FALSE FALSE FALSE FALSE FALSE FALSE FALSE\n",
       "[1345] FALSE FALSE FALSE FALSE FALSE FALSE FALSE FALSE FALSE FALSE FALSE FALSE\n",
       "[1357] FALSE FALSE FALSE FALSE FALSE FALSE FALSE FALSE FALSE FALSE FALSE FALSE\n",
       "[1369] FALSE FALSE FALSE FALSE FALSE FALSE FALSE FALSE FALSE FALSE FALSE FALSE\n",
       "[1381] FALSE FALSE FALSE FALSE FALSE FALSE FALSE FALSE FALSE FALSE FALSE FALSE\n",
       "[1393] FALSE FALSE FALSE FALSE FALSE FALSE FALSE FALSE FALSE FALSE FALSE FALSE\n",
       "[1405] FALSE FALSE FALSE FALSE FALSE FALSE FALSE FALSE FALSE FALSE FALSE FALSE\n",
       "[1417] FALSE FALSE FALSE FALSE FALSE FALSE FALSE FALSE FALSE FALSE FALSE FALSE\n",
       "[1429] FALSE FALSE FALSE FALSE FALSE FALSE FALSE FALSE FALSE FALSE FALSE FALSE\n",
       "[1441] FALSE FALSE FALSE FALSE FALSE FALSE FALSE FALSE FALSE FALSE FALSE FALSE\n",
       "[1453] FALSE FALSE FALSE FALSE FALSE FALSE FALSE FALSE FALSE FALSE FALSE FALSE\n",
       "[1465] FALSE FALSE FALSE FALSE FALSE FALSE FALSE FALSE FALSE FALSE FALSE FALSE\n",
       "[1477] FALSE FALSE FALSE FALSE FALSE FALSE FALSE FALSE FALSE FALSE FALSE FALSE\n",
       "[1489] FALSE FALSE FALSE FALSE FALSE FALSE FALSE FALSE FALSE FALSE FALSE FALSE\n",
       "[1501] FALSE FALSE FALSE FALSE FALSE FALSE FALSE FALSE FALSE FALSE FALSE FALSE\n",
       "[1513] FALSE FALSE FALSE FALSE FALSE FALSE FALSE FALSE FALSE FALSE FALSE FALSE\n",
       "[1525] FALSE FALSE FALSE FALSE FALSE FALSE FALSE FALSE FALSE FALSE FALSE FALSE\n",
       "[1537] FALSE FALSE FALSE FALSE FALSE FALSE FALSE FALSE FALSE FALSE FALSE FALSE\n",
       "[1549] FALSE FALSE FALSE FALSE FALSE FALSE FALSE FALSE FALSE FALSE FALSE FALSE\n",
       "[1561] FALSE FALSE FALSE FALSE FALSE FALSE FALSE FALSE FALSE FALSE FALSE FALSE\n",
       "[1573] FALSE FALSE FALSE FALSE FALSE FALSE FALSE FALSE FALSE FALSE FALSE FALSE\n",
       "[1585] FALSE FALSE FALSE FALSE FALSE FALSE FALSE FALSE FALSE FALSE FALSE FALSE\n",
       "[1597] FALSE FALSE FALSE FALSE FALSE FALSE FALSE FALSE FALSE FALSE FALSE FALSE\n",
       "[1609] FALSE FALSE FALSE FALSE FALSE FALSE FALSE FALSE FALSE FALSE FALSE FALSE\n",
       "[1621] FALSE FALSE FALSE FALSE FALSE FALSE FALSE FALSE FALSE FALSE FALSE FALSE\n",
       "[1633] FALSE FALSE FALSE FALSE FALSE FALSE FALSE FALSE FALSE FALSE FALSE FALSE\n",
       "[1645] FALSE FALSE FALSE FALSE FALSE FALSE FALSE FALSE FALSE FALSE FALSE FALSE\n",
       "[1657] FALSE FALSE FALSE FALSE FALSE FALSE FALSE FALSE FALSE FALSE FALSE FALSE\n",
       "[1669] FALSE FALSE FALSE FALSE FALSE FALSE FALSE FALSE FALSE FALSE FALSE FALSE\n",
       "[1681] FALSE FALSE FALSE FALSE FALSE FALSE FALSE FALSE FALSE FALSE FALSE FALSE\n",
       "[1693] FALSE FALSE FALSE FALSE FALSE FALSE FALSE FALSE FALSE FALSE FALSE FALSE\n",
       "[1705] FALSE FALSE FALSE FALSE FALSE FALSE FALSE FALSE FALSE FALSE FALSE FALSE\n",
       "[1717] FALSE FALSE FALSE FALSE FALSE FALSE FALSE FALSE FALSE FALSE FALSE FALSE\n",
       "[1729] FALSE FALSE FALSE FALSE FALSE FALSE FALSE FALSE FALSE FALSE FALSE FALSE\n",
       "[1741] FALSE FALSE FALSE FALSE FALSE FALSE FALSE FALSE FALSE FALSE FALSE FALSE\n",
       "[1753] FALSE FALSE FALSE FALSE FALSE FALSE FALSE FALSE FALSE FALSE FALSE FALSE\n",
       "[1765] FALSE FALSE FALSE FALSE FALSE FALSE FALSE FALSE FALSE FALSE FALSE FALSE\n",
       "[1777] FALSE FALSE FALSE FALSE FALSE FALSE FALSE FALSE FALSE FALSE FALSE FALSE\n",
       "[1789] FALSE FALSE FALSE FALSE FALSE FALSE FALSE FALSE FALSE FALSE FALSE FALSE\n",
       "[1801] FALSE FALSE FALSE FALSE FALSE FALSE FALSE FALSE FALSE FALSE FALSE FALSE\n",
       "[1813] FALSE FALSE FALSE FALSE FALSE FALSE FALSE FALSE FALSE FALSE FALSE FALSE\n",
       "[1825] FALSE FALSE FALSE FALSE FALSE FALSE FALSE FALSE FALSE FALSE FALSE FALSE\n",
       "[1837] FALSE FALSE FALSE FALSE FALSE FALSE FALSE FALSE FALSE FALSE FALSE FALSE\n",
       "[1849] FALSE FALSE FALSE FALSE FALSE FALSE FALSE FALSE FALSE FALSE FALSE FALSE\n",
       "[1861] FALSE FALSE FALSE FALSE FALSE FALSE FALSE FALSE FALSE FALSE FALSE FALSE\n",
       "[1873] FALSE FALSE FALSE FALSE FALSE FALSE FALSE FALSE FALSE FALSE FALSE FALSE\n",
       "[1885] FALSE FALSE FALSE FALSE FALSE FALSE FALSE FALSE FALSE FALSE FALSE FALSE\n",
       "[1897] FALSE FALSE FALSE FALSE FALSE FALSE FALSE FALSE FALSE FALSE FALSE FALSE\n",
       "[1909] FALSE FALSE FALSE FALSE FALSE FALSE FALSE FALSE FALSE FALSE FALSE FALSE\n",
       "[1921] FALSE FALSE FALSE FALSE FALSE FALSE FALSE FALSE FALSE FALSE FALSE FALSE\n",
       "[1933] FALSE FALSE FALSE FALSE FALSE FALSE FALSE FALSE FALSE FALSE FALSE FALSE\n",
       "[1945] FALSE FALSE FALSE FALSE FALSE FALSE FALSE FALSE FALSE FALSE FALSE FALSE\n",
       "[1957] FALSE FALSE FALSE FALSE FALSE FALSE FALSE FALSE FALSE FALSE FALSE FALSE\n",
       "[1969] FALSE FALSE FALSE FALSE FALSE FALSE FALSE FALSE FALSE FALSE FALSE FALSE\n",
       "[1981] FALSE FALSE FALSE FALSE FALSE FALSE FALSE FALSE FALSE FALSE FALSE FALSE\n",
       "[1993] FALSE FALSE FALSE FALSE FALSE FALSE"
      ]
     },
     "metadata": {},
     "output_type": "display_data"
    }
   ],
   "source": [
    "is.na(bp_data$hypertension.factor)\n",
    "#levels(bp_data$hypertension.factor)"
   ]
  },
  {
   "cell_type": "code",
   "execution_count": 51,
   "id": "76c28384-8a3b-4339-a912-80a1ac7d0fcb",
   "metadata": {
    "collapsed": true,
    "jupyter": {
     "outputs_hidden": true
    },
    "tags": []
   },
   "outputs": [
    {
     "name": "stderr",
     "output_type": "stream",
     "text": [
      "No dependent variable(s) provided; defaulting to single-level factor\n",
      "\n"
     ]
    },
    {
     "data": {
      "text/html": [
       "<table class=\"dataframe\">\n",
       "<caption>A data.frame.ff: 2 × 3</caption>\n",
       "<thead>\n",
       "\t<tr><th scope=col>label</th><th scope=col>levels</th><th scope=col>all</th></tr>\n",
       "\t<tr><th scope=col>&lt;chr&gt;</th><th scope=col>&lt;chr&gt;</th><th scope=col>&lt;chr&gt;</th></tr>\n",
       "</thead>\n",
       "<tbody>\n",
       "\t<tr><td>hypertension.factor</td><td>no </td><td>696 (34.8) </td></tr>\n",
       "\t<tr><td>                   </td><td>yes</td><td>1302 (65.2)</td></tr>\n",
       "</tbody>\n",
       "</table>\n"
      ],
      "text/latex": [
       "A data.frame.ff: 2 × 3\n",
       "\\begin{tabular}{lll}\n",
       " label & levels & all\\\\\n",
       " <chr> & <chr> & <chr>\\\\\n",
       "\\hline\n",
       "\t hypertension.factor & no  & 696 (34.8) \\\\\n",
       "\t                     & yes & 1302 (65.2)\\\\\n",
       "\\end{tabular}\n"
      ],
      "text/markdown": [
       "\n",
       "A data.frame.ff: 2 × 3\n",
       "\n",
       "| label &lt;chr&gt; | levels &lt;chr&gt; | all &lt;chr&gt; |\n",
       "|---|---|---|\n",
       "| hypertension.factor | no  | 696 (34.8)  |\n",
       "| <!----> | yes | 1302 (65.2) |\n",
       "\n"
      ],
      "text/plain": [
       "  label               levels all        \n",
       "1 hypertension.factor no     696 (34.8) \n",
       "2                     yes    1302 (65.2)"
      ]
     },
     "metadata": {},
     "output_type": "display_data"
    }
   ],
   "source": [
    "bp_data %>% summary_factorlist(dependent=NULL, explanatory = c(\"hypertension.factor\"),na_to_prop=TRUE)"
   ]
  },
  {
   "cell_type": "code",
   "execution_count": 52,
   "id": "a3820d02-d30b-4c82-82d4-06859269b50d",
   "metadata": {
    "collapsed": true,
    "jupyter": {
     "outputs_hidden": true
    },
    "tags": []
   },
   "outputs": [
    {
     "data": {
      "text/plain": [
       "\n",
       "\tExact binomial test\n",
       "\n",
       "data:  1302 and 1998\n",
       "number of successes = 1302, number of trials = 1998, p-value < 2.2e-16\n",
       "alternative hypothesis: true probability of success is not equal to 0.5\n",
       "95 percent confidence interval:\n",
       " 0.6302995 0.6725579\n",
       "sample estimates:\n",
       "probability of success \n",
       "             0.6516517 \n"
      ]
     },
     "metadata": {},
     "output_type": "display_data"
    }
   ],
   "source": [
    " binom.test(1302,1998, conf.level = 0.95)"
   ]
  },
  {
   "cell_type": "code",
   "execution_count": 53,
   "id": "6a8c1656-c40f-4991-9fc6-18f138678fb8",
   "metadata": {
    "collapsed": true,
    "jupyter": {
     "outputs_hidden": true
    },
    "tags": []
   },
   "outputs": [],
   "source": [
    "bp_data$bp_reading_factor <- as.factor(bp_data$bp_present)"
   ]
  },
  {
   "cell_type": "markdown",
   "id": "85e8ab0c-3f96-4bbf-a6ea-c8ae758c20d0",
   "metadata": {
    "tags": []
   },
   "source": [
    "# Antihypertensive medicaiton "
   ]
  },
  {
   "cell_type": "code",
   "execution_count": 54,
   "id": "f8aeb764-1fed-4425-a46d-1841e8e2b9e3",
   "metadata": {
    "collapsed": true,
    "jupyter": {
     "outputs_hidden": true
    },
    "tags": []
   },
   "outputs": [
    {
     "name": "stdout",
     "output_type": "stream",
     "text": [
      "tibble [3,906 × 10] (S3: tbl_df/tbl/data.frame)\n",
      " $ person_id                   : int [1:3906] 12949017 13072214 13294376 12810755 232751 13337706 12961815 13466084 12823740 13555576 ...\n",
      " $ beta_blocker                : chr [1:3906] \"false\" \"false\" \"false\" \"false\" ...\n",
      " $ calcium_channel_blocker     : chr [1:3906] \"false\" \"false\" \"false\" \"false\" ...\n",
      " $ thiazide_type_diuretic      : chr [1:3906] \"false\" \"false\" \"false\" \"false\" ...\n",
      " $ angiotensin_receptor_blocker: chr [1:3906] \"false\" \"false\" \"false\" \"false\" ...\n",
      " $ ace_inhibitor               : chr [1:3906] \"false\" \"false\" \"false\" \"false\" ...\n",
      " $ alpha_blocker               : chr [1:3906] \"false\" \"false\" \"false\" \"false\" ...\n",
      " $ no_antihypertensive         : int [1:3906] 0 0 0 0 0 0 0 0 0 0 ...\n",
      " $ time_status                 : chr [1:3906] \"pre_admission\" \"pre_admission\" \"admission\" \"admission\" ...\n",
      " $ early_death                 : chr [1:3906] \"true\" \"true\" \"true\" \"true\" ...\n"
     ]
    }
   ],
   "source": [
    "sql_med<- paste('SELECT * from `CB_2172.cb_2172_antihypertensive_long_format` ;',sep=\"\")\n",
    "\n",
    "tbl_med <-bq_project_query(ProjectId,sql_med)\n",
    "\n",
    "tbl_med <- bq_table_download(tbl_med)\n",
    "\n",
    "tbl_med_f <- tbl_med %>% filter(early_death == 'false')\n",
    "\n",
    "str(tbl_med)"
   ]
  },
  {
   "cell_type": "code",
   "execution_count": 55,
   "id": "702dd121-bb0c-42fc-bba9-b6cdd458804e",
   "metadata": {
    "collapsed": true,
    "jupyter": {
     "outputs_hidden": true
    },
    "tags": []
   },
   "outputs": [],
   "source": [
    "#switch time_status and medication binary variables to factor variables \n",
    "tbl_med_f$time_status.factor <- as.factor(tbl_med_f$time_status)\n",
    "\n",
    "tbl_med_f <- tbl_med_f %>% select(-time_status)"
   ]
  },
  {
   "cell_type": "markdown",
   "id": "4786a0a7-efad-4299-b9aa-0a4fd33b8fe3",
   "metadata": {},
   "source": [
    "### this section will produce a table of the type of antihypertensives prescribed and how this changes during admission in those with hypertension"
   ]
  },
  {
   "cell_type": "code",
   "execution_count": 56,
   "id": "f0f379c3-cbd6-4e1e-b7d8-c9136cf6fd1f",
   "metadata": {
    "collapsed": true,
    "jupyter": {
     "outputs_hidden": true
    },
    "tags": []
   },
   "outputs": [
    {
     "name": "stdout",
     "output_type": "stream",
     "text": [
      "tibble [2,889 × 10] (S3: tbl_df/tbl/data.frame)\n",
      " $ person_id                   : int [1:2889] 12950990 13266649 12861435 13110485 12907020 13243599 12661142 12826251 649912 13022756 ...\n",
      " $ beta_blocker                : chr [1:2889] \"false\" \"false\" \"false\" \"false\" ...\n",
      " $ calcium_channel_blocker     : chr [1:2889] \"false\" \"false\" \"false\" \"false\" ...\n",
      " $ thiazide_type_diuretic      : chr [1:2889] \"false\" \"false\" \"false\" \"false\" ...\n",
      " $ angiotensin_receptor_blocker: chr [1:2889] \"false\" \"false\" \"false\" \"false\" ...\n",
      " $ ace_inhibitor               : chr [1:2889] \"false\" \"false\" \"false\" \"false\" ...\n",
      " $ alpha_blocker               : chr [1:2889] \"false\" \"false\" \"false\" \"false\" ...\n",
      " $ no_antihypertensive         : int [1:2889] 0 0 0 0 0 0 0 0 0 0 ...\n",
      " $ early_death                 : chr [1:2889] \"false\" \"false\" \"false\" \"false\" ...\n",
      " $ time_status.factor          : Factor w/ 3 levels \"admission\",\"post_admission\",..: 3 3 3 3 3 3 3 3 3 3 ...\n"
     ]
    }
   ],
   "source": [
    "str(tbl_med_f)"
   ]
  },
  {
   "cell_type": "code",
   "execution_count": 57,
   "id": "b1c13088-d4ef-4a3d-ac36-5c12e5483f35",
   "metadata": {
    "collapsed": true,
    "jupyter": {
     "outputs_hidden": true
    },
    "tags": []
   },
   "outputs": [],
   "source": [
    "tbl_med_class <-tbl_med_f"
   ]
  },
  {
   "cell_type": "code",
   "execution_count": 58,
   "id": "28e30b5f-da20-4a3c-b398-68f503d14847",
   "metadata": {
    "collapsed": true,
    "jupyter": {
     "outputs_hidden": true
    },
    "tags": []
   },
   "outputs": [],
   "source": [
    "tbl_med_class$beta_blocker.factor <- as.factor(tbl_med_class$beta_blocker)\n",
    "\n",
    "tbl_med <- tbl_med_class %>% select(-beta_blocker)"
   ]
  },
  {
   "cell_type": "code",
   "execution_count": 59,
   "id": "8af10db9-7ff7-4e94-8a75-051e436f5bdd",
   "metadata": {
    "collapsed": true,
    "jupyter": {
     "outputs_hidden": true
    },
    "tags": []
   },
   "outputs": [],
   "source": [
    "tbl_med_class$calcium_channel_blocker.factor <- as.factor(tbl_med_class$calcium_channel_blocker)\n",
    "\n",
    "tbl_med_class <- tbl_med_class %>% select(-calcium_channel_blocker)"
   ]
  },
  {
   "cell_type": "code",
   "execution_count": 60,
   "id": "92a637d0-2364-4c06-b55a-1716b6a59478",
   "metadata": {
    "collapsed": true,
    "jupyter": {
     "outputs_hidden": true
    },
    "tags": []
   },
   "outputs": [],
   "source": [
    "tbl_med_class$thiazide.factor <- as.factor(tbl_med_class$thiazide_type_diuretic)\n",
    "\n",
    "tbl_med_class <- tbl_med_class %>% select(-thiazide_type_diuretic)"
   ]
  },
  {
   "cell_type": "code",
   "execution_count": 61,
   "id": "cb3493cc-0e3c-4af1-99be-f99b3d7b8cb1",
   "metadata": {
    "collapsed": true,
    "jupyter": {
     "outputs_hidden": true
    },
    "tags": []
   },
   "outputs": [],
   "source": [
    "tbl_med_class$angiotensin_receptor_blocker.factor <- as.factor(tbl_med_class$angiotensin_receptor_blocker)\n",
    "\n",
    "tbl_med_class <- tbl_med_class %>% select(-angiotensin_receptor_blocker)"
   ]
  },
  {
   "cell_type": "code",
   "execution_count": 62,
   "id": "8037496b-1cde-44c4-bcec-aa78dacb5eb6",
   "metadata": {
    "collapsed": true,
    "jupyter": {
     "outputs_hidden": true
    },
    "tags": []
   },
   "outputs": [],
   "source": [
    "tbl_med_class$ace_inhibitor.factor <- as.factor(tbl_med_class$ace_inhibitor)\n",
    "\n",
    "tbl_med_class <- tbl_med_class %>% select(-ace_inhibitor)"
   ]
  },
  {
   "cell_type": "code",
   "execution_count": 63,
   "id": "a80971c2-50e7-4f4d-93d2-c4d467bce607",
   "metadata": {
    "collapsed": true,
    "jupyter": {
     "outputs_hidden": true
    },
    "tags": []
   },
   "outputs": [],
   "source": [
    "tbl_med_class$alpha_blocker.factor <- as.factor(tbl_med_class$alpha_blocker)\n",
    "\n",
    "tbl_med_class <- tbl_med_class %>% select(-alpha_blocker)\n"
   ]
  },
  {
   "cell_type": "code",
   "execution_count": 64,
   "id": "43d2b53d-60de-4d41-af5d-d81693c1feef",
   "metadata": {
    "collapsed": true,
    "jupyter": {
     "outputs_hidden": true
    },
    "tags": []
   },
   "outputs": [],
   "source": [
    "tbl_med_class$early_death.factor <- as.factor(tbl_med_class$early_death)\n",
    "\n",
    "tbl_med_class <- tbl_med_class %>% select(-early_death)"
   ]
  },
  {
   "cell_type": "code",
   "execution_count": 65,
   "id": "95b6264d-2519-4b89-823b-122af1517936",
   "metadata": {
    "collapsed": true,
    "jupyter": {
     "outputs_hidden": true
    },
    "tags": []
   },
   "outputs": [
    {
     "data": {
      "text/html": [
       "<style>\n",
       ".list-inline {list-style: none; margin:0; padding: 0}\n",
       ".list-inline>li {display: inline-block}\n",
       ".list-inline>li:not(:last-child)::after {content: \"\\00b7\"; padding: 0 .5ex}\n",
       "</style>\n",
       "<ol class=list-inline><li>'admission'</li><li>'post_admission'</li><li>'pre_admission'</li></ol>\n"
      ],
      "text/latex": [
       "\\begin{enumerate*}\n",
       "\\item 'admission'\n",
       "\\item 'post\\_admission'\n",
       "\\item 'pre\\_admission'\n",
       "\\end{enumerate*}\n"
      ],
      "text/markdown": [
       "1. 'admission'\n",
       "2. 'post_admission'\n",
       "3. 'pre_admission'\n",
       "\n",
       "\n"
      ],
      "text/plain": [
       "[1] \"admission\"      \"post_admission\" \"pre_admission\" "
      ]
     },
     "metadata": {},
     "output_type": "display_data"
    }
   ],
   "source": [
    "tbl_med$time_status.factor %>% levels()"
   ]
  },
  {
   "cell_type": "code",
   "execution_count": 66,
   "id": "2d8dd4a3-3069-49f1-88d7-5e218b8d1699",
   "metadata": {
    "collapsed": true,
    "jupyter": {
     "outputs_hidden": true
    },
    "tags": []
   },
   "outputs": [
    {
     "data": {
      "text/html": [
       "<style>\n",
       ".list-inline {list-style: none; margin:0; padding: 0}\n",
       ".list-inline>li {display: inline-block}\n",
       ".list-inline>li:not(:last-child)::after {content: \"\\00b7\"; padding: 0 .5ex}\n",
       "</style>\n",
       "<ol class=list-inline><li>'pre_admission'</li><li>'admission'</li><li>'post_admission'</li></ol>\n"
      ],
      "text/latex": [
       "\\begin{enumerate*}\n",
       "\\item 'pre\\_admission'\n",
       "\\item 'admission'\n",
       "\\item 'post\\_admission'\n",
       "\\end{enumerate*}\n"
      ],
      "text/markdown": [
       "1. 'pre_admission'\n",
       "2. 'admission'\n",
       "3. 'post_admission'\n",
       "\n",
       "\n"
      ],
      "text/plain": [
       "[1] \"pre_admission\"  \"admission\"      \"post_admission\""
      ]
     },
     "metadata": {},
     "output_type": "display_data"
    }
   ],
   "source": [
    " tbl_med_class <- tbl_med_class %>% \n",
    "  mutate(time_status.factor = time_status.factor %>% \n",
    "           fct_relevel(\"pre_admission\"))\n",
    "\n",
    "tbl_med_class$time_status.factor %>% levels()"
   ]
  },
  {
   "cell_type": "code",
   "execution_count": 67,
   "id": "745ccb85-6b08-44ef-8151-0fa795ef70e4",
   "metadata": {
    "collapsed": true,
    "jupyter": {
     "outputs_hidden": true
    },
    "tags": []
   },
   "outputs": [
    {
     "data": {
      "text/html": [
       "<table class=\"dataframe\">\n",
       "<caption>A data.frame.ff: 12 × 5</caption>\n",
       "<thead>\n",
       "\t<tr><th scope=col>label</th><th scope=col>levels</th><th scope=col>pre_admission</th><th scope=col>admission</th><th scope=col>post_admission</th></tr>\n",
       "\t<tr><th scope=col>&lt;chr&gt;</th><th scope=col>&lt;chr&gt;</th><th scope=col>&lt;chr&gt;</th><th scope=col>&lt;chr&gt;</th><th scope=col>&lt;chr&gt;</th></tr>\n",
       "</thead>\n",
       "<tbody>\n",
       "\t<tr><td>calcium_channel_blocker.factor     </td><td>false</td><td>858 (89.1)</td><td>885 (91.9)</td><td>908 (94.3)</td></tr>\n",
       "\t<tr><td>                                   </td><td>true </td><td>105 (10.9)</td><td>78 (8.1)  </td><td>55 (5.7)  </td></tr>\n",
       "\t<tr><td>beta_blocker.factor                </td><td>false</td><td>754 (78.3)</td><td>769 (79.9)</td><td>769 (79.9)</td></tr>\n",
       "\t<tr><td>                                   </td><td>true </td><td>209 (21.7)</td><td>194 (20.1)</td><td>194 (20.1)</td></tr>\n",
       "\t<tr><td>ace_inhibitor.factor               </td><td>false</td><td>810 (84.1)</td><td>861 (89.4)</td><td>879 (91.3)</td></tr>\n",
       "\t<tr><td>                                   </td><td>true </td><td>153 (15.9)</td><td>102 (10.6)</td><td>84 (8.7)  </td></tr>\n",
       "\t<tr><td>angiotensin_receptor_blocker.factor</td><td>false</td><td>895 (92.9)</td><td>921 (95.6)</td><td>936 (97.2)</td></tr>\n",
       "\t<tr><td>                                   </td><td>true </td><td>68 (7.1)  </td><td>42 (4.4)  </td><td>27 (2.8)  </td></tr>\n",
       "\t<tr><td>alpha_blocker.factor               </td><td>false</td><td>942 (97.8)</td><td>950 (98.7)</td><td>956 (99.3)</td></tr>\n",
       "\t<tr><td>                                   </td><td>true </td><td>21 (2.2)  </td><td>13 (1.3)  </td><td>7 (0.7)   </td></tr>\n",
       "\t<tr><td>thiazide.factor                    </td><td>false</td><td>909 (94.4)</td><td>940 (97.6)</td><td>954 (99.1)</td></tr>\n",
       "\t<tr><td>                                   </td><td>true </td><td>54 (5.6)  </td><td>23 (2.4)  </td><td>9 (0.9)   </td></tr>\n",
       "</tbody>\n",
       "</table>\n"
      ],
      "text/latex": [
       "A data.frame.ff: 12 × 5\n",
       "\\begin{tabular}{lllll}\n",
       " label & levels & pre\\_admission & admission & post\\_admission\\\\\n",
       " <chr> & <chr> & <chr> & <chr> & <chr>\\\\\n",
       "\\hline\n",
       "\t calcium\\_channel\\_blocker.factor      & false & 858 (89.1) & 885 (91.9) & 908 (94.3)\\\\\n",
       "\t                                     & true  & 105 (10.9) & 78 (8.1)   & 55 (5.7)  \\\\\n",
       "\t beta\\_blocker.factor                 & false & 754 (78.3) & 769 (79.9) & 769 (79.9)\\\\\n",
       "\t                                     & true  & 209 (21.7) & 194 (20.1) & 194 (20.1)\\\\\n",
       "\t ace\\_inhibitor.factor                & false & 810 (84.1) & 861 (89.4) & 879 (91.3)\\\\\n",
       "\t                                     & true  & 153 (15.9) & 102 (10.6) & 84 (8.7)  \\\\\n",
       "\t angiotensin\\_receptor\\_blocker.factor & false & 895 (92.9) & 921 (95.6) & 936 (97.2)\\\\\n",
       "\t                                     & true  & 68 (7.1)   & 42 (4.4)   & 27 (2.8)  \\\\\n",
       "\t alpha\\_blocker.factor                & false & 942 (97.8) & 950 (98.7) & 956 (99.3)\\\\\n",
       "\t                                     & true  & 21 (2.2)   & 13 (1.3)   & 7 (0.7)   \\\\\n",
       "\t thiazide.factor                     & false & 909 (94.4) & 940 (97.6) & 954 (99.1)\\\\\n",
       "\t                                     & true  & 54 (5.6)   & 23 (2.4)   & 9 (0.9)   \\\\\n",
       "\\end{tabular}\n"
      ],
      "text/markdown": [
       "\n",
       "A data.frame.ff: 12 × 5\n",
       "\n",
       "| label &lt;chr&gt; | levels &lt;chr&gt; | pre_admission &lt;chr&gt; | admission &lt;chr&gt; | post_admission &lt;chr&gt; |\n",
       "|---|---|---|---|---|\n",
       "| calcium_channel_blocker.factor      | false | 858 (89.1) | 885 (91.9) | 908 (94.3) |\n",
       "| <!----> | true  | 105 (10.9) | 78 (8.1)   | 55 (5.7)   |\n",
       "| beta_blocker.factor                 | false | 754 (78.3) | 769 (79.9) | 769 (79.9) |\n",
       "| <!----> | true  | 209 (21.7) | 194 (20.1) | 194 (20.1) |\n",
       "| ace_inhibitor.factor                | false | 810 (84.1) | 861 (89.4) | 879 (91.3) |\n",
       "| <!----> | true  | 153 (15.9) | 102 (10.6) | 84 (8.7)   |\n",
       "| angiotensin_receptor_blocker.factor | false | 895 (92.9) | 921 (95.6) | 936 (97.2) |\n",
       "| <!----> | true  | 68 (7.1)   | 42 (4.4)   | 27 (2.8)   |\n",
       "| alpha_blocker.factor                | false | 942 (97.8) | 950 (98.7) | 956 (99.3) |\n",
       "| <!----> | true  | 21 (2.2)   | 13 (1.3)   | 7 (0.7)    |\n",
       "| thiazide.factor                     | false | 909 (94.4) | 940 (97.6) | 954 (99.1) |\n",
       "| <!----> | true  | 54 (5.6)   | 23 (2.4)   | 9 (0.9)    |\n",
       "\n"
      ],
      "text/plain": [
       "   label                               levels pre_admission admission \n",
       "1  calcium_channel_blocker.factor      false  858 (89.1)    885 (91.9)\n",
       "2                                      true   105 (10.9)    78 (8.1)  \n",
       "3  beta_blocker.factor                 false  754 (78.3)    769 (79.9)\n",
       "4                                      true   209 (21.7)    194 (20.1)\n",
       "5  ace_inhibitor.factor                false  810 (84.1)    861 (89.4)\n",
       "6                                      true   153 (15.9)    102 (10.6)\n",
       "7  angiotensin_receptor_blocker.factor false  895 (92.9)    921 (95.6)\n",
       "8                                      true   68 (7.1)      42 (4.4)  \n",
       "9  alpha_blocker.factor                false  942 (97.8)    950 (98.7)\n",
       "10                                     true   21 (2.2)      13 (1.3)  \n",
       "11 thiazide.factor                     false  909 (94.4)    940 (97.6)\n",
       "12                                     true   54 (5.6)      23 (2.4)  \n",
       "   post_admission\n",
       "1  908 (94.3)    \n",
       "2  55 (5.7)      \n",
       "3  769 (79.9)    \n",
       "4  194 (20.1)    \n",
       "5  879 (91.3)    \n",
       "6  84 (8.7)      \n",
       "7  936 (97.2)    \n",
       "8  27 (2.8)      \n",
       "9  956 (99.3)    \n",
       "10 7 (0.7)       \n",
       "11 954 (99.1)    \n",
       "12 9 (0.9)       "
      ]
     },
     "metadata": {},
     "output_type": "display_data"
    }
   ],
   "source": [
    "tbl_med_class %>% summary_factorlist(dependent   =\"time_status.factor\" , \n",
    "                     explanatory = c(\"calcium_channel_blocker.factor\", \"beta_blocker.factor\",\"ace_inhibitor.factor\",\"angiotensin_receptor_blocker.factor\",\"alpha_blocker.factor\",\"thiazide.factor\"))"
   ]
  },
  {
   "cell_type": "markdown",
   "id": "f496c6ca-560f-495f-ac16-17c98e0087dc",
   "metadata": {},
   "source": [
    "### this next section will etermine the number of antihypertnesives prescribed for each inidiudal and how this changes ove rthe course of an admission "
   ]
  },
  {
   "cell_type": "code",
   "execution_count": 68,
   "id": "d7f22bb3-5bdd-4ce4-b4af-40519a073100",
   "metadata": {
    "collapsed": true,
    "jupyter": {
     "outputs_hidden": true
    },
    "tags": []
   },
   "outputs": [],
   "source": [
    "tbl_antihypertensive_class <- tbl_med_f %>%  filter(time_status.factor == 'admission')"
   ]
  },
  {
   "cell_type": "code",
   "execution_count": 69,
   "id": "3be19ebf-9361-4d7c-8b2d-5ea5b44433a0",
   "metadata": {
    "collapsed": true,
    "jupyter": {
     "outputs_hidden": true
    }
   },
   "outputs": [],
   "source": [
    "#convert medication data into long format"
   ]
  },
  {
   "cell_type": "code",
   "execution_count": 70,
   "id": "3b7aaceb-5504-43a3-bf09-21751dd8588f",
   "metadata": {
    "collapsed": true,
    "jupyter": {
     "outputs_hidden": true
    },
    "tags": []
   },
   "outputs": [],
   "source": [
    "tbl_med_long <- tbl_med_f %>% pivot_longer(beta_blocker:alpha_blocker,names_to = \"antihypertensive\",values_to= \"prescribed\")"
   ]
  },
  {
   "cell_type": "code",
   "execution_count": 71,
   "id": "1f448a69-d7cc-40eb-a681-b299d9dee1ad",
   "metadata": {
    "collapsed": true,
    "jupyter": {
     "outputs_hidden": true
    }
   },
   "outputs": [],
   "source": [
    "#recode antihypertenisve classess as factor vectors"
   ]
  },
  {
   "cell_type": "code",
   "execution_count": 72,
   "id": "1428e337-bfac-4dab-9b37-ec89fb09f72e",
   "metadata": {
    "collapsed": true,
    "jupyter": {
     "outputs_hidden": true
    },
    "tags": []
   },
   "outputs": [],
   "source": [
    "tbl_med_long$antihypertensive.factor <- as.factor(tbl_med_long$antihypertensive)\n",
    "tbl_med_long<- tbl_med_long %>% select(-antihypertensive)"
   ]
  },
  {
   "cell_type": "code",
   "execution_count": 73,
   "id": "aa5ff518-5eef-4195-9137-4cefbfe482ea",
   "metadata": {
    "collapsed": true,
    "jupyter": {
     "outputs_hidden": true
    },
    "tags": []
   },
   "outputs": [
    {
     "data": {
      "text/html": [
       "<table class=\"dataframe\">\n",
       "<caption>A tibble: 6 × 6</caption>\n",
       "<thead>\n",
       "\t<tr><th scope=col>person_id</th><th scope=col>no_antihypertensive</th><th scope=col>early_death</th><th scope=col>time_status.factor</th><th scope=col>prescribed</th><th scope=col>antihypertensive.factor</th></tr>\n",
       "\t<tr><th scope=col>&lt;int&gt;</th><th scope=col>&lt;int&gt;</th><th scope=col>&lt;chr&gt;</th><th scope=col>&lt;fct&gt;</th><th scope=col>&lt;chr&gt;</th><th scope=col>&lt;fct&gt;</th></tr>\n",
       "</thead>\n",
       "<tbody>\n",
       "\t<tr><td>12950990</td><td>0</td><td>false</td><td>pre_admission</td><td>false</td><td>beta_blocker                </td></tr>\n",
       "\t<tr><td>12950990</td><td>0</td><td>false</td><td>pre_admission</td><td>false</td><td>calcium_channel_blocker     </td></tr>\n",
       "\t<tr><td>12950990</td><td>0</td><td>false</td><td>pre_admission</td><td>false</td><td>thiazide_type_diuretic      </td></tr>\n",
       "\t<tr><td>12950990</td><td>0</td><td>false</td><td>pre_admission</td><td>false</td><td>angiotensin_receptor_blocker</td></tr>\n",
       "\t<tr><td>12950990</td><td>0</td><td>false</td><td>pre_admission</td><td>false</td><td>ace_inhibitor               </td></tr>\n",
       "\t<tr><td>12950990</td><td>0</td><td>false</td><td>pre_admission</td><td>false</td><td>alpha_blocker               </td></tr>\n",
       "</tbody>\n",
       "</table>\n"
      ],
      "text/latex": [
       "A tibble: 6 × 6\n",
       "\\begin{tabular}{llllll}\n",
       " person\\_id & no\\_antihypertensive & early\\_death & time\\_status.factor & prescribed & antihypertensive.factor\\\\\n",
       " <int> & <int> & <chr> & <fct> & <chr> & <fct>\\\\\n",
       "\\hline\n",
       "\t 12950990 & 0 & false & pre\\_admission & false & beta\\_blocker                \\\\\n",
       "\t 12950990 & 0 & false & pre\\_admission & false & calcium\\_channel\\_blocker     \\\\\n",
       "\t 12950990 & 0 & false & pre\\_admission & false & thiazide\\_type\\_diuretic      \\\\\n",
       "\t 12950990 & 0 & false & pre\\_admission & false & angiotensin\\_receptor\\_blocker\\\\\n",
       "\t 12950990 & 0 & false & pre\\_admission & false & ace\\_inhibitor               \\\\\n",
       "\t 12950990 & 0 & false & pre\\_admission & false & alpha\\_blocker               \\\\\n",
       "\\end{tabular}\n"
      ],
      "text/markdown": [
       "\n",
       "A tibble: 6 × 6\n",
       "\n",
       "| person_id &lt;int&gt; | no_antihypertensive &lt;int&gt; | early_death &lt;chr&gt; | time_status.factor &lt;fct&gt; | prescribed &lt;chr&gt; | antihypertensive.factor &lt;fct&gt; |\n",
       "|---|---|---|---|---|---|\n",
       "| 12950990 | 0 | false | pre_admission | false | beta_blocker                 |\n",
       "| 12950990 | 0 | false | pre_admission | false | calcium_channel_blocker      |\n",
       "| 12950990 | 0 | false | pre_admission | false | thiazide_type_diuretic       |\n",
       "| 12950990 | 0 | false | pre_admission | false | angiotensin_receptor_blocker |\n",
       "| 12950990 | 0 | false | pre_admission | false | ace_inhibitor                |\n",
       "| 12950990 | 0 | false | pre_admission | false | alpha_blocker                |\n",
       "\n"
      ],
      "text/plain": [
       "  person_id no_antihypertensive early_death time_status.factor prescribed\n",
       "1 12950990  0                   false       pre_admission      false     \n",
       "2 12950990  0                   false       pre_admission      false     \n",
       "3 12950990  0                   false       pre_admission      false     \n",
       "4 12950990  0                   false       pre_admission      false     \n",
       "5 12950990  0                   false       pre_admission      false     \n",
       "6 12950990  0                   false       pre_admission      false     \n",
       "  antihypertensive.factor     \n",
       "1 beta_blocker                \n",
       "2 calcium_channel_blocker     \n",
       "3 thiazide_type_diuretic      \n",
       "4 angiotensin_receptor_blocker\n",
       "5 ace_inhibitor               \n",
       "6 alpha_blocker               "
      ]
     },
     "metadata": {},
     "output_type": "display_data"
    }
   ],
   "source": [
    "head(tbl_med_long)"
   ]
  },
  {
   "cell_type": "code",
   "execution_count": 74,
   "id": "8666d097-0b4e-4dd0-aed4-51d9c4955c24",
   "metadata": {
    "collapsed": true,
    "jupyter": {
     "outputs_hidden": true
    },
    "tags": []
   },
   "outputs": [],
   "source": [
    "#this was attempt at trying to do the group_by function in R< but didn't work so i just sent it back to bigquery and did it there because i know how to do it with SQL\n",
    "#tbl_med_long_filtered <- tbl_med_long  %>%   group_by(person_id, tbl_med_long$time_status.factor)%>% summarise(antihypertensive.factor)"
   ]
  },
  {
   "cell_type": "code",
   "execution_count": 75,
   "id": "783f140c-8d45-4816-9c95-c01271abea65",
   "metadata": {
    "collapsed": true,
    "jupyter": {
     "outputs_hidden": true
    },
    "tags": []
   },
   "outputs": [],
   "source": [
    "names(tbl_med_long)[names(tbl_med_long) == \"antihypertensive.factor\"] <- \"antihypertensive_type\"\n",
    "names(tbl_med_long)[names(tbl_med_long) == \"time_status.factor\"] <- \"time_factor\""
   ]
  },
  {
   "cell_type": "code",
   "execution_count": 76,
   "id": "440e31c9-537d-47de-ae02-401be838a97c",
   "metadata": {
    "tags": []
   },
   "outputs": [],
   "source": [
    "mybq = bq_table(project='yhcr-prd-phm-bia-core', dataset='CB_2172', table='tbl_med_long_filtered')\n",
    "bq_table_upload(x=mybq, values= tbl_med_long, create_disposition='CREATE_IF_NEEDED', \n",
    "             write_disposition='WRITE_TRUNCATE')"
   ]
  },
  {
   "cell_type": "code",
   "execution_count": 77,
   "id": "bde56f62-947c-44d5-9063-3665783dc0ef",
   "metadata": {
    "collapsed": true,
    "jupyter": {
     "outputs_hidden": true
    },
    "tags": []
   },
   "outputs": [],
   "source": [
    "sql4<- paste(\n",
    "    'SELECT person_id, time_factor, avg(no_antihypertensive) as number_antihypertensive \n",
    "FROM `yhcr-prd-phm-bia-core.CB_2172.tbl_med_long_filtered` \n",
    "group by person_id, time_factor \n",
    "order by person_id, time_factor;'\n",
    "             ,sep=\"\")\n",
    "\n",
    "tbl_antihtn <-bq_project_query(ProjectId,sql4)\n",
    "\n",
    "tbl_antihtn <- bq_table_download(tbl_antihtn)\n",
    "\n"
   ]
  },
  {
   "cell_type": "code",
   "execution_count": 78,
   "id": "f2ea0dc0-988c-49fd-9ba3-ffd64dc52127",
   "metadata": {
    "collapsed": true,
    "jupyter": {
     "outputs_hidden": true
    },
    "tags": []
   },
   "outputs": [],
   "source": [
    " tbl_antihtn$number_antihypertensive.factor <- as.factor(tbl_antihtn$number_antihypertensive)\n",
    " tbl_antihtn$time.factor <- as.factor(tbl_antihtn$time_factor)"
   ]
  },
  {
   "cell_type": "code",
   "execution_count": 79,
   "id": "a6addc76-0366-4575-ba4c-fee1e92b3032",
   "metadata": {
    "collapsed": true,
    "jupyter": {
     "outputs_hidden": true
    },
    "tags": []
   },
   "outputs": [
    {
     "data": {
      "text/html": [
       "<table class=\"dataframe\">\n",
       "<caption>A tibble: 2889 × 5</caption>\n",
       "<thead>\n",
       "\t<tr><th scope=col>person_id</th><th scope=col>time_factor</th><th scope=col>number_antihypertensive</th><th scope=col>number_antihypertensive.factor</th><th scope=col>time.factor</th></tr>\n",
       "\t<tr><th scope=col>&lt;int&gt;</th><th scope=col>&lt;chr&gt;</th><th scope=col>&lt;dbl&gt;</th><th scope=col>&lt;fct&gt;</th><th scope=col>&lt;fct&gt;</th></tr>\n",
       "</thead>\n",
       "<tbody>\n",
       "\t<tr><td> 30746</td><td>admission     </td><td>1</td><td>1</td><td>admission     </td></tr>\n",
       "\t<tr><td> 30746</td><td>post_admission</td><td>1</td><td>1</td><td>post_admission</td></tr>\n",
       "\t<tr><td> 30746</td><td>pre_admission </td><td>1</td><td>1</td><td>pre_admission </td></tr>\n",
       "\t<tr><td>111197</td><td>admission     </td><td>0</td><td>0</td><td>admission     </td></tr>\n",
       "\t<tr><td>111197</td><td>post_admission</td><td>0</td><td>0</td><td>post_admission</td></tr>\n",
       "\t<tr><td>111197</td><td>pre_admission </td><td>0</td><td>0</td><td>pre_admission </td></tr>\n",
       "\t<tr><td>144752</td><td>admission     </td><td>1</td><td>1</td><td>admission     </td></tr>\n",
       "\t<tr><td>144752</td><td>post_admission</td><td>0</td><td>0</td><td>post_admission</td></tr>\n",
       "\t<tr><td>144752</td><td>pre_admission </td><td>1</td><td>1</td><td>pre_admission </td></tr>\n",
       "\t<tr><td>186499</td><td>admission     </td><td>0</td><td>0</td><td>admission     </td></tr>\n",
       "\t<tr><td>186499</td><td>post_admission</td><td>0</td><td>0</td><td>post_admission</td></tr>\n",
       "\t<tr><td>186499</td><td>pre_admission </td><td>0</td><td>0</td><td>pre_admission </td></tr>\n",
       "\t<tr><td>247662</td><td>admission     </td><td>0</td><td>0</td><td>admission     </td></tr>\n",
       "\t<tr><td>247662</td><td>post_admission</td><td>0</td><td>0</td><td>post_admission</td></tr>\n",
       "\t<tr><td>247662</td><td>pre_admission </td><td>0</td><td>0</td><td>pre_admission </td></tr>\n",
       "\t<tr><td>251357</td><td>admission     </td><td>0</td><td>0</td><td>admission     </td></tr>\n",
       "\t<tr><td>251357</td><td>post_admission</td><td>0</td><td>0</td><td>post_admission</td></tr>\n",
       "\t<tr><td>251357</td><td>pre_admission </td><td>0</td><td>0</td><td>pre_admission </td></tr>\n",
       "\t<tr><td>303896</td><td>admission     </td><td>0</td><td>0</td><td>admission     </td></tr>\n",
       "\t<tr><td>303896</td><td>post_admission</td><td>0</td><td>0</td><td>post_admission</td></tr>\n",
       "\t<tr><td>303896</td><td>pre_admission </td><td>0</td><td>0</td><td>pre_admission </td></tr>\n",
       "\t<tr><td>339912</td><td>admission     </td><td>1</td><td>1</td><td>admission     </td></tr>\n",
       "\t<tr><td>339912</td><td>post_admission</td><td>1</td><td>1</td><td>post_admission</td></tr>\n",
       "\t<tr><td>339912</td><td>pre_admission </td><td>1</td><td>1</td><td>pre_admission </td></tr>\n",
       "\t<tr><td>355931</td><td>admission     </td><td>0</td><td>0</td><td>admission     </td></tr>\n",
       "\t<tr><td>355931</td><td>post_admission</td><td>0</td><td>0</td><td>post_admission</td></tr>\n",
       "\t<tr><td>355931</td><td>pre_admission </td><td>0</td><td>0</td><td>pre_admission </td></tr>\n",
       "\t<tr><td>360317</td><td>admission     </td><td>1</td><td>1</td><td>admission     </td></tr>\n",
       "\t<tr><td>360317</td><td>post_admission</td><td>1</td><td>1</td><td>post_admission</td></tr>\n",
       "\t<tr><td>360317</td><td>pre_admission </td><td>2</td><td>2</td><td>pre_admission </td></tr>\n",
       "\t<tr><td>⋮</td><td>⋮</td><td>⋮</td><td>⋮</td><td>⋮</td></tr>\n",
       "\t<tr><td>13745830</td><td>admission     </td><td>0</td><td>0</td><td>admission     </td></tr>\n",
       "\t<tr><td>13745830</td><td>post_admission</td><td>0</td><td>0</td><td>post_admission</td></tr>\n",
       "\t<tr><td>13745830</td><td>pre_admission </td><td>0</td><td>0</td><td>pre_admission </td></tr>\n",
       "\t<tr><td>13747375</td><td>admission     </td><td>1</td><td>1</td><td>admission     </td></tr>\n",
       "\t<tr><td>13747375</td><td>post_admission</td><td>0</td><td>0</td><td>post_admission</td></tr>\n",
       "\t<tr><td>13747375</td><td>pre_admission </td><td>1</td><td>1</td><td>pre_admission </td></tr>\n",
       "\t<tr><td>13747460</td><td>admission     </td><td>1</td><td>1</td><td>admission     </td></tr>\n",
       "\t<tr><td>13747460</td><td>post_admission</td><td>1</td><td>1</td><td>post_admission</td></tr>\n",
       "\t<tr><td>13747460</td><td>pre_admission </td><td>2</td><td>2</td><td>pre_admission </td></tr>\n",
       "\t<tr><td>13747544</td><td>admission     </td><td>0</td><td>0</td><td>admission     </td></tr>\n",
       "\t<tr><td>13747544</td><td>post_admission</td><td>0</td><td>0</td><td>post_admission</td></tr>\n",
       "\t<tr><td>13747544</td><td>pre_admission </td><td>0</td><td>0</td><td>pre_admission </td></tr>\n",
       "\t<tr><td>13749323</td><td>admission     </td><td>1</td><td>1</td><td>admission     </td></tr>\n",
       "\t<tr><td>13749323</td><td>post_admission</td><td>1</td><td>1</td><td>post_admission</td></tr>\n",
       "\t<tr><td>13749323</td><td>pre_admission </td><td>1</td><td>1</td><td>pre_admission </td></tr>\n",
       "\t<tr><td>13751531</td><td>admission     </td><td>0</td><td>0</td><td>admission     </td></tr>\n",
       "\t<tr><td>13751531</td><td>post_admission</td><td>0</td><td>0</td><td>post_admission</td></tr>\n",
       "\t<tr><td>13751531</td><td>pre_admission </td><td>3</td><td>3</td><td>pre_admission </td></tr>\n",
       "\t<tr><td>13752194</td><td>admission     </td><td>0</td><td>0</td><td>admission     </td></tr>\n",
       "\t<tr><td>13752194</td><td>post_admission</td><td>0</td><td>0</td><td>post_admission</td></tr>\n",
       "\t<tr><td>13752194</td><td>pre_admission </td><td>1</td><td>1</td><td>pre_admission </td></tr>\n",
       "\t<tr><td>13754222</td><td>admission     </td><td>0</td><td>0</td><td>admission     </td></tr>\n",
       "\t<tr><td>13754222</td><td>post_admission</td><td>0</td><td>0</td><td>post_admission</td></tr>\n",
       "\t<tr><td>13754222</td><td>pre_admission </td><td>0</td><td>0</td><td>pre_admission </td></tr>\n",
       "\t<tr><td>13757975</td><td>admission     </td><td>0</td><td>0</td><td>admission     </td></tr>\n",
       "\t<tr><td>13757975</td><td>post_admission</td><td>0</td><td>0</td><td>post_admission</td></tr>\n",
       "\t<tr><td>13757975</td><td>pre_admission </td><td>0</td><td>0</td><td>pre_admission </td></tr>\n",
       "\t<tr><td>13761135</td><td>admission     </td><td>1</td><td>1</td><td>admission     </td></tr>\n",
       "\t<tr><td>13761135</td><td>post_admission</td><td>1</td><td>1</td><td>post_admission</td></tr>\n",
       "\t<tr><td>13761135</td><td>pre_admission </td><td>2</td><td>2</td><td>pre_admission </td></tr>\n",
       "</tbody>\n",
       "</table>\n"
      ],
      "text/latex": [
       "A tibble: 2889 × 5\n",
       "\\begin{tabular}{lllll}\n",
       " person\\_id & time\\_factor & number\\_antihypertensive & number\\_antihypertensive.factor & time.factor\\\\\n",
       " <int> & <chr> & <dbl> & <fct> & <fct>\\\\\n",
       "\\hline\n",
       "\t  30746 & admission      & 1 & 1 & admission     \\\\\n",
       "\t  30746 & post\\_admission & 1 & 1 & post\\_admission\\\\\n",
       "\t  30746 & pre\\_admission  & 1 & 1 & pre\\_admission \\\\\n",
       "\t 111197 & admission      & 0 & 0 & admission     \\\\\n",
       "\t 111197 & post\\_admission & 0 & 0 & post\\_admission\\\\\n",
       "\t 111197 & pre\\_admission  & 0 & 0 & pre\\_admission \\\\\n",
       "\t 144752 & admission      & 1 & 1 & admission     \\\\\n",
       "\t 144752 & post\\_admission & 0 & 0 & post\\_admission\\\\\n",
       "\t 144752 & pre\\_admission  & 1 & 1 & pre\\_admission \\\\\n",
       "\t 186499 & admission      & 0 & 0 & admission     \\\\\n",
       "\t 186499 & post\\_admission & 0 & 0 & post\\_admission\\\\\n",
       "\t 186499 & pre\\_admission  & 0 & 0 & pre\\_admission \\\\\n",
       "\t 247662 & admission      & 0 & 0 & admission     \\\\\n",
       "\t 247662 & post\\_admission & 0 & 0 & post\\_admission\\\\\n",
       "\t 247662 & pre\\_admission  & 0 & 0 & pre\\_admission \\\\\n",
       "\t 251357 & admission      & 0 & 0 & admission     \\\\\n",
       "\t 251357 & post\\_admission & 0 & 0 & post\\_admission\\\\\n",
       "\t 251357 & pre\\_admission  & 0 & 0 & pre\\_admission \\\\\n",
       "\t 303896 & admission      & 0 & 0 & admission     \\\\\n",
       "\t 303896 & post\\_admission & 0 & 0 & post\\_admission\\\\\n",
       "\t 303896 & pre\\_admission  & 0 & 0 & pre\\_admission \\\\\n",
       "\t 339912 & admission      & 1 & 1 & admission     \\\\\n",
       "\t 339912 & post\\_admission & 1 & 1 & post\\_admission\\\\\n",
       "\t 339912 & pre\\_admission  & 1 & 1 & pre\\_admission \\\\\n",
       "\t 355931 & admission      & 0 & 0 & admission     \\\\\n",
       "\t 355931 & post\\_admission & 0 & 0 & post\\_admission\\\\\n",
       "\t 355931 & pre\\_admission  & 0 & 0 & pre\\_admission \\\\\n",
       "\t 360317 & admission      & 1 & 1 & admission     \\\\\n",
       "\t 360317 & post\\_admission & 1 & 1 & post\\_admission\\\\\n",
       "\t 360317 & pre\\_admission  & 2 & 2 & pre\\_admission \\\\\n",
       "\t ⋮ & ⋮ & ⋮ & ⋮ & ⋮\\\\\n",
       "\t 13745830 & admission      & 0 & 0 & admission     \\\\\n",
       "\t 13745830 & post\\_admission & 0 & 0 & post\\_admission\\\\\n",
       "\t 13745830 & pre\\_admission  & 0 & 0 & pre\\_admission \\\\\n",
       "\t 13747375 & admission      & 1 & 1 & admission     \\\\\n",
       "\t 13747375 & post\\_admission & 0 & 0 & post\\_admission\\\\\n",
       "\t 13747375 & pre\\_admission  & 1 & 1 & pre\\_admission \\\\\n",
       "\t 13747460 & admission      & 1 & 1 & admission     \\\\\n",
       "\t 13747460 & post\\_admission & 1 & 1 & post\\_admission\\\\\n",
       "\t 13747460 & pre\\_admission  & 2 & 2 & pre\\_admission \\\\\n",
       "\t 13747544 & admission      & 0 & 0 & admission     \\\\\n",
       "\t 13747544 & post\\_admission & 0 & 0 & post\\_admission\\\\\n",
       "\t 13747544 & pre\\_admission  & 0 & 0 & pre\\_admission \\\\\n",
       "\t 13749323 & admission      & 1 & 1 & admission     \\\\\n",
       "\t 13749323 & post\\_admission & 1 & 1 & post\\_admission\\\\\n",
       "\t 13749323 & pre\\_admission  & 1 & 1 & pre\\_admission \\\\\n",
       "\t 13751531 & admission      & 0 & 0 & admission     \\\\\n",
       "\t 13751531 & post\\_admission & 0 & 0 & post\\_admission\\\\\n",
       "\t 13751531 & pre\\_admission  & 3 & 3 & pre\\_admission \\\\\n",
       "\t 13752194 & admission      & 0 & 0 & admission     \\\\\n",
       "\t 13752194 & post\\_admission & 0 & 0 & post\\_admission\\\\\n",
       "\t 13752194 & pre\\_admission  & 1 & 1 & pre\\_admission \\\\\n",
       "\t 13754222 & admission      & 0 & 0 & admission     \\\\\n",
       "\t 13754222 & post\\_admission & 0 & 0 & post\\_admission\\\\\n",
       "\t 13754222 & pre\\_admission  & 0 & 0 & pre\\_admission \\\\\n",
       "\t 13757975 & admission      & 0 & 0 & admission     \\\\\n",
       "\t 13757975 & post\\_admission & 0 & 0 & post\\_admission\\\\\n",
       "\t 13757975 & pre\\_admission  & 0 & 0 & pre\\_admission \\\\\n",
       "\t 13761135 & admission      & 1 & 1 & admission     \\\\\n",
       "\t 13761135 & post\\_admission & 1 & 1 & post\\_admission\\\\\n",
       "\t 13761135 & pre\\_admission  & 2 & 2 & pre\\_admission \\\\\n",
       "\\end{tabular}\n"
      ],
      "text/markdown": [
       "\n",
       "A tibble: 2889 × 5\n",
       "\n",
       "| person_id &lt;int&gt; | time_factor &lt;chr&gt; | number_antihypertensive &lt;dbl&gt; | number_antihypertensive.factor &lt;fct&gt; | time.factor &lt;fct&gt; |\n",
       "|---|---|---|---|---|\n",
       "|  30746 | admission      | 1 | 1 | admission      |\n",
       "|  30746 | post_admission | 1 | 1 | post_admission |\n",
       "|  30746 | pre_admission  | 1 | 1 | pre_admission  |\n",
       "| 111197 | admission      | 0 | 0 | admission      |\n",
       "| 111197 | post_admission | 0 | 0 | post_admission |\n",
       "| 111197 | pre_admission  | 0 | 0 | pre_admission  |\n",
       "| 144752 | admission      | 1 | 1 | admission      |\n",
       "| 144752 | post_admission | 0 | 0 | post_admission |\n",
       "| 144752 | pre_admission  | 1 | 1 | pre_admission  |\n",
       "| 186499 | admission      | 0 | 0 | admission      |\n",
       "| 186499 | post_admission | 0 | 0 | post_admission |\n",
       "| 186499 | pre_admission  | 0 | 0 | pre_admission  |\n",
       "| 247662 | admission      | 0 | 0 | admission      |\n",
       "| 247662 | post_admission | 0 | 0 | post_admission |\n",
       "| 247662 | pre_admission  | 0 | 0 | pre_admission  |\n",
       "| 251357 | admission      | 0 | 0 | admission      |\n",
       "| 251357 | post_admission | 0 | 0 | post_admission |\n",
       "| 251357 | pre_admission  | 0 | 0 | pre_admission  |\n",
       "| 303896 | admission      | 0 | 0 | admission      |\n",
       "| 303896 | post_admission | 0 | 0 | post_admission |\n",
       "| 303896 | pre_admission  | 0 | 0 | pre_admission  |\n",
       "| 339912 | admission      | 1 | 1 | admission      |\n",
       "| 339912 | post_admission | 1 | 1 | post_admission |\n",
       "| 339912 | pre_admission  | 1 | 1 | pre_admission  |\n",
       "| 355931 | admission      | 0 | 0 | admission      |\n",
       "| 355931 | post_admission | 0 | 0 | post_admission |\n",
       "| 355931 | pre_admission  | 0 | 0 | pre_admission  |\n",
       "| 360317 | admission      | 1 | 1 | admission      |\n",
       "| 360317 | post_admission | 1 | 1 | post_admission |\n",
       "| 360317 | pre_admission  | 2 | 2 | pre_admission  |\n",
       "| ⋮ | ⋮ | ⋮ | ⋮ | ⋮ |\n",
       "| 13745830 | admission      | 0 | 0 | admission      |\n",
       "| 13745830 | post_admission | 0 | 0 | post_admission |\n",
       "| 13745830 | pre_admission  | 0 | 0 | pre_admission  |\n",
       "| 13747375 | admission      | 1 | 1 | admission      |\n",
       "| 13747375 | post_admission | 0 | 0 | post_admission |\n",
       "| 13747375 | pre_admission  | 1 | 1 | pre_admission  |\n",
       "| 13747460 | admission      | 1 | 1 | admission      |\n",
       "| 13747460 | post_admission | 1 | 1 | post_admission |\n",
       "| 13747460 | pre_admission  | 2 | 2 | pre_admission  |\n",
       "| 13747544 | admission      | 0 | 0 | admission      |\n",
       "| 13747544 | post_admission | 0 | 0 | post_admission |\n",
       "| 13747544 | pre_admission  | 0 | 0 | pre_admission  |\n",
       "| 13749323 | admission      | 1 | 1 | admission      |\n",
       "| 13749323 | post_admission | 1 | 1 | post_admission |\n",
       "| 13749323 | pre_admission  | 1 | 1 | pre_admission  |\n",
       "| 13751531 | admission      | 0 | 0 | admission      |\n",
       "| 13751531 | post_admission | 0 | 0 | post_admission |\n",
       "| 13751531 | pre_admission  | 3 | 3 | pre_admission  |\n",
       "| 13752194 | admission      | 0 | 0 | admission      |\n",
       "| 13752194 | post_admission | 0 | 0 | post_admission |\n",
       "| 13752194 | pre_admission  | 1 | 1 | pre_admission  |\n",
       "| 13754222 | admission      | 0 | 0 | admission      |\n",
       "| 13754222 | post_admission | 0 | 0 | post_admission |\n",
       "| 13754222 | pre_admission  | 0 | 0 | pre_admission  |\n",
       "| 13757975 | admission      | 0 | 0 | admission      |\n",
       "| 13757975 | post_admission | 0 | 0 | post_admission |\n",
       "| 13757975 | pre_admission  | 0 | 0 | pre_admission  |\n",
       "| 13761135 | admission      | 1 | 1 | admission      |\n",
       "| 13761135 | post_admission | 1 | 1 | post_admission |\n",
       "| 13761135 | pre_admission  | 2 | 2 | pre_admission  |\n",
       "\n"
      ],
      "text/plain": [
       "     person_id time_factor    number_antihypertensive\n",
       "1     30746    admission      1                      \n",
       "2     30746    post_admission 1                      \n",
       "3     30746    pre_admission  1                      \n",
       "4    111197    admission      0                      \n",
       "5    111197    post_admission 0                      \n",
       "6    111197    pre_admission  0                      \n",
       "7    144752    admission      1                      \n",
       "8    144752    post_admission 0                      \n",
       "9    144752    pre_admission  1                      \n",
       "10   186499    admission      0                      \n",
       "11   186499    post_admission 0                      \n",
       "12   186499    pre_admission  0                      \n",
       "13   247662    admission      0                      \n",
       "14   247662    post_admission 0                      \n",
       "15   247662    pre_admission  0                      \n",
       "16   251357    admission      0                      \n",
       "17   251357    post_admission 0                      \n",
       "18   251357    pre_admission  0                      \n",
       "19   303896    admission      0                      \n",
       "20   303896    post_admission 0                      \n",
       "21   303896    pre_admission  0                      \n",
       "22   339912    admission      1                      \n",
       "23   339912    post_admission 1                      \n",
       "24   339912    pre_admission  1                      \n",
       "25   355931    admission      0                      \n",
       "26   355931    post_admission 0                      \n",
       "27   355931    pre_admission  0                      \n",
       "28   360317    admission      1                      \n",
       "29   360317    post_admission 1                      \n",
       "30   360317    pre_admission  2                      \n",
       "⋮    ⋮         ⋮              ⋮                      \n",
       "2860 13745830  admission      0                      \n",
       "2861 13745830  post_admission 0                      \n",
       "2862 13745830  pre_admission  0                      \n",
       "2863 13747375  admission      1                      \n",
       "2864 13747375  post_admission 0                      \n",
       "2865 13747375  pre_admission  1                      \n",
       "2866 13747460  admission      1                      \n",
       "2867 13747460  post_admission 1                      \n",
       "2868 13747460  pre_admission  2                      \n",
       "2869 13747544  admission      0                      \n",
       "2870 13747544  post_admission 0                      \n",
       "2871 13747544  pre_admission  0                      \n",
       "2872 13749323  admission      1                      \n",
       "2873 13749323  post_admission 1                      \n",
       "2874 13749323  pre_admission  1                      \n",
       "2875 13751531  admission      0                      \n",
       "2876 13751531  post_admission 0                      \n",
       "2877 13751531  pre_admission  3                      \n",
       "2878 13752194  admission      0                      \n",
       "2879 13752194  post_admission 0                      \n",
       "2880 13752194  pre_admission  1                      \n",
       "2881 13754222  admission      0                      \n",
       "2882 13754222  post_admission 0                      \n",
       "2883 13754222  pre_admission  0                      \n",
       "2884 13757975  admission      0                      \n",
       "2885 13757975  post_admission 0                      \n",
       "2886 13757975  pre_admission  0                      \n",
       "2887 13761135  admission      1                      \n",
       "2888 13761135  post_admission 1                      \n",
       "2889 13761135  pre_admission  2                      \n",
       "     number_antihypertensive.factor time.factor   \n",
       "1    1                              admission     \n",
       "2    1                              post_admission\n",
       "3    1                              pre_admission \n",
       "4    0                              admission     \n",
       "5    0                              post_admission\n",
       "6    0                              pre_admission \n",
       "7    1                              admission     \n",
       "8    0                              post_admission\n",
       "9    1                              pre_admission \n",
       "10   0                              admission     \n",
       "11   0                              post_admission\n",
       "12   0                              pre_admission \n",
       "13   0                              admission     \n",
       "14   0                              post_admission\n",
       "15   0                              pre_admission \n",
       "16   0                              admission     \n",
       "17   0                              post_admission\n",
       "18   0                              pre_admission \n",
       "19   0                              admission     \n",
       "20   0                              post_admission\n",
       "21   0                              pre_admission \n",
       "22   1                              admission     \n",
       "23   1                              post_admission\n",
       "24   1                              pre_admission \n",
       "25   0                              admission     \n",
       "26   0                              post_admission\n",
       "27   0                              pre_admission \n",
       "28   1                              admission     \n",
       "29   1                              post_admission\n",
       "30   2                              pre_admission \n",
       "⋮    ⋮                              ⋮             \n",
       "2860 0                              admission     \n",
       "2861 0                              post_admission\n",
       "2862 0                              pre_admission \n",
       "2863 1                              admission     \n",
       "2864 0                              post_admission\n",
       "2865 1                              pre_admission \n",
       "2866 1                              admission     \n",
       "2867 1                              post_admission\n",
       "2868 2                              pre_admission \n",
       "2869 0                              admission     \n",
       "2870 0                              post_admission\n",
       "2871 0                              pre_admission \n",
       "2872 1                              admission     \n",
       "2873 1                              post_admission\n",
       "2874 1                              pre_admission \n",
       "2875 0                              admission     \n",
       "2876 0                              post_admission\n",
       "2877 3                              pre_admission \n",
       "2878 0                              admission     \n",
       "2879 0                              post_admission\n",
       "2880 1                              pre_admission \n",
       "2881 0                              admission     \n",
       "2882 0                              post_admission\n",
       "2883 0                              pre_admission \n",
       "2884 0                              admission     \n",
       "2885 0                              post_admission\n",
       "2886 0                              pre_admission \n",
       "2887 1                              admission     \n",
       "2888 1                              post_admission\n",
       "2889 2                              pre_admission "
      ]
     },
     "metadata": {},
     "output_type": "display_data"
    }
   ],
   "source": [
    " tbl_antihtn <- tbl_antihtn %>% \n",
    "  mutate(time.factor = time.factor %>% \n",
    "           fct_relevel(\"pre_admission\"))\n",
    "\n",
    "tbl_antihtn"
   ]
  },
  {
   "cell_type": "code",
   "execution_count": 80,
   "id": "6f03aafb-e325-486b-90d0-c13757ae8e4f",
   "metadata": {
    "collapsed": true,
    "jupyter": {
     "outputs_hidden": true
    },
    "tags": []
   },
   "outputs": [
    {
     "data": {
      "text/html": [
       "<table class=\"dataframe\">\n",
       "<caption>A data.frame.ff: 6 × 5</caption>\n",
       "<thead>\n",
       "\t<tr><th scope=col>label</th><th scope=col>levels</th><th scope=col>pre_admission</th><th scope=col>admission</th><th scope=col>post_admission</th></tr>\n",
       "\t<tr><th scope=col>&lt;chr&gt;</th><th scope=col>&lt;chr&gt;</th><th scope=col>&lt;chr&gt;</th><th scope=col>&lt;chr&gt;</th><th scope=col>&lt;chr&gt;</th></tr>\n",
       "</thead>\n",
       "<tbody>\n",
       "\t<tr><td>number_antihypertensive.factor</td><td>0</td><td>528 (54.8)</td><td>611 (63.4)</td><td>657 (68.2)</td></tr>\n",
       "\t<tr><td>                              </td><td>1</td><td>288 (29.9)</td><td>262 (27.2)</td><td>246 (25.5)</td></tr>\n",
       "\t<tr><td>                              </td><td>2</td><td>122 (12.7)</td><td>81 (8.4)  </td><td>50 (5.2)  </td></tr>\n",
       "\t<tr><td>                              </td><td>3</td><td>23 (2.4)  </td><td>8 (0.8)   </td><td>10 (1.0)  </td></tr>\n",
       "\t<tr><td>                              </td><td>4</td><td>1 (0.1)   </td><td>1 (0.1)   </td><td>0 (0.0)   </td></tr>\n",
       "\t<tr><td>                              </td><td>5</td><td>1 (0.1)   </td><td>0 (0.0)   </td><td>0 (0.0)   </td></tr>\n",
       "</tbody>\n",
       "</table>\n"
      ],
      "text/latex": [
       "A data.frame.ff: 6 × 5\n",
       "\\begin{tabular}{lllll}\n",
       " label & levels & pre\\_admission & admission & post\\_admission\\\\\n",
       " <chr> & <chr> & <chr> & <chr> & <chr>\\\\\n",
       "\\hline\n",
       "\t number\\_antihypertensive.factor & 0 & 528 (54.8) & 611 (63.4) & 657 (68.2)\\\\\n",
       "\t                                & 1 & 288 (29.9) & 262 (27.2) & 246 (25.5)\\\\\n",
       "\t                                & 2 & 122 (12.7) & 81 (8.4)   & 50 (5.2)  \\\\\n",
       "\t                                & 3 & 23 (2.4)   & 8 (0.8)    & 10 (1.0)  \\\\\n",
       "\t                                & 4 & 1 (0.1)    & 1 (0.1)    & 0 (0.0)   \\\\\n",
       "\t                                & 5 & 1 (0.1)    & 0 (0.0)    & 0 (0.0)   \\\\\n",
       "\\end{tabular}\n"
      ],
      "text/markdown": [
       "\n",
       "A data.frame.ff: 6 × 5\n",
       "\n",
       "| label &lt;chr&gt; | levels &lt;chr&gt; | pre_admission &lt;chr&gt; | admission &lt;chr&gt; | post_admission &lt;chr&gt; |\n",
       "|---|---|---|---|---|\n",
       "| number_antihypertensive.factor | 0 | 528 (54.8) | 611 (63.4) | 657 (68.2) |\n",
       "| <!----> | 1 | 288 (29.9) | 262 (27.2) | 246 (25.5) |\n",
       "| <!----> | 2 | 122 (12.7) | 81 (8.4)   | 50 (5.2)   |\n",
       "| <!----> | 3 | 23 (2.4)   | 8 (0.8)    | 10 (1.0)   |\n",
       "| <!----> | 4 | 1 (0.1)    | 1 (0.1)    | 0 (0.0)    |\n",
       "| <!----> | 5 | 1 (0.1)    | 0 (0.0)    | 0 (0.0)    |\n",
       "\n"
      ],
      "text/plain": [
       "  label                          levels pre_admission admission  post_admission\n",
       "1 number_antihypertensive.factor 0      528 (54.8)    611 (63.4) 657 (68.2)    \n",
       "2                                1      288 (29.9)    262 (27.2) 246 (25.5)    \n",
       "3                                2      122 (12.7)    81 (8.4)   50 (5.2)      \n",
       "4                                3      23 (2.4)      8 (0.8)    10 (1.0)      \n",
       "5                                4      1 (0.1)       1 (0.1)    0 (0.0)       \n",
       "6                                5      1 (0.1)       0 (0.0)    0 (0.0)       "
      ]
     },
     "metadata": {},
     "output_type": "display_data"
    }
   ],
   "source": [
    "deprescribing_tibble <- tbl_antihtn %>% \n",
    "summary_factorlist(dependent   =\"time.factor\", \n",
    "                     explanatory = c(\"number_antihypertensive.factor\"))\n",
    "\n",
    "deprescribing_tibble"
   ]
  },
  {
   "cell_type": "code",
   "execution_count": 81,
   "id": "98582497-af0d-40d1-ad51-ba9b0ffd0332",
   "metadata": {
    "collapsed": true,
    "jupyter": {
     "outputs_hidden": true
    },
    "tags": []
   },
   "outputs": [
    {
     "data": {
      "image/png": "[encoded data removed]",
      "text/plain": [
       "plot without title"
      ]
     },
     "metadata": {
      "image/png": {
       "height": 420,
       "width": 420
      }
     },
     "output_type": "display_data"
    }
   ],
   "source": [
    "tbl_antihtn %>%  ggplot(aes(x= number_antihypertensive.factor)) + geom_bar(stat=\"count\",width=0.7) + facet_grid(cols=vars(time.factor))+scale_fill_brewer(palette=\"Blues\")+labs(x=\"Number of antihypertensives prescribed\",title=\"Changes in antihypertensive prescriptions during care home admission\")"
   ]
  },
  {
   "cell_type": "code",
   "execution_count": 82,
   "id": "18a049b9-6eca-4dd9-aa40-7d5a0c573347",
   "metadata": {
    "collapsed": true,
    "jupyter": {
     "outputs_hidden": true
    },
    "tags": []
   },
   "outputs": [],
   "source": [
    "#tbl_med_long_filtered <- tbl_med_long  %>%   group_by(person_id,time_status.factor)%>% summarise(antihypertensive.factor)"
   ]
  },
  {
   "cell_type": "code",
   "execution_count": 83,
   "id": "692ba70b-4598-4363-aac3-fceb70b01db7",
   "metadata": {
    "collapsed": true,
    "jupyter": {
     "outputs_hidden": true
    }
   },
   "outputs": [],
   "source": [
    "#this part will examine type of antihypertensives at the point of admission"
   ]
  },
  {
   "cell_type": "markdown",
   "id": "b2ca560c-effb-4bc9-a4d0-56a6ca480b04",
   "metadata": {},
   "source": [
    "## Blood pressure measurements"
   ]
  },
  {
   "cell_type": "code",
   "execution_count": 84,
   "id": "3985f543-b8c4-4c53-8ec5-e95289013591",
   "metadata": {
    "collapsed": true,
    "jupyter": {
     "outputs_hidden": true
    }
   },
   "outputs": [],
   "source": [
    "# join the number of medications at admission to the master cohort dataframe in order to calculate number of people with BP measurements after admission by number of medication "
   ]
  },
  {
   "cell_type": "code",
   "execution_count": 85,
   "id": "659feabd-29d5-4cea-994c-5d3c187689fb",
   "metadata": {
    "collapsed": true,
    "jupyter": {
     "outputs_hidden": true
    },
    "tags": []
   },
   "outputs": [],
   "source": [
    "no_medication <- tbl_antihtn %>% filter(time.factor == 'admission')"
   ]
  },
  {
   "cell_type": "code",
   "execution_count": 86,
   "id": "65e6620e-1410-4c2f-826f-6711719c4646",
   "metadata": {
    "collapsed": true,
    "jupyter": {
     "outputs_hidden": true
    },
    "tags": []
   },
   "outputs": [
    {
     "name": "stdout",
     "output_type": "stream",
     "text": [
      "tibble [963 × 43] (S3: tbl_df/tbl/data.frame)\n",
      " $ age_admission                 : int [1:963] 91 82 94 94 93 85 92 86 82 89 ...\n",
      " $ person_id                     : int [1:963] 30746 111197 144752 186499 247662 251357 303896 339912 355931 360317 ...\n",
      " $ first_episodestartdate        : Date[1:963], format: \"2017-07-28\" \"2018-02-24\" ...\n",
      " $ last_episodestopdate          : POSIXct[1:963], format: \"2018-01-27\" \"2019-04-23\" ...\n",
      " $ finalisedPSR                  : chr [1:963] \"Mental Health Support\" \"Physical Support - Personal Care Support\" \"Mental Health Support\" \"Physical Support - Personal Care Support\" ...\n",
      " $ admission_length              : int [1:963] 183 423 431 261 217 422 78 285 969 818 ...\n",
      " $ imd                           : chr [1:963] \"10\" \"9\" \"9\" \"1\" ...\n",
      " $ fall_date                     : POSIXct[1:963], format: NA NA ...\n",
      " $ hypertension                  : chr [1:963] \"yes\" \"yes\" \"yes\" \"yes\" ...\n",
      " $ systolic_value                : int [1:963] 140 135 NA 140 144 NA NA 101 104 126 ...\n",
      " $ diastolic_value               : int [1:963] 80 76 NA 103 87 NA NA 66 55 98 ...\n",
      " $ date_systolic                 : Date[1:963], format: \"2018-01-17\" \"2018-10-03\" ...\n",
      " $ efi2                          : num [1:963] 0.275 0.211 0.334 0.377 0.417 0.197 0.299 0.431 0.286 0.269 ...\n",
      " $ efall_value                   : num [1:963] 0.305 0.104 0.167 0.166 0.127 ...\n",
      " $ no_medication                 : int [1:963] 10 5 2 11 1 3 3 8 6 10 ...\n",
      " $ service.factor                : Factor w/ 2 levels \"Nursing\",\"Residential\": 1 1 1 1 1 2 2 1 1 1 ...\n",
      " $ body_mass_index               : num [1:963] 21.1 31.2 22.4 35.8 19.1 ...\n",
      " $ chronic_kidney_disease        : Factor w/ 2 levels \"no\",\"yes\": 1 2 1 2 1 1 1 1 1 1 ...\n",
      " $ ethnicity.factor              : Factor w/ 15 levels \"Asian or Asian British: any other Asian background - England and Wales ethnic category 2011 census\",..: 13 13 13 13 13 13 13 13 13 13 ...\n",
      " $ ethnicity.final               : Factor w/ 4 levels \"Pakistani\",\"Missing\",..: 3 3 3 3 3 3 3 3 3 3 ...\n",
      " $ birth_date                    : Date[1:963], format: \"1926-05-15\" \"1936-02-15\" ...\n",
      " $ previous_stroke               : Factor w/ 2 levels \"no\",\"yes\": 1 1 1 1 1 1 1 1 1 1 ...\n",
      " $ gender                        : Factor w/ 2 levels \"F\",\"M\": 1 1 1 1 1 1 1 1 1 1 ...\n",
      " $ imd.factor                    : Factor w/ 11 levels \"1\",\"10\",\"2\",\"3\",..: 2 10 10 1 1 4 6 2 5 2 ...\n",
      " $ imd.quintile                  : Factor w/ 6 levels \"1\",\"2\",\"3\",\"4\",..: 5 5 5 1 1 2 3 5 2 5 ...\n",
      " $ diabetes.factor               : Factor w/ 1 level \"yes\": NA NA NA NA NA NA NA NA NA NA ...\n",
      " $ af.factor                     : Factor w/ 2 levels \"no\",\"yes\": 2 1 1 1 1 1 1 2 1 2 ...\n",
      " $ hf.factor                     : Factor w/ 2 levels \"no\",\"yes\": 1 1 1 2 1 1 1 1 1 1 ...\n",
      " $ smoking.factor                : Factor w/ 3 levels \"current smoker\",..: 3 3 3 3 3 3 3 3 3 3 ...\n",
      " $ fall.factor                   : Factor w/ 1 level \"true\": NA NA NA NA NA NA NA NA NA NA ...\n",
      " $ chd.factor                    : Factor w/ 2 levels \"no\",\"yes\": 1 1 1 2 2 1 1 2 1 1 ...\n",
      " $ hypertension.factor           : Factor w/ 2 levels \"no\",\"yes\": 2 2 2 2 2 2 2 2 2 2 ...\n",
      " $ bp_present                    : chr [1:963] \"yes\" \"yes\" \"missing\" \"yes\" ...\n",
      " $ bp_present.factor             : Factor w/ 2 levels \"missing\",\"yes\": 2 2 1 2 2 1 1 2 2 2 ...\n",
      " $ bp_target                     : chr [1:963] \"below\" \"below\" NA \"below\" ...\n",
      " $ dod                           : Date[1:963], format: \"2018-01-15\" \"2023-01-11\" ...\n",
      " $ life_exp                      : num [1:963] 5 58 68 8 6 13 43 8 32 26 ...\n",
      " $ efi2.factor                   : Factor w/ 4 levels \"fit\",\"mild frailty\",..: 3 2 3 4 4 2 3 4 3 3 ...\n",
      "  ..- attr(*, \"label\")= chr \"Efi2 category\"\n",
      " $ bp_reading_factor             : Factor w/ 2 levels \"missing\",\"yes\": 2 2 1 2 2 1 1 2 2 2 ...\n",
      " $ time_factor                   : chr [1:963] \"admission\" \"admission\" \"admission\" \"admission\" ...\n",
      " $ number_antihypertensive       : num [1:963] 1 0 1 0 0 0 0 1 0 1 ...\n",
      " $ number_antihypertensive.factor: Factor w/ 6 levels \"0\",\"1\",\"2\",\"3\",..: 2 1 2 1 1 1 1 2 1 2 ...\n",
      " $ time.factor                   : Factor w/ 3 levels \"pre_admission\",..: 2 2 2 2 2 2 2 2 2 2 ...\n"
     ]
    }
   ],
   "source": [
    "master_tibble<-bp_data %>% inner_join(no_medication, by=\"person_id\")\n",
    "str(master_tibble)"
   ]
  },
  {
   "cell_type": "code",
   "execution_count": 87,
   "id": "89c9d015-80b5-4346-ba8b-a06503926748",
   "metadata": {
    "collapsed": true,
    "jupyter": {
     "outputs_hidden": true
    },
    "tags": []
   },
   "outputs": [
    {
     "data": {
      "image/png": "[encoded data removed]",
      "text/plain": [
       "plot without title"
      ]
     },
     "metadata": {
      "image/png": {
       "height": 420,
       "width": 420
      }
     },
     "output_type": "display_data"
    }
   ],
   "source": [
    "master_tibble %>% ggplot(aes(x=number_antihypertensive.factor,fill=bp_present))+geom_bar(position=\"fill\")+labs(x=\"numer of antihypertensives\",y=\"proportion with bp present\")"
   ]
  },
  {
   "cell_type": "code",
   "execution_count": 88,
   "id": "74db5c94-ebce-415b-9879-7fcff866dafa",
   "metadata": {
    "collapsed": true,
    "jupyter": {
     "outputs_hidden": true
    },
    "tags": []
   },
   "outputs": [
    {
     "data": {
      "image/png": "[encoded data removed]",
      "text/plain": [
       "plot without title"
      ]
     },
     "metadata": {
      "image/png": {
       "height": 420,
       "width": 420
      }
     },
     "output_type": "display_data"
    }
   ],
   "source": [
    "master_tibble %>% ggplot(aes(x=number_antihypertensive.factor,fill=bp_target))+geom_bar(position=\"fill\")+labs(x=\"number of antihypertensives\",y=\"proportion with bp present\")"
   ]
  },
  {
   "cell_type": "code",
   "execution_count": 89,
   "id": "3bec1a26-1a7f-4223-b8e9-537f1ef694cd",
   "metadata": {
    "collapsed": true,
    "jupyter": {
     "outputs_hidden": true
    },
    "tags": []
   },
   "outputs": [
    {
     "data": {
      "image/png": "[encoded data removed]",
      "text/plain": [
       "plot without title"
      ]
     },
     "metadata": {
      "image/png": {
       "height": 420,
       "width": 420
      }
     },
     "output_type": "display_data"
    }
   ],
   "source": [
    "master_tibble %>% ggplot(aes(x=efi2.factor,fill=bp_target))+geom_bar(position=\"fill\")+labs(y=\"proportion with bp present\")"
   ]
  }
 ],
 "metadata": {
  "environment": {
   "kernel": "conda-env-R-r",
   "name": "workbench-notebooks.m113",
   "type": "gcloud",
   "uri": "gcr.io/deeplearning-platform-release/workbench-notebooks:m113"
  },
  "kernelspec": {
   "display_name": "R (Local)",
   "language": "R",
   "name": "conda-env-R-r"
  },
  "language_info": {
   "codemirror_mode": "r",
   "file_extension": ".r",
   "mimetype": "text/x-r-source",
   "name": "R",
   "pygments_lexer": "r",
   "version": "4.3.2"
  }
 },
 "nbformat": 4,
 "nbformat_minor": 5
}
