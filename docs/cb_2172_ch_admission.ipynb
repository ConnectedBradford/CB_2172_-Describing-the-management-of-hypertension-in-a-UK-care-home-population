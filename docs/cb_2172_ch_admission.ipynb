{
 "cells": [
  {
   "cell_type": "code",
   "execution_count": null,
   "id": "83f3f127-d061-4fe7-960a-b2306722408a",
   "metadata": {},
   "outputs": [],
   "source": [
    "## this code will create a cohort of care home residents "
   ]
  },
  {
   "cell_type": "code",
   "execution_count": null,
   "id": "2130ed8c-e626-443e-9546-87331410b9ae",
   "metadata": {
    "tags": []
   },
   "outputs": [],
   "source": [
    "\n",
    "library(ggplot2)\n",
    "library(bigrquery)\n",
    "library(tidyverse)\n",
    "library(ggplot2)\n",
    "library(finalfit)\n",
    "ProjectId = \"\"\n",
    "\n",
    "targetdb1 <-''\n",
    "targetdb1 <-gsub(' ','',targetdb1)\n",
    "\n",
    "targetdb2 <-''\n",
    "targetdb2 <-gsub(' ','',targetdb2)\n"
   ]
  },
  {
   "cell_type": "code",
   "execution_count": null,
   "id": "43432add-34c6-49ed-a571-32bd653817e7",
   "metadata": {},
   "outputs": [],
   "source": [
    "## the code in red is the SQL code that I used "
   ]
  },
  {
   "cell_type": "code",
   "execution_count": null,
   "id": "fc9c79e9-bffe-4981-8529-949545805fb2",
   "metadata": {
    "tags": []
   },
   "outputs": [],
   "source": [
    "sql_cohort <- paste('CREATE OR REPLACE TABLE ',targetdb1,'.temp_cb_2172_ch_cohort_master` as (\n",
    "with a  as (\n",
    "SELECT person_id, tbl_Services_Start_date, servicetype, FinalisedPSR, row_number() over (partition by person_id order by tbl_services_start_date) as care_seq from ',targetdb2,'.tbl_services\n",
    "where ServiceType in(\"Nursing\",\"Residential\") AND FORMAT_DATETIME(\"%d-%b-%Y\",tbl_services_start_date) NOT IN  (\"04-Apr-2016\") AND FORMAT_DATETIME(\"%d-%b-%Y\",tbl_services_start_date) NOT IN (\"25-Jul-2016\") AND FORMAT_DATETIME(\"%d-%b-%Y\",tbl_services_start_date) NOT IN (\"22-Aug-2016\")),\n",
    "\n",
    "b as (\n",
    "select \n",
    "* \n",
    "from a\n",
    "where care_seq = 1\n",
    "order by person_id, tbl_services_start_date),\n",
    "\n",
    "c as (SELECT person_id, tbl_Services_end_date, servicetype, row_number() over (partition by person_id order by tbl_services_end_date desc) as care_end_seq from ',targetdb2,'.tbl_services\n",
    "where ServiceType in(\"Nursing\",\"Residential\") AND FORMAT_DATETIME(\"%d-%b-%Y\",tbl_services_start_date) not in (\"04-Apr-2016\") AND FORMAT_DATETIME(\"%d-%b-%Y\",tbl_services_start_date) != \"25-Jul-2016\" AND FORMAT_DATETIME(\"%d-%b-%Y\",tbl_services_start_date) != \"22-Aug-2016\"),\n",
    "\n",
    "d as (select\n",
    "* from c \n",
    "where care_end_seq = 1),\n",
    "\n",
    "e as (\n",
    "select \n",
    "b.person_id,\n",
    "b.tbl_services_start_date as first_episodestartdate,\n",
    "d.tbl_services_end_date as last_episodestopdate,\n",
    "b.ServiceType as admission_service,\n",
    "b.finalisedPSR\n",
    "from b \n",
    "LEFT join d on\n",
    "b.person_id= d.person_id\n",
    "order by person_id),\n",
    "\n",
    "f as (\n",
    "Select \n",
    "e.*,\n",
    "datetime_diff(e.last_episodestopdate,e.first_episodestartdate,day) as admission_length\n",
    "from e\n",
    "where datetime_diff(e.last_episodestopdate,e.first_episodestartdate,day) > 42),\n",
    "\n",
    "h as (\n",
    "SELECT\n",
    "f.*,\n",
    "g.birth_datetime,\n",
    "g.death_datetime,\n",
    "g.ethnicity_source_value,\n",
    "g.gender_source_value\n",
    "FROM f \n",
    "LEFT JOIN ',targetdb2,'.person g on\n",
    "f.person_id = g.person_id)\n",
    "\n",
    "select\n",
    "DATE_DIFF(first_episodestartdate, birth_datetime, YEAR) as age_admission,\n",
    "h.*,\n",
    "from h\n",
    "where DATE_DIFF(first_episodestartdate, birth_datetime, YEAR) >= 65 and person_id not in(select person_id from ',targetdb1,'.temp_cb_2172_ch_cohort_missing_data)\n",
    "order by age_admission desc) ;',sep=\"\")\n",
    "\n",
    "tbl_cohort <- bq_project_query(ProjectId,sql_cohort)\n",
    "\n",
    "ch_cohort <- bq_table_download(tbl_cohort)\n",
    "\n",
    "head(ch_cohort)"
   ]
  }
 ],
 "metadata": {
  "environment": {
   "kernel": "conda-env-R-r",
   "name": "workbench-notebooks.m113",
   "type": "gcloud",
   "uri": "gcr.io/deeplearning-platform-release/workbench-notebooks:m113"
  },
  "kernelspec": {
   "display_name": "R (Local)",
   "language": "R",
   "name": "conda-env-R-r"
  },
  "language_info": {
   "codemirror_mode": "r",
   "file_extension": ".r",
   "mimetype": "text/x-r-source",
   "name": "R",
   "pygments_lexer": "r",
   "version": "4.3.2"
  }
 },
 "nbformat": 4,
 "nbformat_minor": 5
}
